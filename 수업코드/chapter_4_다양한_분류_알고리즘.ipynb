{
  "nbformat": 4,
  "nbformat_minor": 0,
  "metadata": {
    "colab": {
      "name": "chapter 4. 다양한 분류 알고리즘",
      "provenance": [],
      "collapsed_sections": []
    },
    "kernelspec": {
      "name": "python3",
      "display_name": "Python 3"
    },
    "language_info": {
      "name": "python"
    }
  },
  "cells": [
    {
      "cell_type": "markdown",
      "metadata": {
        "id": "7NUOdNctnABc"
      },
      "source": [
        "# **chapter04 다양한 분류 알고리즘**\n",
        "\n",
        "## **04-1 로지스틱 회귀**\n",
        "\n",
        "\n",
        "럭키백의 확률을 계산하라!"
      ]
    },
    {
      "cell_type": "code",
      "metadata": {
        "colab": {
          "base_uri": "https://localhost:8080/",
          "height": 204
        },
        "id": "RLCoTMwUnF-l",
        "outputId": "7651a248-a763-48d1-ef82-73ae3ba0416f"
      },
      "source": [
        "# 데이터 준비하기\n",
        "\n",
        "import pandas as pd\n",
        "fish = pd.read_csv('http://bit.ly/fish_csv')\n",
        "fish.head()"
      ],
      "execution_count": 10,
      "outputs": [
        {
          "output_type": "execute_result",
          "data": {
            "text/html": [
              "<div>\n",
              "<style scoped>\n",
              "    .dataframe tbody tr th:only-of-type {\n",
              "        vertical-align: middle;\n",
              "    }\n",
              "\n",
              "    .dataframe tbody tr th {\n",
              "        vertical-align: top;\n",
              "    }\n",
              "\n",
              "    .dataframe thead th {\n",
              "        text-align: right;\n",
              "    }\n",
              "</style>\n",
              "<table border=\"1\" class=\"dataframe\">\n",
              "  <thead>\n",
              "    <tr style=\"text-align: right;\">\n",
              "      <th></th>\n",
              "      <th>Species</th>\n",
              "      <th>Weight</th>\n",
              "      <th>Length</th>\n",
              "      <th>Diagonal</th>\n",
              "      <th>Height</th>\n",
              "      <th>Width</th>\n",
              "    </tr>\n",
              "  </thead>\n",
              "  <tbody>\n",
              "    <tr>\n",
              "      <th>0</th>\n",
              "      <td>Bream</td>\n",
              "      <td>242.0</td>\n",
              "      <td>25.4</td>\n",
              "      <td>30.0</td>\n",
              "      <td>11.5200</td>\n",
              "      <td>4.0200</td>\n",
              "    </tr>\n",
              "    <tr>\n",
              "      <th>1</th>\n",
              "      <td>Bream</td>\n",
              "      <td>290.0</td>\n",
              "      <td>26.3</td>\n",
              "      <td>31.2</td>\n",
              "      <td>12.4800</td>\n",
              "      <td>4.3056</td>\n",
              "    </tr>\n",
              "    <tr>\n",
              "      <th>2</th>\n",
              "      <td>Bream</td>\n",
              "      <td>340.0</td>\n",
              "      <td>26.5</td>\n",
              "      <td>31.1</td>\n",
              "      <td>12.3778</td>\n",
              "      <td>4.6961</td>\n",
              "    </tr>\n",
              "    <tr>\n",
              "      <th>3</th>\n",
              "      <td>Bream</td>\n",
              "      <td>363.0</td>\n",
              "      <td>29.0</td>\n",
              "      <td>33.5</td>\n",
              "      <td>12.7300</td>\n",
              "      <td>4.4555</td>\n",
              "    </tr>\n",
              "    <tr>\n",
              "      <th>4</th>\n",
              "      <td>Bream</td>\n",
              "      <td>430.0</td>\n",
              "      <td>29.0</td>\n",
              "      <td>34.0</td>\n",
              "      <td>12.4440</td>\n",
              "      <td>5.1340</td>\n",
              "    </tr>\n",
              "  </tbody>\n",
              "</table>\n",
              "</div>"
            ],
            "text/plain": [
              "  Species  Weight  Length  Diagonal   Height   Width\n",
              "0   Bream   242.0    25.4      30.0  11.5200  4.0200\n",
              "1   Bream   290.0    26.3      31.2  12.4800  4.3056\n",
              "2   Bream   340.0    26.5      31.1  12.3778  4.6961\n",
              "3   Bream   363.0    29.0      33.5  12.7300  4.4555\n",
              "4   Bream   430.0    29.0      34.0  12.4440  5.1340"
            ]
          },
          "metadata": {
            "tags": []
          },
          "execution_count": 10
        }
      ]
    },
    {
      "cell_type": "markdown",
      "metadata": {
        "id": "yBi0wW8Xnpdc"
      },
      "source": [
        "**데이터 프레임이 뭔가요?**\n",
        "\n",
        "2차원표 형식의 주요 데이터 구조 \n",
        "\n",
        "통계와 그래프를 위한 메서드를 풍부하게 제공하며, 넘파이로 상호변환이 쉽고 사이킷런과도 잘 호환됨:)"
      ]
    },
    {
      "cell_type": "code",
      "metadata": {
        "colab": {
          "base_uri": "https://localhost:8080/"
        },
        "id": "csFAUrhdnWcm",
        "outputId": "a3d09c9c-bbc5-461f-a42b-1717887c027b"
      },
      "source": [
        "print(pd.unique(fish['Species']))  # Species열에서 고유값 추출 - 판다스의 unique()함수를 사용"
      ],
      "execution_count": 11,
      "outputs": [
        {
          "output_type": "stream",
          "text": [
            "['Bream' 'Roach' 'Whitefish' 'Parkki' 'Perch' 'Pike' 'Smelt']\n"
          ],
          "name": "stdout"
        }
      ]
    },
    {
      "cell_type": "code",
      "metadata": {
        "id": "ZM2hrFdPoKyV"
      },
      "source": [
        "fish_input = fish[['Weight', 'Length', 'Diagonal', 'Height', 'Width']].to_numpy()  \n",
        "# 넘파이 배열로 바꾸어 fish_iput에 저장"
      ],
      "execution_count": 4,
      "outputs": []
    },
    {
      "cell_type": "code",
      "metadata": {
        "colab": {
          "base_uri": "https://localhost:8080/"
        },
        "id": "u89lXVdNokuj",
        "outputId": "53eb5ffe-75e9-42f4-aaa0-667143542de5"
      },
      "source": [
        "print(fish_input[:5])  # fish_input에 5개의 행 출력"
      ],
      "execution_count": 5,
      "outputs": [
        {
          "output_type": "stream",
          "text": [
            "[[242.      25.4     30.      11.52     4.02  ]\n",
            " [290.      26.3     31.2     12.48     4.3056]\n",
            " [340.      26.5     31.1     12.3778   4.6961]\n",
            " [363.      29.      33.5     12.73     4.4555]\n",
            " [430.      29.      34.      12.444    5.134 ]]\n"
          ],
          "name": "stdout"
        }
      ]
    },
    {
      "cell_type": "code",
      "metadata": {
        "id": "yFN3OYKBo8EB"
      },
      "source": [
        "fish_target = fish['Species'].to_numpy()   # 넘파이 배열로 바꾸어 fish_target에 저장"
      ],
      "execution_count": 6,
      "outputs": []
    },
    {
      "cell_type": "code",
      "metadata": {
        "id": "7Dh1-sevp1Zq"
      },
      "source": [
        "from sklearn.model_selection import train_test_split  # 훈련 세트와 테스트 세트로 나눔\n",
        "train_input, test_input, train_target, test_target = train_test_split(fish_input, fish_target, random_state=42)"
      ],
      "execution_count": 9,
      "outputs": []
    },
    {
      "cell_type": "code",
      "metadata": {
        "id": "mlQg0JKSquVL"
      },
      "source": [
        "from sklearn.preprocessing import StandardScaler  # 훈련세트와 테스트 세트를 표준화 전처리하기\n",
        "ss = StandardScaler()\n",
        "ss.fit(train_input)\n",
        "train_scaled = ss.transform(train_input)\n",
        "test_scaled = ss.transform(test_input)"
      ],
      "execution_count": 13,
      "outputs": []
    },
    {
      "cell_type": "markdown",
      "metadata": {
        "id": "1CGvYxelrRKU"
      },
      "source": [
        "k-최근접 이웃 분류기의 확률 예측"
      ]
    },
    {
      "cell_type": "code",
      "metadata": {
        "colab": {
          "base_uri": "https://localhost:8080/"
        },
        "id": "6TkQw5dQrVsx",
        "outputId": "a9a8b241-78c8-4c1f-b134-2503da3c07b0"
      },
      "source": [
        "from sklearn.neighbors import KNeighborsClassifier  # KNeighborsClassifier 클래스 객체 만들고 훈련 세트와 테스트 세트 확인\n",
        "kn = KNeighborsClassifier(n_neighbors=3) # 최근접 이웃 개수 k를 3으로 지정         \n",
        "kn.fit(train_scaled, train_target)\n",
        "print(kn.score(train_scaled, train_target))\n",
        "print(kn.score(test_scaled, test_target))"
      ],
      "execution_count": 14,
      "outputs": [
        {
          "output_type": "stream",
          "text": [
            "0.8907563025210085\n",
            "0.85\n"
          ],
          "name": "stdout"
        }
      ]
    },
    {
      "cell_type": "code",
      "metadata": {
        "colab": {
          "base_uri": "https://localhost:8080/"
        },
        "id": "iu6mHP63rmee",
        "outputId": "fa46acab-7264-4909-92d2-fdf3b7804674"
      },
      "source": [
        "print(kn.classes_)  # KNeighborsClassifier에서 정렬된 타깃값은 classes_속성에 저장"
      ],
      "execution_count": 15,
      "outputs": [
        {
          "output_type": "stream",
          "text": [
            "['Bream' 'Parkki' 'Perch' 'Pike' 'Roach' 'Smelt' 'Whitefish']\n"
          ],
          "name": "stdout"
        }
      ]
    },
    {
      "cell_type": "code",
      "metadata": {
        "colab": {
          "base_uri": "https://localhost:8080/"
        },
        "id": "P2nIsfp9sDvb",
        "outputId": "e86e5e32-eb43-4519-ebec-0b37d99dfd0c"
      },
      "source": [
        "print(kn.predict(test_scaled[:5]))  # predict() 메서드는 친절하게 타깃값으로 예측을 출력, 처음 5개 샘플의 타깃값을 예측"
      ],
      "execution_count": 16,
      "outputs": [
        {
          "output_type": "stream",
          "text": [
            "['Perch' 'Smelt' 'Pike' 'Perch' 'Perch']\n"
          ],
          "name": "stdout"
        }
      ]
    },
    {
      "cell_type": "code",
      "metadata": {
        "colab": {
          "base_uri": "https://localhost:8080/"
        },
        "id": "cb0GM02LsQCM",
        "outputId": "667fc1b5-c8ce-49a5-ab09-df590b2fa964"
      },
      "source": [
        "import numpy as np\n",
        "proba = kn.predict_proba(test_scaled[:5])  # classes_속상과 같은 predict_proba()\n",
        "print(np.round(proba, decimals=4))"
      ],
      "execution_count": 17,
      "outputs": [
        {
          "output_type": "stream",
          "text": [
            "[[0.     0.     1.     0.     0.     0.     0.    ]\n",
            " [0.     0.     0.     0.     0.     1.     0.    ]\n",
            " [0.     0.     0.     1.     0.     0.     0.    ]\n",
            " [0.     0.     0.6667 0.     0.3333 0.     0.    ]\n",
            " [0.     0.     0.6667 0.     0.3333 0.     0.    ]]\n"
          ],
          "name": "stdout"
        }
      ]
    },
    {
      "cell_type": "code",
      "metadata": {
        "colab": {
          "base_uri": "https://localhost:8080/"
        },
        "id": "cuO2lyFxtKNS",
        "outputId": "f952d4a0-485b-4e1f-c064-ea8ed8b708cd"
      },
      "source": [
        "distances, indexes = kn.kneighbors(test_scaled[3:4])\n",
        "print(train_target[indexes])"
      ],
      "execution_count": 18,
      "outputs": [
        {
          "output_type": "stream",
          "text": [
            "[['Roach' 'Perch' 'Perch']]\n"
          ],
          "name": "stdout"
        }
      ]
    },
    {
      "cell_type": "markdown",
      "metadata": {
        "id": "vVw9s9In0eyL"
      },
      "source": [
        "# **로지스틱 회귀**"
      ]
    },
    {
      "cell_type": "code",
      "metadata": {
        "colab": {
          "base_uri": "https://localhost:8080/",
          "height": 279
        },
        "id": "4LkrY4IEqahi",
        "outputId": "04e6c5b0-11af-45b1-f1cf-3de3ebddbf65"
      },
      "source": [
        "import numpy as np\n",
        "import matplotlib.pyplot as plt\n",
        "z = np.arange(-5, 5, 0.1)\n",
        "phi = 1 / (1+np.exp(-z))\n",
        "plt.plot(z, phi)\n",
        "plt.xlabel('z')\n",
        "plt.ylabel('phi')\n",
        "plt.show()"
      ],
      "execution_count": 19,
      "outputs": [
        {
          "output_type": "display_data",
          "data": {
            "image/png": "[encoded data removed]",
            "text/plain": [
              "<Figure size 432x288 with 1 Axes>"
            ]
          },
          "metadata": {
            "tags": [],
            "needs_background": "light"
          }
        }
      ]
    },
    {
      "cell_type": "markdown",
      "metadata": {
        "id": "aXy_UXZd2KGK"
      },
      "source": [
        "## **로지스틱 회귀로 이진 분류 수행하기**\n",
        "\n",
        "이진분류인 경우 시그모이드 함수의 출력이 \n",
        "\n",
        "'>0.5 양성클래스, <0.5 음성 클래스 \n",
        "\n",
        "'=0.5일 경우 라이브러리마다 다르다! 사이킷런은 음성\n",
        "\n",
        "**불리언 인덱싱(boolean indexing) = 넘파이 배열은 True, False 값**"
      ]
    },
    {
      "cell_type": "code",
      "metadata": {
        "colab": {
          "base_uri": "https://localhost:8080/"
        },
        "id": "hVcDfKdw07Nl",
        "outputId": "8431a344-afee-47fa-b811-90376fd0f1c2"
      },
      "source": [
        "# 불리언 인덱싱(boolean indexing)\n",
        "# 5개의 원소로 이루어진 배열 중 A, C 만 골라내기\n",
        "char_arr = np.array(['A', 'B', 'C', 'D', 'E'])\n",
        "print(char_arr[[True, False, True, False, False]])"
      ],
      "execution_count": 20,
      "outputs": [
        {
          "output_type": "stream",
          "text": [
            "['A' 'C']\n"
          ],
          "name": "stdout"
        }
      ]
    },
    {
      "cell_type": "code",
      "metadata": {
        "id": "_-_8bCqU3Sh1"
      },
      "source": [
        "# 불리언 인덱싱으로 도미(Bream)와 빙어(Smelt)의 행만 골라내기\n",
        "# 비교 결과를 비트 or 연산자(|)를 사용해 합치면 골라낼 수 있다.\n",
        "bream_smelt_indexes = (train_target == 'Bream') | (train_target == 'Smelt')\n",
        "train_bream_smelt = train_scaled[bream_smelt_indexes]\n",
        "target_bream_smelt = train_target[bream_smelt_indexes]\n",
        "\n",
        "# bream_smelt_indexes 배열은 도미와 비어일 경우 True, 그 외에는 False"
      ],
      "execution_count": 21,
      "outputs": []
    },
    {
      "cell_type": "code",
      "metadata": {
        "colab": {
          "base_uri": "https://localhost:8080/"
        },
        "id": "fLyi4dbJ3oZD",
        "outputId": "877f95d2-505e-4115-9e5c-099bd2cfcc09"
      },
      "source": [
        "# 도미와 빙어만 골라낸 데이터로 로지스틱 회귀 모델 훈련하기\n",
        "# LogisticRegression 클래스는 선형 모델이므로 sklearn.linear_model 패키지에 존재\n",
        "\n",
        "from sklearn.linear_model import LogisticRegression\n",
        "lr = LogisticRegression()\n",
        "lr.fit(train_bream_smelt, target_bream_smelt)"
      ],
      "execution_count": 24,
      "outputs": [
        {
          "output_type": "execute_result",
          "data": {
            "text/plain": [
              "LogisticRegression(C=1.0, class_weight=None, dual=False, fit_intercept=True,\n",
              "                   intercept_scaling=1, l1_ratio=None, max_iter=100,\n",
              "                   multi_class='auto', n_jobs=None, penalty='l2',\n",
              "                   random_state=None, solver='lbfgs', tol=0.0001, verbose=0,\n",
              "                   warm_start=False)"
            ]
          },
          "metadata": {
            "tags": []
          },
          "execution_count": 24
        }
      ]
    },
    {
      "cell_type": "code",
      "metadata": {
        "colab": {
          "base_uri": "https://localhost:8080/"
        },
        "id": "pepWHWhj4W-E",
        "outputId": "7e90227e-984e-4eb2-818a-a3a0c1ec5c9f"
      },
      "source": [
        "# 훈련한 모델을 사용해 처음 5개 샘플 예측하기\n",
        "print(lr.predict(train_bream_smelt[:5]))"
      ],
      "execution_count": 25,
      "outputs": [
        {
          "output_type": "stream",
          "text": [
            "['Bream' 'Smelt' 'Bream' 'Bream' 'Bream']\n"
          ],
          "name": "stdout"
        }
      ]
    },
    {
      "cell_type": "code",
      "metadata": {
        "colab": {
          "base_uri": "https://localhost:8080/"
        },
        "id": "5xRdUjxr4n3M",
        "outputId": "0ec09686-4015-448a-cd18-4dfa9f2586b1"
      },
      "source": [
        "# predict_proba() 메서드를 통해 5개 샘플에 대한 예측 확률 출력\n",
        "# 첫번째 열이 음성클래스(0)에 대한 확률, 두번째 열이 양성큻래스(1)\n",
        "print(lr.predict_proba(train_bream_smelt[:5]))"
      ],
      "execution_count": 26,
      "outputs": [
        {
          "output_type": "stream",
          "text": [
            "[[0.99759855 0.00240145]\n",
            " [0.02735183 0.97264817]\n",
            " [0.99486072 0.00513928]\n",
            " [0.98584202 0.01415798]\n",
            " [0.99767269 0.00232731]]\n"
          ],
          "name": "stdout"
        }
      ]
    },
    {
      "cell_type": "code",
      "metadata": {
        "colab": {
          "base_uri": "https://localhost:8080/"
        },
        "id": "eGuvsIIu4tHE",
        "outputId": "bf5e092e-f9ec-4150-d991-796ea5707f89"
      },
      "source": [
        "# 첫번째 열 0은 뭐고 1은 뭘까.\n",
        "# 사이킷런은 타깃값을 알파벳순으로 정렬하여 사용- 속성확인으로 확인해보자\n",
        "print(lr.classes_)"
      ],
      "execution_count": 27,
      "outputs": [
        {
          "output_type": "stream",
          "text": [
            "['Bream' 'Smelt']\n"
          ],
          "name": "stdout"
        }
      ]
    },
    {
      "cell_type": "code",
      "metadata": {
        "colab": {
          "base_uri": "https://localhost:8080/"
        },
        "id": "YG0aX_4o4vqM",
        "outputId": "aab704f4-4d52-4462-8b22-79acd4a8a35c"
      },
      "source": [
        "# 선형 회귀처럼 로지스틱 회귀가 학습한 계수 확인하기\n",
        "print(lr.coef_, lr.intercept_)"
      ],
      "execution_count": 28,
      "outputs": [
        {
          "output_type": "stream",
          "text": [
            "[[-0.4037798  -0.57620209 -0.66280298 -1.01290277 -0.73168947]] [-2.16155132]\n"
          ],
          "name": "stdout"
        }
      ]
    },
    {
      "cell_type": "code",
      "metadata": {
        "colab": {
          "base_uri": "https://localhost:8080/"
        },
        "id": "452BCTn040OE",
        "outputId": "9bba22be-4019-4594-d5d2-12f7a814dd7a"
      },
      "source": [
        "# LogisticRegression 클래스는 decision_function()메서드로 z값을 출력할 수 있다!\n",
        "# 처음 5개 샘플의 z 값을 출력해보자\n",
        "\n",
        "decisions = lr.decision_function(train_bream_smelt[:5])\n",
        "print(decisions)"
      ],
      "execution_count": 29,
      "outputs": [
        {
          "output_type": "stream",
          "text": [
            "[-6.02927744  3.57123907 -5.26568906 -4.24321775 -6.0607117 ]\n"
          ],
          "name": "stdout"
        }
      ]
    },
    {
      "cell_type": "code",
      "metadata": {
        "id": "cpOjO3RTjVbN"
      },
      "source": [
        "# 이 z 값을 시그모이드 함수에 통과시키면 확률을 얻을 수 있음\n",
        "# 다행히 파이썬의 사이파이(scipy) 라이브러리에도 시그모이드 함수-expit() 함수가 있음.\n",
        "# np.exp()함수를 사용해 분수 계산을 하는 것보다 훨씬 편리하고 안전함"
      ],
      "execution_count": null,
      "outputs": []
    },
    {
      "cell_type": "code",
      "metadata": {
        "colab": {
          "base_uri": "https://localhost:8080/"
        },
        "id": "jpHEo-Uu45Qk",
        "outputId": "954d605c-e584-4453-d76f-b2bfd14970af"
      },
      "source": [
        "from scipy.special import expit\n",
        "print(expit(decisions))"
      ],
      "execution_count": 30,
      "outputs": [
        {
          "output_type": "stream",
          "text": [
            "[0.00240145 0.97264817 0.00513928 0.01415798 0.00232731]\n"
          ],
          "name": "stdout"
        }
      ]
    },
    {
      "cell_type": "code",
      "metadata": {
        "id": "TC1EshTCjzfP"
      },
      "source": [
        "# 출력된 값을 보면 predict_proba() 메서드 출력의 두 번째 열의 값과 동일함\n",
        "# 즉, decision_function() 메서드는 양성 클래스에 대한 z 값을 반환함\n",
        "\n"
      ],
      "execution_count": null,
      "outputs": []
    },
    {
      "cell_type": "markdown",
      "metadata": {
        "id": "KDg1nWYT5iYs"
      },
      "source": [
        "## **로지스틱 회귀로 다중 분류 수행하기**\n",
        "\n",
        "이진분류와의 차이점을 알아보자\n",
        "\n",
        "LogisticRegression 클래스는 기본적으로 반복적인 알고리즘을 사용함.\n",
        "\n",
        " - max_iter 매개변수에서 반복횟수를 지정(100은 부족, 1,000으로 변경)\n",
        "\n",
        "\n",
        "LogisticRegresiion은 기본적으로 릿지 회귀와 같이 계수로 제곱을 규제함\n",
        "\n",
        " - 이런 규제를 'L2 규제'라고 함.\n",
        "\n",
        " - 매개변수 C, 작을수록 규제가 커짐. C의 기본값은 1"
      ]
    },
    {
      "cell_type": "code",
      "metadata": {
        "colab": {
          "base_uri": "https://localhost:8080/"
        },
        "id": "qLa0wEfW4-yb",
        "outputId": "9ca34796-40c9-44d2-cb0e-2b5d3dec7655"
      },
      "source": [
        "# 규제를 완화하기 위해 C를 20으로 늘림\n",
        "# 7개의 생선 데이터가 모두 들어있는 리스트 사용\n",
        "lr = LogisticRegression(C=20, max_iter=1000)\n",
        "lr.fit(train_scaled, train_target)\n",
        "print(lr.score(train_scaled, train_target))\n",
        "print(lr.score(test_scaled, test_target))"
      ],
      "execution_count": 31,
      "outputs": [
        {
          "output_type": "stream",
          "text": [
            "0.9327731092436975\n",
            "0.925\n"
          ],
          "name": "stdout"
        }
      ]
    },
    {
      "cell_type": "code",
      "metadata": {
        "colab": {
          "base_uri": "https://localhost:8080/"
        },
        "id": "yxmN4cky7YUA",
        "outputId": "68e78d93-ada5-4e09-aaaf-91cebaf50dfb"
      },
      "source": [
        "# 훈련 세트와 테스트 세트가 과대적합이나 과소적합이 아닌 것으로 보여짐.\n",
        "# 테스트 세트의 처음 5개 샘플에 대한 예측 출력\n",
        "print(lr.predict(test_scaled[:5]))"
      ],
      "execution_count": 32,
      "outputs": [
        {
          "output_type": "stream",
          "text": [
            "['Perch' 'Smelt' 'Pike' 'Roach' 'Perch']\n"
          ],
          "name": "stdout"
        }
      ]
    },
    {
      "cell_type": "code",
      "metadata": {
        "colab": {
          "base_uri": "https://localhost:8080/"
        },
        "id": "AE66H1Ts7b_D",
        "outputId": "992eea4d-0e99-4e73-d65a-d694d4040534"
      },
      "source": [
        "# 처음 5개 샘플에 대한 예측 확률을 출력\n",
        "# 출력을 간소하게 하기 위해 소수점 네번째 자리에서 반올림\n",
        "proba = lr.predict_proba(test_scaled[:5])\n",
        "print(np.round(proba, decimals=3))"
      ],
      "execution_count": 33,
      "outputs": [
        {
          "output_type": "stream",
          "text": [
            "[[0.    0.014 0.841 0.    0.136 0.007 0.003]\n",
            " [0.    0.003 0.044 0.    0.007 0.946 0.   ]\n",
            " [0.    0.    0.034 0.935 0.015 0.016 0.   ]\n",
            " [0.011 0.034 0.306 0.007 0.567 0.    0.076]\n",
            " [0.    0.    0.904 0.002 0.089 0.002 0.001]]\n"
          ],
          "name": "stdout"
        }
      ]
    },
    {
      "cell_type": "code",
      "metadata": {
        "colab": {
          "base_uri": "https://localhost:8080/"
        },
        "id": "rZPlqkOO7hpD",
        "outputId": "e68a176d-020c-413d-cb3a-ae446b9d2c57"
      },
      "source": [
        "# 7개 생선에 대한 확률이므로 7개의 열이 출력됨.\n",
        "\n",
        "# 출력한 5개 샘플들의 클래스 정보 확인하기\n",
        "print(lr.classes_)"
      ],
      "execution_count": 34,
      "outputs": [
        {
          "output_type": "stream",
          "text": [
            "['Bream' 'Parkki' 'Perch' 'Pike' 'Roach' 'Smelt' 'Whitefish']\n"
          ],
          "name": "stdout"
        }
      ]
    },
    {
      "cell_type": "code",
      "metadata": {
        "colab": {
          "base_uri": "https://localhost:8080/"
        },
        "id": "j0EpoRiM76ts",
        "outputId": "3807054d-6c46-4201-f520-68012c13657a"
      },
      "source": [
        "# 다중 분류일 경우 선형 방정식은 어떠한 모습일까?\n",
        "# coef_intercept_의 크기를 출력해보자\n",
        "print(lr.coef_.shape, lr.intercept_.shape)"
      ],
      "execution_count": 35,
      "outputs": [
        {
          "output_type": "stream",
          "text": [
            "(7, 5) (7,)\n"
          ],
          "name": "stdout"
        }
      ]
    },
    {
      "cell_type": "code",
      "metadata": {
        "colab": {
          "base_uri": "https://localhost:8080/"
        },
        "id": "QhogBQUL7--s",
        "outputId": "b6513d12-784d-4999-cebe-5dcbd3c5b3e0"
      },
      "source": [
        "decision = lr.decision_function(test_scaled[:5])\n",
        "print(np.round(decision, decimals=2))"
      ],
      "execution_count": 36,
      "outputs": [
        {
          "output_type": "stream",
          "text": [
            "[[ -6.5    1.03   5.16  -2.73   3.34   0.33  -0.63]\n",
            " [-10.86   1.93   4.77  -2.4    2.98   7.84  -4.26]\n",
            " [ -4.34  -6.23   3.17   6.49   2.36   2.42  -3.87]\n",
            " [ -0.68   0.45   2.65  -1.19   3.26  -5.75   1.26]\n",
            " [ -6.4   -1.99   5.82  -0.11   3.5   -0.11  -0.71]]\n"
          ],
          "name": "stdout"
        }
      ]
    },
    {
      "cell_type": "code",
      "metadata": {
        "id": "ujmw8hJVnHS-"
      },
      "source": [
        "# 5개 특성을 사용하므로 coef_배열의 열은 5개다\n",
        "# 행이 7개란 말은 이진 분류에서 보았던 z를 7개나 계산한다.\n",
        "# 다중 분류는 클래스마다 z 값을 하나씩 계산한다. \n",
        "\n",
        "# 이진 분류는 z를 0~1사이의 값으로 변환, \n",
        "# 다중 분류는 소프트맥스함수를 사용하여 7개의 z값을 확률로 변환함."
      ],
      "execution_count": null,
      "outputs": []
    },
    {
      "cell_type": "code",
      "metadata": {
        "colab": {
          "base_uri": "https://localhost:8080/"
        },
        "id": "SHQ-cCk68F6V",
        "outputId": "13ebc74c-bcb8-4ab9-fe7c-1e6de9b2b2c8"
      },
      "source": [
        "# 사이파이는 소프트맥스 함수도 제공함\n",
        "# scipy.special 아래에 softmax() 함수를 임포트해 사용함\n",
        "from scipy.special import softmax\n",
        "proba = softmax(decision, axis=1)\n",
        "print(np.round(proba, decimals=3))"
      ],
      "execution_count": 37,
      "outputs": [
        {
          "output_type": "stream",
          "text": [
            "[[0.    0.014 0.841 0.    0.136 0.007 0.003]\n",
            " [0.    0.003 0.044 0.    0.007 0.946 0.   ]\n",
            " [0.    0.    0.034 0.935 0.015 0.016 0.   ]\n",
            " [0.011 0.034 0.306 0.007 0.567 0.    0.076]\n",
            " [0.    0.    0.904 0.002 0.089 0.002 0.001]]\n"
          ],
          "name": "stdout"
        }
      ]
    },
    {
      "cell_type": "code",
      "metadata": {
        "id": "EP9CIgfEpzg0"
      },
      "source": [
        "# decision 배열을 softmax() 함수에 전달함\n",
        "# softmax() 의 axis 매개변수는 소프트 맥스를 계산할 축을 지정\n",
        "# 만약 axis 매개변수를 지정하지 않으면 배열 전체에 대한 소프트 맥스를 계산함. "
      ],
      "execution_count": null,
      "outputs": []
    },
    {
      "cell_type": "markdown",
      "metadata": {
        "id": "eTR92tGzBV6E"
      },
      "source": [
        "##**04-2 확률적 경사 하강법**\n",
        "\n",
        "\n",
        "**SGDClassifier**"
      ]
    },
    {
      "cell_type": "code",
      "metadata": {
        "id": "GTrxcDGNqSbq"
      },
      "source": [
        "import pandas as pd  # fish_csv_data 파일에서 판다스 데이터프레임을 만듦\n",
        "fish = pd.read_csv('https://bit.ly/fish_csv')"
      ],
      "execution_count": 38,
      "outputs": []
    },
    {
      "cell_type": "code",
      "metadata": {
        "id": "HksIAft8PYUI"
      },
      "source": [
        "# Species 열을 제외한 나머지 5개 입력 데이터로 사용. Species 열은 타깃데이터임.\n",
        "fish_input = fish[['Weight', 'Length', 'Diagonal', 'Height', 'Width']].to_numpy()\n",
        "fish_target = fish['Species'].to_numpy()"
      ],
      "execution_count": 39,
      "outputs": []
    },
    {
      "cell_type": "code",
      "metadata": {
        "id": "I-drqhjGP4aH"
      },
      "source": [
        "# 사이킷런의 train_test_split() 함수를 사용해 훈련 세트와 테스트 세트로 나눔\n",
        "from sklearn.model_selection import train_test_split\n",
        "train_input, test_input, train_target, test_target = train_test_split(fish_input, fish_target, random_state=42)"
      ],
      "execution_count": 40,
      "outputs": []
    },
    {
      "cell_type": "code",
      "metadata": {
        "id": "4iYujI81QWKI"
      },
      "source": [
        "# 훈련 세트와 테스트 세트의 특성을 표준화 전처리함\n",
        "from sklearn.preprocessing import StandardScaler\n",
        "ss = StandardScaler()\n",
        "ss.fit(train_input)\n",
        "train_scaled = ss.transform(train_input)\n",
        "test_scaled = ss.transform(test_input)"
      ],
      "execution_count": 41,
      "outputs": []
    },
    {
      "cell_type": "code",
      "metadata": {
        "id": "rm4F_wquQoEO"
      },
      "source": [
        "# 사이킷런에서 확률적 경사 하강법을 제공하는 대표적인 분류용 클래스 SGDClassifier\n",
        "from sklearn.linear_model import SGDClassifier"
      ],
      "execution_count": 42,
      "outputs": []
    },
    {
      "cell_type": "code",
      "metadata": {
        "colab": {
          "base_uri": "https://localhost:8080/"
        },
        "id": "CzzAufs1REhA",
        "outputId": "9f8b38b8-b23d-4c05-b0eb-f5dbd78ee416"
      },
      "source": [
        "# loss는 손실 함수의 종류 지정, loss='log'로 지정하여 로지스틱 손실 함수를 지정\n",
        "# max_iter는 수행해야할 에포크 횟수를 지정함\n",
        "sc = SGDClassifier(loss='log', max_iter=10, random_state=42)\n",
        "sc.fit(train_scaled, train_target)\n",
        "print(sc.score(train_scaled, train_target))\n",
        "print(sc.score(test_scaled, test_target))"
      ],
      "execution_count": 44,
      "outputs": [
        {
          "output_type": "stream",
          "text": [
            "0.773109243697479\n",
            "0.775\n"
          ],
          "name": "stdout"
        },
        {
          "output_type": "stream",
          "text": [
            "/usr/local/lib/python3.7/dist-packages/sklearn/linear_model/_stochastic_gradient.py:557: ConvergenceWarning: Maximum number of iteration reached before convergence. Consider increasing max_iter to improve the fit.\n",
            "  ConvergenceWarning)\n"
          ],
          "name": "stderr"
        }
      ]
    },
    {
      "cell_type": "markdown",
      "metadata": {
        "id": "ZjWG8ZtJRvBP"
      },
      "source": [
        "ConvergenceWarning경고 - 모델이 충분히 수렴하지 않았다고 경고를 보냄. \n",
        "\n",
        "이런 경고 시 max_iter 매개변수의 값을 늘려주는 것이 좋음."
      ]
    },
    {
      "cell_type": "code",
      "metadata": {
        "colab": {
          "base_uri": "https://localhost:8080/"
        },
        "id": "29cjz4xMR90u",
        "outputId": "6acce8e8-b443-4d3b-90ef-159ba74e6bc4"
      },
      "source": [
        "# 모델을 이어서 추가 훈련을 할 때에는 partial_fit() 메서도 사용\n",
        "sc.partial_fit(train_scaled, train_target)\n",
        "print(sc.score(train_scaled, train_target))\n",
        "print(sc.score(test_scaled, test_target)) "
      ],
      "execution_count": 45,
      "outputs": [
        {
          "output_type": "stream",
          "text": [
            "0.8151260504201681\n",
            "0.825\n"
          ],
          "name": "stdout"
        }
      ]
    },
    {
      "cell_type": "markdown",
      "metadata": {
        "id": "aJCUv5eZVRqA"
      },
      "source": [
        "**에포크와 과대/과소적합**"
      ]
    },
    {
      "cell_type": "code",
      "metadata": {
        "id": "vGD8HRqxSVE5"
      },
      "source": [
        "# 준비한 데이터 셋으로 그래프 만들기\n",
        "# partial_fit()메서드 사용하여 2개의 리스트 준비\n",
        "import numpy as np\n",
        "sc = SGDClassifier(loss='log', random_state=42)\n",
        "train_score =[]\n",
        "test_score = []\n",
        "classes = np.unique(train_target)"
      ],
      "execution_count": 47,
      "outputs": []
    },
    {
      "cell_type": "code",
      "metadata": {
        "id": "hwvMRlUlVu-_"
      },
      "source": [
        "# 300번의 에포크 동안 훈련을 반복하여 진행\n",
        "# 반복마다 훈련 세트와 테스트 세트의 점수를 계산하여 리스트에 추가\n",
        "for _ in range(0, 300):\n",
        "  sc.partial_fit(train_scaled, train_target, classes=classes)\n",
        "  train_score.append(sc.score(train_scaled, train_target))\n",
        "  test_score.append(sc.score(test_scaled, test_target))"
      ],
      "execution_count": 49,
      "outputs": []
    },
    {
      "cell_type": "code",
      "metadata": {
        "colab": {
          "base_uri": "https://localhost:8080/",
          "height": 279
        },
        "id": "4fzDrrPjWlCP",
        "outputId": "9a93004a-32c1-4706-e702-1ff69980af51"
      },
      "source": [
        "# 300번의 에포크 동안 기록한 점수 그래프로 그리기\n",
        "import matplotlib.pyplot as plt\n",
        "plt.plot(train_score)\n",
        "plt.plot(test_score)\n",
        "plt.xlabel('epoch')\n",
        "plt.ylabel('accuracy')\n",
        "plt.show()"
      ],
      "execution_count": 50,
      "outputs": [
        {
          "output_type": "display_data",
          "data": {
            "image/png": "[encoded data removed]",
            "text/plain": [
              "<Figure size 432x288 with 1 Axes>"
            ]
          },
          "metadata": {
            "tags": [],
            "needs_background": "light"
          }
        }
      ]
    },
    {
      "cell_type": "code",
      "metadata": {
        "id": "3w5LNKhmRq_X"
      },
      "source": [
        "# 데이터가 작기 때문에 잘 드러나지 않지만,\n",
        "# 백 번째 에포크 이후에는 훈련 세트와 테스트 세트의 점수가 조금씩 벌어짐.\n",
        "\n",
        "# SGDClassifier의 반복 횟수를 100에 맞추고 모델을 다시 훈련, 출력"
      ],
      "execution_count": 51,
      "outputs": []
    },
    {
      "cell_type": "code",
      "metadata": {
        "colab": {
          "base_uri": "https://localhost:8080/"
        },
        "id": "gaTXI6XqYL-f",
        "outputId": "53742f6e-9fed-4c09-c93a-aad666cf5f1e"
      },
      "source": [
        "sc = SGDClassifier(loss='log', max_iter=100, tol=None, random_state=42)\n",
        "sc.fit(train_scaled, train_target)\n",
        "print(sc.score(train_scaled, train_target))\n",
        "print(sc.score(test_scaled, test_target))"
      ],
      "execution_count": 52,
      "outputs": [
        {
          "output_type": "stream",
          "text": [
            "0.957983193277311\n",
            "0.925\n"
          ],
          "name": "stdout"
        }
      ]
    },
    {
      "cell_type": "code",
      "metadata": {
        "id": "i53LwkUEYcZ6"
      },
      "source": [
        "# 훈련 세트와 테스트 세트에서의 정확도 점수가 비교적 높게 나옴\n",
        "# 확률적 경사 하강법을 사용한 생선 분류 문제도 성공적으로 수행!\n",
        "\n",
        "# SGDClassifier의 loss 매개변수- 'hinge'\n",
        "# 힌지 손실(hinge loss), 서포트 벡터머신이라 불리는 또다른 머신러닝 알고리즘을 위한 손실함수 "
      ],
      "execution_count": 53,
      "outputs": []
    },
    {
      "cell_type": "code",
      "metadata": {
        "colab": {
          "base_uri": "https://localhost:8080/"
        },
        "id": "j5Dg5gkQY8CZ",
        "outputId": "79493219-281d-43b9-bc75-02369d2ba0d0"
      },
      "source": [
        "# 힌지 손실을 사용해 같은 반복 횟수 동안 모델을 훈련\n",
        "sc = SGDClassifier(loss='hinge', max_iter=100, tol=None, random_state=42)\n",
        "sc.fit(train_scaled, train_target)\n",
        "print(sc.score(train_scaled, train_target))\n",
        "print(sc.score(test_scaled, test_target))"
      ],
      "execution_count": 54,
      "outputs": [
        {
          "output_type": "stream",
          "text": [
            "0.9495798319327731\n",
            "0.925\n"
          ],
          "name": "stdout"
        }
      ]
    },
    {
      "cell_type": "code",
      "metadata": {
        "id": "aGJ8l3z-ZWL6"
      },
      "source": [
        ""
      ],
      "execution_count": null,
      "outputs": []
    },
    {
      "cell_type": "code",
      "metadata": {
        "id": "jO8Nb2gERm5r"
      },
      "source": [
        ""
      ],
      "execution_count": null,
      "outputs": []
    }
  ]
}