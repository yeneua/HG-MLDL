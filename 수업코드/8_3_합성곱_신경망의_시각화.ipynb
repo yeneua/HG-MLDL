{
  "nbformat": 4,
  "nbformat_minor": 0,
  "metadata": {
    "colab": {
      "provenance": [],
      "collapsed_sections": [],
      "include_colab_link": true
    },
    "kernelspec": {
      "name": "python3",
      "display_name": "Python 3"
    },
    "language_info": {
      "name": "python"
    }
  },
  "cells": [
    {
      "cell_type": "markdown",
      "metadata": {
        "id": "view-in-github",
        "colab_type": "text"
      },
      "source": [
        "<a href=\"https://colab.research.google.com/github/yeneua/HG-MLDL/blob/main/8_3_%ED%95%A9%EC%84%B1%EA%B3%B1_%EC%8B%A0%EA%B2%BD%EB%A7%9D%EC%9D%98_%EC%8B%9C%EA%B0%81%ED%99%94.ipynb\" target=\"_parent\"><img src=\"https://colab.research.google.com/assets/colab-badge.svg\" alt=\"Open In Colab\"/></a>"
      ]
    },
    {
      "cell_type": "markdown",
      "metadata": {
        "id": "eOCjM5cuX6Sn"
      },
      "source": [
        "# **8.3 합성곱 신경망의 시각화**\n",
        "\n",
        "\n",
        "*   가중치 시각화: 합성곱 층의 가중치를 이미지로 출력하는 것\n",
        " - 합성곱 신경망은 주로 이미지를 다루기 떄문에 가중치가 시각적인 패턴을 학습하는지 알아볼 수 있음.\n",
        "\n",
        "*   특성맵 시각화: 합성곱 층의 활성화 출력을 이미지로 그리는 것\n",
        " - 가중치 시각화와 함께 비교하여 각 필터가 이미지의 어느 부분을 활성화시키는지 확인할 수 있음.\n",
        "\n",
        "*   함수형 API: 케라스에서 신경망 모델을 만드는 방법 중 하나\n",
        " - Model 클래스에 모델의 입력과 출력을 지정함. \n",
        " - 전형적으로 입력은 Input() 함수를 사용하여 정의하고 출력은 마지막 층의 출력으로 정의함\n",
        "\n",
        "\n"
      ]
    },
    {
      "cell_type": "code",
      "metadata": {
        "colab": {
          "base_uri": "https://localhost:8080/"
        },
        "id": "SI9sGQ1Wg4tR",
        "outputId": "ff159a2c-4456-453f-db32-4efeb629cd16"
      },
      "source": [
        "# 가중치 시각화\n",
        "\n",
        "## 8.2 신경망 모델 ############################\n",
        "from tensorflow import keras\n",
        "from sklearn.model_selection import train_test_split\n",
        "import matplotlib.pyplot as plt\n",
        "import numpy as np\n",
        "\n",
        "(train_input, train_target), (test_input, test_target) =\\\n",
        "    keras.datasets.fashion_mnist.load_data()    # 훈련 세트와 테스트 세트로 나눔\n",
        "\n",
        "train_scaled = train_input.reshape(-1, 28, 28, 1) /255.0    # 데이터 스케일을 0~255에서 0~1사이로 바꿈\n",
        "\n",
        "train_scaled, val_scaled, train_target, val_target = train_test_split(\n",
        "    train_scaled, train_target, test_size=0.2, random_state=42) \n",
        "\n",
        "model = keras.Sequential() \n",
        "\n",
        "model.add(keras.layers.Conv2D(32, kernel_size=3, activation='relu', padding='same', input_shape=(28,28,1)))\n",
        "model.add(keras.layers.MaxPooling2D(2)) \n",
        "\n",
        "model.add(keras.layers.Conv2D(64, kernel_size=3, activation='relu', padding='same'))\n",
        "model.add(keras.layers.MaxPooling2D(2)) \n",
        "\n",
        "model.add(keras.layers.Flatten())       \n",
        "model.add(keras.layers.Dense(100, activation='relu'))   \n",
        "model.add(keras.layers.Dropout(0.4))    \n",
        "model.add(keras.layers.Dense(10, activation='softmax'))\n",
        "\n",
        "\n",
        "model.compile(optimizer='adam', loss='sparse_categorical_crossentropy', metrics='accuracy')\n",
        "checkpoint_cb = keras.callbacks.ModelCheckpoint('best-cnn-model.h5')\n",
        "early_stopping_cb = keras.callbacks.EarlyStopping(patience=2, restore_best_weights=True)\n",
        "history = model.fit(train_scaled, train_target, epochs=20,\n",
        "                    validation_data=(val_scaled, val_target),\n",
        "                    callbacks=[checkpoint_cb, early_stopping_cb])\n",
        "\n",
        "Classes = ['티셔츠', '바지', '스웨터', '드레스', '코트', '샌달', '셔츠', '스니커즈', '가방', '앵클 부츠']\n",
        "\n",
        "test_scaled = test_input.reshape(-1, 28, 28, 1) / 255.0\n",
        "test_scaled = test_input.reshape(-1, 28, 28, 1) / 255.0\n",
        "#################################################################################################"
      ],
      "execution_count": null,
      "outputs": [
        {
          "output_type": "stream",
          "text": [
            "Epoch 1/20\n",
            "1500/1500 [==============================] - 62s 41ms/step - loss: 0.5265 - accuracy: 0.8091 - val_loss: 0.3330 - val_accuracy: 0.8798\n",
            "Epoch 2/20\n",
            "1500/1500 [==============================] - 61s 41ms/step - loss: 0.3501 - accuracy: 0.8748 - val_loss: 0.2861 - val_accuracy: 0.8937\n",
            "Epoch 3/20\n",
            "1500/1500 [==============================] - 61s 41ms/step - loss: 0.2983 - accuracy: 0.8920 - val_loss: 0.2615 - val_accuracy: 0.9024\n",
            "Epoch 4/20\n",
            "1500/1500 [==============================] - 60s 40ms/step - loss: 0.2680 - accuracy: 0.9042 - val_loss: 0.2374 - val_accuracy: 0.9128\n",
            "Epoch 5/20\n",
            "1500/1500 [==============================] - 60s 40ms/step - loss: 0.2474 - accuracy: 0.9106 - val_loss: 0.2322 - val_accuracy: 0.9157\n",
            "Epoch 6/20\n",
            "1500/1500 [==============================] - 60s 40ms/step - loss: 0.2231 - accuracy: 0.9194 - val_loss: 0.2205 - val_accuracy: 0.9179\n",
            "Epoch 7/20\n",
            "1500/1500 [==============================] - 60s 40ms/step - loss: 0.2064 - accuracy: 0.9246 - val_loss: 0.2191 - val_accuracy: 0.9208\n",
            "Epoch 8/20\n",
            "1500/1500 [==============================] - 60s 40ms/step - loss: 0.1913 - accuracy: 0.9281 - val_loss: 0.2151 - val_accuracy: 0.9232\n",
            "Epoch 9/20\n",
            "1500/1500 [==============================] - 60s 40ms/step - loss: 0.1776 - accuracy: 0.9333 - val_loss: 0.2173 - val_accuracy: 0.9222\n",
            "Epoch 10/20\n",
            "1500/1500 [==============================] - 60s 40ms/step - loss: 0.1629 - accuracy: 0.9395 - val_loss: 0.2277 - val_accuracy: 0.9225\n"
          ],
          "name": "stdout"
        }
      ]
    },
    {
      "cell_type": "code",
      "metadata": {
        "id": "Uxr72awEZS03"
      },
      "source": [
        "# 케라스 모델에 추가한 층 불러오기\n",
        "model = keras.models.load_model('best-cnn-model.h5')\n",
        "  # 케라스 모델에 추가한 층은 layers 속성에 저장되어 있음 \n",
        "  # 이 속성은 파이썬 리스트"
      ],
      "execution_count": null,
      "outputs": []
    },
    {
      "cell_type": "code",
      "metadata": {
        "colab": {
          "base_uri": "https://localhost:8080/"
        },
        "id": "heyi_lk0ao5p",
        "outputId": "269bb99f-abd3-4330-ff88-bee6544d0108"
      },
      "source": [
        "model.layers   # model.layers를 출력"
      ],
      "execution_count": null,
      "outputs": [
        {
          "output_type": "execute_result",
          "data": {
            "text/plain": [
              "[<tensorflow.python.keras.layers.convolutional.Conv2D at 0x7f027c478ad0>,\n",
              " <tensorflow.python.keras.layers.pooling.MaxPooling2D at 0x7f027c312ad0>,\n",
              " <tensorflow.python.keras.layers.convolutional.Conv2D at 0x7f0273811fd0>,\n",
              " <tensorflow.python.keras.layers.pooling.MaxPooling2D at 0x7f027c47a7d0>,\n",
              " <tensorflow.python.keras.layers.core.Flatten at 0x7f02732c0b50>,\n",
              " <tensorflow.python.keras.layers.core.Dense at 0x7f027c463d50>,\n",
              " <tensorflow.python.keras.layers.core.Dropout at 0x7f027c33e5d0>,\n",
              " <tensorflow.python.keras.layers.core.Dense at 0x7f027c33ee50>]"
            ]
          },
          "metadata": {
            "tags": []
          },
          "execution_count": 107
        }
      ]
    },
    {
      "cell_type": "code",
      "metadata": {
        "colab": {
          "base_uri": "https://localhost:8080/"
        },
        "id": "1qHbO24NzQ_A",
        "outputId": "300c9851-1f43-411a-9978-537e66fcd59c"
      },
      "source": [
        "conv = model.layers[0]\n",
        "\n",
        "print(conv.weights[0].shape, conv.weights[1].shape)"
      ],
      "execution_count": null,
      "outputs": [
        {
          "output_type": "stream",
          "text": [
            "(3, 3, 1, 32) (32,)\n"
          ],
          "name": "stdout"
        }
      ]
    },
    {
      "cell_type": "code",
      "metadata": {
        "colab": {
          "base_uri": "https://localhost:8080/"
        },
        "id": "RnCuJ9Ypz1_U",
        "outputId": "4ca2f2ed-706f-414d-dce0-12568c88fb13"
      },
      "source": [
        "conv_weights = conv.weights[0].numpy()\n",
        "\n",
        "print(conv_weights.mean(), conv_weights.std())"
      ],
      "execution_count": null,
      "outputs": [
        {
          "output_type": "stream",
          "text": [
            "-0.016035534 0.24512783\n"
          ],
          "name": "stdout"
        }
      ]
    },
    {
      "cell_type": "code",
      "metadata": {
        "colab": {
          "base_uri": "https://localhost:8080/",
          "height": 279
        },
        "id": "gs3zx2iOSae1",
        "outputId": "925af9dc-4ce7-4a52-ac1a-3e495731eb7b"
      },
      "source": [
        "import matplotlib.pyplot as plt\n",
        "\n",
        "plt.hist(conv_weights.reshape(-1,1))\n",
        "plt.xlabel('weight')\n",
        "plt.ylabel('count')\n",
        "plt.show()"
      ],
      "execution_count": null,
      "outputs": [
        {
          "output_type": "display_data",
          "data": {
            "image/png": "[encoded data removed]",
            "text/plain": [
              "<Figure size 432x288 with 1 Axes>"
            ]
          },
          "metadata": {
            "tags": [],
            "needs_background": "light"
          }
        }
      ]
    },
    {
      "cell_type": "code",
      "metadata": {
        "colab": {
          "base_uri": "https://localhost:8080/",
          "height": 134
        },
        "id": "QWlLAwXmSxY5",
        "outputId": "85a7efd9-3c8b-4577-a9af-a3f07ead17ab"
      },
      "source": [
        "fig, axs = plt.subplots(2, 16, figsize=(15,2))\n",
        "\n",
        "for i in range(2):\n",
        "  for j in range(16):\n",
        "    axs[i,j].imshow(conv_weights[:,:,0,i*16 + j], vmin=-0.5, vmax=0.5)\n",
        "    axs[i,j].axis('off')\n",
        "    \n",
        "plt.show()"
      ],
      "execution_count": null,
      "outputs": [
        {
          "output_type": "display_data",
          "data": {
            "image/png": "[encoded data removed]",
            "text/plain": [
              "<Figure size 1080x144 with 32 Axes>"
            ]
          },
          "metadata": {
            "tags": [],
            "needs_background": "light"
          }
        }
      ]
    },
    {
      "cell_type": "code",
      "metadata": {
        "id": "JSxLluZGTuTI"
      },
      "source": [
        "no_training_model = keras.Sequential()\n",
        "\n",
        "no_training_model.add(keras.layers.Conv2D(32, kernel_size=3, activation='relu', \n",
        "                                          padding='same', input_shape=(28,28,1)))"
      ],
      "execution_count": null,
      "outputs": []
    },
    {
      "cell_type": "code",
      "metadata": {
        "colab": {
          "base_uri": "https://localhost:8080/"
        },
        "id": "7gGzdbHaUD7L",
        "outputId": "57e14e5d-0f8b-4046-a5ff-05da1aa85fc8"
      },
      "source": [
        "no_training_conv = no_training_model.layers[0]\n",
        "\n",
        "print(no_training_conv.weights[0].shape)"
      ],
      "execution_count": null,
      "outputs": [
        {
          "output_type": "stream",
          "text": [
            "(3, 3, 1, 32)\n"
          ],
          "name": "stdout"
        }
      ]
    },
    {
      "cell_type": "code",
      "metadata": {
        "colab": {
          "base_uri": "https://localhost:8080/"
        },
        "id": "kRqDcZd6Ug76",
        "outputId": "bd2a77a6-718c-41b3-9f41-3448bf28458e"
      },
      "source": [
        "no_training_weights = no_training_conv.weights[0].numpy()\n",
        "\n",
        "print(no_training_weights.mean(), no_training_weights.std())"
      ],
      "execution_count": null,
      "outputs": [
        {
          "output_type": "stream",
          "text": [
            "-0.00738881 0.083642766\n"
          ],
          "name": "stdout"
        }
      ]
    },
    {
      "cell_type": "code",
      "metadata": {
        "colab": {
          "base_uri": "https://localhost:8080/",
          "height": 279
        },
        "id": "-GMMMgY8Uueh",
        "outputId": "70cbd21a-711f-4d93-b970-2a0bc6b6850d"
      },
      "source": [
        "plt.hist(no_training_weights.reshape(-1,1))\n",
        "plt.xlabel('weight')\n",
        "plt.ylabel('count')\n",
        "plt.show()"
      ],
      "execution_count": null,
      "outputs": [
        {
          "output_type": "display_data",
          "data": {
            "image/png": "[encoded data removed]",
            "text/plain": [
              "<Figure size 432x288 with 1 Axes>"
            ]
          },
          "metadata": {
            "tags": [],
            "needs_background": "light"
          }
        }
      ]
    },
    {
      "cell_type": "code",
      "metadata": {
        "colab": {
          "base_uri": "https://localhost:8080/",
          "height": 134
        },
        "id": "SmSFWzgAVTcO",
        "outputId": "aca0e7c0-48e6-40e5-ef45-c68606e6d95c"
      },
      "source": [
        "fig, axs = plt.subplots(2, 16, figsize=(15,2))\n",
        "\n",
        "for i in range(2):\n",
        "  for j in range(16):\n",
        "    axs[i,j].imshow(no_training_weights[:,:,0,i*16 + j], vmin=-0.5,vmax=0.5)\n",
        "    axs[i,j].axis('off')\n",
        "    \n",
        "plt.show()"
      ],
      "execution_count": null,
      "outputs": [
        {
          "output_type": "display_data",
          "data": {
            "image/png": "[encoded data removed]",
            "text/plain": [
              "<Figure size 1080x144 with 32 Axes>"
            ]
          },
          "metadata": {
            "tags": [],
            "needs_background": "light"
          }
        }
      ]
    },
    {
      "cell_type": "code",
      "metadata": {
        "colab": {
          "base_uri": "https://localhost:8080/"
        },
        "id": "zMeY_ZJ6Vkt7",
        "outputId": "b2a368c0-e3d5-4dda-9687-e1d8de7d6459"
      },
      "source": [
        "# 함수형 API\n",
        "\n",
        " # 신경망 모델을 만들 때 케라스 Sequential 클래스를 사용-이 클래스는 층을 차례대로 쌓은 모델을 만듦\n",
        " # 딥러닝에서는 복잡한 모델이 많은 이런 경우 함수형 API(functional API)를 사용함\n",
        " # 함수형 API는 케라스의 Model 클래스를 사용하여 모델을 만듦\n",
        "\n",
        "print(model.input)\n",
        "\n",
        "conv_acti = keras.Model(model.input, model.layers[0].output)\n",
        "  # model 객체의 predict 메서드를 호출하면 최종 출력층의 확률을 반환함\n",
        "  # conv_acti의 predict() 메서드를 호출하면 첫 번째 Conv2D의 출력을 반환할 것"
      ],
      "execution_count": null,
      "outputs": [
        {
          "output_type": "stream",
          "text": [
            "KerasTensor(type_spec=TensorSpec(shape=(None, 28, 28, 1), dtype=tf.float32, name='conv2d_12_input'), name='conv2d_12_input', description=\"created by layer 'conv2d_12_input'\")\n"
          ],
          "name": "stdout"
        }
      ]
    },
    {
      "cell_type": "code",
      "metadata": {
        "colab": {
          "base_uri": "https://localhost:8080/",
          "height": 265
        },
        "id": "cDn_SXcyzs_Y",
        "outputId": "9ff2fcc1-bc3a-43b8-d4f9-d8bf9fd1cadc"
      },
      "source": [
        "# 특성 맵 시각화\n",
        "\n",
        " # 케라스로 패션 MNIST 데이터셋을 읽은 후 훈련 세트에 있는 첫 번째 샘플을 그려봄\n",
        "(train_input, train_target), (test_input, test_target) =\\\n",
        "  keras.datasets.fashion_mnist.load_data()\n",
        "  \n",
        "plt.imshow(train_input[0], cmap='gray_r')\n",
        "plt.show()"
      ],
      "execution_count": null,
      "outputs": [
        {
          "output_type": "display_data",
          "data": {
            "image/png": "[encoded data removed]",
            "text/plain": [
              "<Figure size 432x288 with 1 Axes>"
            ]
          },
          "metadata": {
            "tags": [],
            "needs_background": "light"
          }
        }
      ]
    },
    {
      "cell_type": "code",
      "metadata": {
        "id": "3I2EoNt20mxY"
      },
      "source": [
        "inputs = train_input[0:1].reshape(-1, 28, 28, 1) / 255.0 \n",
        "\n",
        "feature_maps = conv_acti.predict(inputs)"
      ],
      "execution_count": null,
      "outputs": []
    },
    {
      "cell_type": "code",
      "metadata": {
        "colab": {
          "base_uri": "https://localhost:8080/"
        },
        "id": "Hjry2lPL1cYd",
        "outputId": "75752207-cb4d-4ace-d0c3-2dac6c9c6310"
      },
      "source": [
        "print(feature_maps.shape) \n",
        "  # conv_acti.predict()메서드가 출력한 feature_maps의 크기를 확인"
      ],
      "execution_count": null,
      "outputs": [
        {
          "output_type": "stream",
          "text": [
            "(1, 28, 28, 32)\n"
          ],
          "name": "stdout"
        }
      ]
    },
    {
      "cell_type": "code",
      "metadata": {
        "colab": {
          "base_uri": "https://localhost:8080/",
          "height": 460
        },
        "id": "EyFBVDE11l3R",
        "outputId": "ef79386b-5bed-4249-8217-9ee247657fb7"
      },
      "source": [
        "# 맷플롯립의 imshow 함수로 특성 맵 그리기 \n",
        "\n",
        "fig, axs = plt.subplots(4, 8, figsize=(15,8))\n",
        "for i in range(4):\n",
        "  for j in range(8):\n",
        "    axs[i, j].imshow(feature_maps[0, :, :, i*8 +j])\n",
        "    axs[i, j].axis('off')\n",
        "plt.show()"
      ],
      "execution_count": null,
      "outputs": [
        {
          "output_type": "display_data",
          "data": {
            "image/png": "[encoded data removed]",
            "text/plain": [
              "<Figure size 1080x576 with 32 Axes>"
            ]
          },
          "metadata": {
            "tags": [],
            "needs_background": "light"
          }
        }
      ]
    },
    {
      "cell_type": "code",
      "metadata": {
        "colab": {
          "base_uri": "https://localhost:8080/"
        },
        "id": "bFCawSuZ3LLV",
        "outputId": "b2d01049-a87a-442c-b9cc-e424e63aebb5"
      },
      "source": [
        "# 두 번째 합성곱 층이 만든 특성 맵도 같은 방식으로 확인\n",
        " # model 객체의 입력과 두 번째 합성곱 층인 model.layers[2]의 출력을 연결한 conv2_acti 모델 만듦\n",
        "\n",
        "conv2_acti = keras.Model(model.input, model.layers[2].output)\n",
        "\n",
        "feature_maps = conv2_acti.predict(train_input[0:1].reshape(-1, 28, 28, 1)/ 255.0)\n",
        "\n",
        "print(feature_maps.shape)"
      ],
      "execution_count": null,
      "outputs": [
        {
          "output_type": "stream",
          "text": [
            "(1, 14, 14, 64)\n"
          ],
          "name": "stdout"
        }
      ]
    },
    {
      "cell_type": "code",
      "metadata": {
        "colab": {
          "base_uri": "https://localhost:8080/",
          "height": 683
        },
        "id": "4EroX7WA4Nuo",
        "outputId": "4a0544c7-a733-4353-e194-e062714399f3"
      },
      "source": [
        "# 64개의 특성 맵을 8개씩 나누어 imshow() 함수로 그림\n",
        "fig, axs = plt.subplots(8, 8, figsize=(12, 12))\n",
        "\n",
        "for i in range(8):\n",
        "  for j in range(8):\n",
        "    axs[i,j].imshow(feature_maps[0, :, :, i*8 +j])\n",
        "    axs[i,j].axis('off')\n",
        "    \n",
        "plt.show()\n",
        "  # 합성곱 층을 많이 쌓을수록 직관적으로 이해하기가 어려움\n",
        "  # 합성곱 신경망의 앞부분에 있는 합성곱 층은 이미지의 시각적인 정보를 감지하고 \n",
        "  #  뒤쪽에 있는 합성곱 층은 앞쪽에서 감지한 시각적인 정보를 바탕으로 추상적인 정보를 학습한다고 볼 수 있음"
      ],
      "execution_count": null,
      "outputs": [
        {
          "output_type": "display_data",
          "data": {
            "image/png": "[encoded data removed]",
            "text/plain": [
              "<Figure size 864x864 with 64 Axes>"
            ]
          },
          "metadata": {
            "tags": [],
            "needs_background": "light"
          }
        }
      ]
    }
  ]
}
