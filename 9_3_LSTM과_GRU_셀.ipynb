{
  "nbformat": 4,
  "nbformat_minor": 0,
  "metadata": {
    "colab": {
      "provenance": [],
      "authorship_tag": "ABX9TyPDWQvEFDjIqTgM4n5vRLqd",
      "include_colab_link": true
    },
    "kernelspec": {
      "name": "python3",
      "display_name": "Python 3"
    },
    "language_info": {
      "name": "python"
    },
    "accelerator": "GPU",
    "gpuClass": "standard"
  },
  "cells": [
    {
      "cell_type": "markdown",
      "metadata": {
        "id": "view-in-github",
        "colab_type": "text"
      },
      "source": [
        "<a href=\"https://colab.research.google.com/github/yeneua/HG-MLDL/blob/main/9_3_LSTM%EA%B3%BC_GRU_%EC%85%80.ipynb\" target=\"_parent\"><img src=\"https://colab.research.google.com/assets/colab-badge.svg\" alt=\"Open In Colab\"/></a>"
      ]
    },
    {
      "cell_type": "code",
      "execution_count": null,
      "metadata": {
        "id": "gfK3vrdzTV1I"
      },
      "outputs": [],
      "source": [
        "# LSTM 신경망 훈련하기"
      ]
    },
    {
      "cell_type": "code",
      "source": [
        "from tensorflow.keras.datasets import imdb\n",
        "from sklearn.model_selection import train_test_split\n",
        "(train_input, train_target), (test_input, test_target) = imdb.load_data(num_words = 500) # 어휘사전 500개. 가장 자주 등장하는 단어 500개"
      ],
      "metadata": {
        "id": "-3yykxrte9zJ"
      },
      "execution_count": null,
      "outputs": []
    },
    {
      "cell_type": "code",
      "source": [
        "train_input, val_input, train_target, val_target = train_test_split(train_input,train_target, test_size = 0.2, random_state = 42)"
      ],
      "metadata": {
        "id": "SwlynuanfXI3"
      },
      "execution_count": null,
      "outputs": []
    },
    {
      "cell_type": "code",
      "source": [
        "print(train_input.shape, train_target.shape)\n",
        "print(val_input.shape, val_target.shape)"
      ],
      "metadata": {
        "colab": {
          "base_uri": "https://localhost:8080/"
        },
        "id": "_FfaCIbig3sY",
        "outputId": "77435fb9-a013-44f4-fd83-3cfa3559faa1"
      },
      "execution_count": null,
      "outputs": [
        {
          "output_type": "stream",
          "name": "stdout",
          "text": [
            "(20000,) (20000,)\n",
            "(5000,) (5000,)\n"
          ]
        }
      ]
    },
    {
      "cell_type": "code",
      "source": [
        "from tensorflow.keras.preprocessing.sequence import pad_sequences # 각 샘플의 길이를 100으로\n",
        "train_seq = pad_sequences(train_input, maxlen = 100)\n",
        "val_seq = pad_sequences(val_input, maxlen = 100)"
      ],
      "metadata": {
        "id": "ioojdw2WgRAE"
      },
      "execution_count": null,
      "outputs": []
    },
    {
      "cell_type": "code",
      "source": [
        "from tensorflow import keras\n",
        "model = keras.Sequential()\n",
        "model.add(keras.layers.Embedding(500, 16, input_length = 100))\n",
        "model.add(keras.layers.LSTM(8)) # LSTM\n",
        "model.add(keras.layers.Dense(1, activation = 'sigmoid'))"
      ],
      "metadata": {
        "id": "w4wYD3t4gjdr"
      },
      "execution_count": null,
      "outputs": []
    },
    {
      "cell_type": "code",
      "source": [
        "model.summary()\n",
        "\n",
        "# => 8000 = 500*16\n",
        "# => 800 = 4(16*8 + 8*8 + 8*1)"
      ],
      "metadata": {
        "colab": {
          "base_uri": "https://localhost:8080/"
        },
        "id": "QyeCc6Jkhdyu",
        "outputId": "e58c13c9-9c61-4d54-d9d3-3d167ca1333f"
      },
      "execution_count": null,
      "outputs": [
        {
          "output_type": "stream",
          "name": "stdout",
          "text": [
            "Model: \"sequential_4\"\n",
            "_________________________________________________________________\n",
            " Layer (type)                Output Shape              Param #   \n",
            "=================================================================\n",
            " embedding_4 (Embedding)     (None, 100, 16)           8000      \n",
            "                                                                 \n",
            " lstm_4 (LSTM)               (None, 8)                 800       \n",
            "                                                                 \n",
            " dense_4 (Dense)             (None, 1)                 9         \n",
            "                                                                 \n",
            "=================================================================\n",
            "Total params: 8,809\n",
            "Trainable params: 8,809\n",
            "Non-trainable params: 0\n",
            "_________________________________________________________________\n"
          ]
        }
      ]
    },
    {
      "cell_type": "code",
      "source": [
        "rmsprop = keras.optimizers.RMSprop(learning_rate = 1e-4)\n",
        "model.compile(optimizer = rmsprop, loss = 'binary_crossentropy', metrics = ['accuracy'])\n",
        "checkpoint_cb = keras.callbacks.ModelCheckpoint('best-lstm-model.h5', save_best_only = True)\n",
        "early_stopping_cb = keras.callbacks.EarlyStopping(patience = 3, restore_best_weights = True)\n",
        "history = model.fit(train_seq, train_target, epochs = 100, batch_size = 64, validation_data=(val_seq, val_target), callbacks = [checkpoint_cb, early_stopping_cb])"
      ],
      "metadata": {
        "colab": {
          "base_uri": "https://localhost:8080/"
        },
        "id": "HUTBq4u2hfp_",
        "outputId": "52a4ddf6-29f2-4932-a99d-d307ef0f73db"
      },
      "execution_count": null,
      "outputs": [
        {
          "output_type": "stream",
          "name": "stdout",
          "text": [
            "Epoch 1/100\n",
            "313/313 [==============================] - 5s 10ms/step - loss: 0.6922 - accuracy: 0.5516 - val_loss: 0.6912 - val_accuracy: 0.5914\n",
            "Epoch 2/100\n",
            "313/313 [==============================] - 3s 8ms/step - loss: 0.6894 - accuracy: 0.6133 - val_loss: 0.6876 - val_accuracy: 0.6166\n",
            "Epoch 3/100\n",
            "313/313 [==============================] - 3s 8ms/step - loss: 0.6841 - accuracy: 0.6417 - val_loss: 0.6803 - val_accuracy: 0.6398\n",
            "Epoch 4/100\n",
            "313/313 [==============================] - 3s 9ms/step - loss: 0.6727 - accuracy: 0.6582 - val_loss: 0.6646 - val_accuracy: 0.6744\n",
            "Epoch 5/100\n",
            "313/313 [==============================] - 3s 8ms/step - loss: 0.6438 - accuracy: 0.6986 - val_loss: 0.6158 - val_accuracy: 0.7162\n",
            "Epoch 6/100\n",
            "313/313 [==============================] - 3s 9ms/step - loss: 0.5686 - accuracy: 0.7402 - val_loss: 0.5486 - val_accuracy: 0.7416\n",
            "Epoch 7/100\n",
            "313/313 [==============================] - 3s 10ms/step - loss: 0.5321 - accuracy: 0.7542 - val_loss: 0.5270 - val_accuracy: 0.7582\n",
            "Epoch 8/100\n",
            "313/313 [==============================] - 3s 8ms/step - loss: 0.5123 - accuracy: 0.7663 - val_loss: 0.5102 - val_accuracy: 0.7680\n",
            "Epoch 9/100\n",
            "313/313 [==============================] - 3s 8ms/step - loss: 0.4956 - accuracy: 0.7763 - val_loss: 0.4963 - val_accuracy: 0.7752\n",
            "Epoch 10/100\n",
            "313/313 [==============================] - 3s 8ms/step - loss: 0.4816 - accuracy: 0.7850 - val_loss: 0.4848 - val_accuracy: 0.7756\n",
            "Epoch 11/100\n",
            "313/313 [==============================] - 3s 8ms/step - loss: 0.4694 - accuracy: 0.7904 - val_loss: 0.4762 - val_accuracy: 0.7884\n",
            "Epoch 12/100\n",
            "313/313 [==============================] - 3s 9ms/step - loss: 0.4595 - accuracy: 0.7982 - val_loss: 0.4667 - val_accuracy: 0.7892\n",
            "Epoch 13/100\n",
            "313/313 [==============================] - 3s 9ms/step - loss: 0.4510 - accuracy: 0.8023 - val_loss: 0.4616 - val_accuracy: 0.7898\n",
            "Epoch 14/100\n",
            "313/313 [==============================] - 3s 9ms/step - loss: 0.4444 - accuracy: 0.8029 - val_loss: 0.4565 - val_accuracy: 0.7908\n",
            "Epoch 15/100\n",
            "313/313 [==============================] - 3s 9ms/step - loss: 0.4389 - accuracy: 0.8070 - val_loss: 0.4508 - val_accuracy: 0.7966\n",
            "Epoch 16/100\n",
            "313/313 [==============================] - 3s 9ms/step - loss: 0.4341 - accuracy: 0.8087 - val_loss: 0.4490 - val_accuracy: 0.7954\n",
            "Epoch 17/100\n",
            "313/313 [==============================] - 3s 9ms/step - loss: 0.4302 - accuracy: 0.8087 - val_loss: 0.4477 - val_accuracy: 0.7950\n",
            "Epoch 18/100\n",
            "313/313 [==============================] - 3s 8ms/step - loss: 0.4272 - accuracy: 0.8116 - val_loss: 0.4442 - val_accuracy: 0.7962\n",
            "Epoch 19/100\n",
            "313/313 [==============================] - 3s 9ms/step - loss: 0.4248 - accuracy: 0.8118 - val_loss: 0.4410 - val_accuracy: 0.7984\n",
            "Epoch 20/100\n",
            "313/313 [==============================] - 3s 9ms/step - loss: 0.4226 - accuracy: 0.8117 - val_loss: 0.4401 - val_accuracy: 0.7998\n",
            "Epoch 21/100\n",
            "313/313 [==============================] - 3s 9ms/step - loss: 0.4204 - accuracy: 0.8117 - val_loss: 0.4390 - val_accuracy: 0.7990\n",
            "Epoch 22/100\n",
            "313/313 [==============================] - 3s 11ms/step - loss: 0.4190 - accuracy: 0.8129 - val_loss: 0.4390 - val_accuracy: 0.7982\n",
            "Epoch 23/100\n",
            "313/313 [==============================] - 3s 8ms/step - loss: 0.4177 - accuracy: 0.8126 - val_loss: 0.4373 - val_accuracy: 0.7998\n",
            "Epoch 24/100\n",
            "313/313 [==============================] - 3s 9ms/step - loss: 0.4166 - accuracy: 0.8129 - val_loss: 0.4371 - val_accuracy: 0.8012\n",
            "Epoch 25/100\n",
            "313/313 [==============================] - 3s 9ms/step - loss: 0.4158 - accuracy: 0.8124 - val_loss: 0.4362 - val_accuracy: 0.7968\n",
            "Epoch 26/100\n",
            "313/313 [==============================] - 3s 8ms/step - loss: 0.4145 - accuracy: 0.8131 - val_loss: 0.4356 - val_accuracy: 0.8022\n",
            "Epoch 27/100\n",
            "313/313 [==============================] - 3s 8ms/step - loss: 0.4140 - accuracy: 0.8138 - val_loss: 0.4353 - val_accuracy: 0.8014\n",
            "Epoch 28/100\n",
            "313/313 [==============================] - 3s 8ms/step - loss: 0.4133 - accuracy: 0.8142 - val_loss: 0.4359 - val_accuracy: 0.8024\n",
            "Epoch 29/100\n",
            "313/313 [==============================] - 3s 8ms/step - loss: 0.4126 - accuracy: 0.8124 - val_loss: 0.4366 - val_accuracy: 0.8000\n",
            "Epoch 30/100\n",
            "313/313 [==============================] - 3s 8ms/step - loss: 0.4120 - accuracy: 0.8137 - val_loss: 0.4363 - val_accuracy: 0.7958\n"
          ]
        }
      ]
    },
    {
      "cell_type": "code",
      "source": [
        "import matplotlib.pyplot as plt\n",
        "plt.plot(history.history['loss'])\n",
        "plt.plot(history.history['val_loss'])\n",
        "plt.xlabel('epoch')\n",
        "plt.ylabel('loss')\n",
        "plt.legend(['train', 'val'])\n",
        "plt.title('LSTM')\n",
        "plt.show()"
      ],
      "metadata": {
        "colab": {
          "base_uri": "https://localhost:8080/",
          "height": 295
        },
        "id": "pCpC207Yi5VW",
        "outputId": "6d4fb2ea-5038-4ec5-a172-6969ce1aa65e"
      },
      "execution_count": null,
      "outputs": [
        {
          "output_type": "display_data",
          "data": {
            "text/plain": [
              "<Figure size 432x288 with 1 Axes>"
            ],
            "image/png": "[encoded data removed]"
          },
          "metadata": {
            "needs_background": "light"
          }
        }
      ]
    },
    {
      "cell_type": "code",
      "source": [
        "# 순환층에 드롭아웃 적용하기"
      ],
      "metadata": {
        "id": "CrCVFFp6jabc"
      },
      "execution_count": null,
      "outputs": []
    },
    {
      "cell_type": "code",
      "source": [
        "model2 = keras.Sequential()\n",
        "model2.add(keras.layers.Embedding(500, 16, input_length = 100))\n",
        "model2.add(keras.layers.LSTM(8, dropout = 0.3)) # dropout 매개변수\n",
        "model2.add(keras.layers.Dense(1, activation = 'sigmoid'))"
      ],
      "metadata": {
        "id": "SjbnS09tjg-d"
      },
      "execution_count": null,
      "outputs": []
    },
    {
      "cell_type": "code",
      "source": [
        "model2.summary()"
      ],
      "metadata": {
        "colab": {
          "base_uri": "https://localhost:8080/"
        },
        "id": "SETlg5ySj_uq",
        "outputId": "76ad8bb1-4d91-4e5f-cf84-b77a654bdcb6"
      },
      "execution_count": null,
      "outputs": [
        {
          "output_type": "stream",
          "name": "stdout",
          "text": [
            "Model: \"sequential_5\"\n",
            "_________________________________________________________________\n",
            " Layer (type)                Output Shape              Param #   \n",
            "=================================================================\n",
            " embedding_5 (Embedding)     (None, 100, 16)           8000      \n",
            "                                                                 \n",
            " lstm_5 (LSTM)               (None, 8)                 800       \n",
            "                                                                 \n",
            " dense_5 (Dense)             (None, 1)                 9         \n",
            "                                                                 \n",
            "=================================================================\n",
            "Total params: 8,809\n",
            "Trainable params: 8,809\n",
            "Non-trainable params: 0\n",
            "_________________________________________________________________\n"
          ]
        }
      ]
    },
    {
      "cell_type": "code",
      "source": [
        "rmsprop = keras.optimizers.RMSprop(learning_rate = 1e-4)\n",
        "model2.compile(optimizer = rmsprop, loss = 'binary_crossentropy', metrics = ['accuracy'])\n",
        "checkpoint_cb = keras.callbacks.ModelCheckpoint('best-dropout-model.h5', save_best_only = True)\n",
        "early_stopping_cb = keras.callbacks.EarlyStopping(patience = 3, restore_best_weights = True)\n",
        "history = model2.fit(train_seq, train_target, epochs = 100, batch_size = 64, validation_data = (val_seq, val_target), callbacks = [checkpoint_cb, early_stopping_cb])"
      ],
      "metadata": {
        "colab": {
          "base_uri": "https://localhost:8080/"
        },
        "id": "jdHwAmZGkDnp",
        "outputId": "06cc46b9-97ca-4b1a-f0fb-2b893c6d607b"
      },
      "execution_count": null,
      "outputs": [
        {
          "output_type": "stream",
          "name": "stdout",
          "text": [
            "Epoch 1/100\n",
            "313/313 [==============================] - 5s 10ms/step - loss: 0.6925 - accuracy: 0.5333 - val_loss: 0.6918 - val_accuracy: 0.5792\n",
            "Epoch 2/100\n",
            "313/313 [==============================] - 3s 8ms/step - loss: 0.6902 - accuracy: 0.6041 - val_loss: 0.6889 - val_accuracy: 0.6296\n",
            "Epoch 3/100\n",
            "313/313 [==============================] - 3s 8ms/step - loss: 0.6860 - accuracy: 0.6444 - val_loss: 0.6830 - val_accuracy: 0.6552\n",
            "Epoch 4/100\n",
            "313/313 [==============================] - 3s 8ms/step - loss: 0.6758 - accuracy: 0.6627 - val_loss: 0.6658 - val_accuracy: 0.6676\n",
            "Epoch 5/100\n",
            "313/313 [==============================] - 3s 8ms/step - loss: 0.6381 - accuracy: 0.6899 - val_loss: 0.6009 - val_accuracy: 0.7228\n",
            "Epoch 6/100\n",
            "313/313 [==============================] - 3s 9ms/step - loss: 0.5826 - accuracy: 0.7327 - val_loss: 0.5664 - val_accuracy: 0.7340\n",
            "Epoch 7/100\n",
            "313/313 [==============================] - 3s 8ms/step - loss: 0.5541 - accuracy: 0.7425 - val_loss: 0.5421 - val_accuracy: 0.7492\n",
            "Epoch 8/100\n",
            "313/313 [==============================] - 3s 8ms/step - loss: 0.5293 - accuracy: 0.7548 - val_loss: 0.5194 - val_accuracy: 0.7616\n",
            "Epoch 9/100\n",
            "313/313 [==============================] - 3s 8ms/step - loss: 0.5097 - accuracy: 0.7650 - val_loss: 0.5014 - val_accuracy: 0.7720\n",
            "Epoch 10/100\n",
            "313/313 [==============================] - 3s 8ms/step - loss: 0.4930 - accuracy: 0.7753 - val_loss: 0.4897 - val_accuracy: 0.7798\n",
            "Epoch 11/100\n",
            "313/313 [==============================] - 3s 8ms/step - loss: 0.4806 - accuracy: 0.7810 - val_loss: 0.4810 - val_accuracy: 0.7794\n",
            "Epoch 12/100\n",
            "313/313 [==============================] - 3s 8ms/step - loss: 0.4712 - accuracy: 0.7851 - val_loss: 0.4717 - val_accuracy: 0.7874\n",
            "Epoch 13/100\n",
            "313/313 [==============================] - 3s 8ms/step - loss: 0.4648 - accuracy: 0.7897 - val_loss: 0.4655 - val_accuracy: 0.7880\n",
            "Epoch 14/100\n",
            "313/313 [==============================] - 3s 9ms/step - loss: 0.4583 - accuracy: 0.7918 - val_loss: 0.4597 - val_accuracy: 0.7924\n",
            "Epoch 15/100\n",
            "313/313 [==============================] - 3s 8ms/step - loss: 0.4513 - accuracy: 0.7968 - val_loss: 0.4563 - val_accuracy: 0.7914\n",
            "Epoch 16/100\n",
            "313/313 [==============================] - 3s 8ms/step - loss: 0.4486 - accuracy: 0.7979 - val_loss: 0.4534 - val_accuracy: 0.7936\n",
            "Epoch 17/100\n",
            "313/313 [==============================] - 3s 8ms/step - loss: 0.4452 - accuracy: 0.7962 - val_loss: 0.4514 - val_accuracy: 0.7932\n",
            "Epoch 18/100\n",
            "313/313 [==============================] - 3s 8ms/step - loss: 0.4426 - accuracy: 0.7986 - val_loss: 0.4496 - val_accuracy: 0.7948\n",
            "Epoch 19/100\n",
            "313/313 [==============================] - 3s 8ms/step - loss: 0.4407 - accuracy: 0.8015 - val_loss: 0.4475 - val_accuracy: 0.7948\n",
            "Epoch 20/100\n",
            "313/313 [==============================] - 3s 8ms/step - loss: 0.4379 - accuracy: 0.7997 - val_loss: 0.4451 - val_accuracy: 0.7936\n",
            "Epoch 21/100\n",
            "313/313 [==============================] - 3s 9ms/step - loss: 0.4353 - accuracy: 0.8019 - val_loss: 0.4439 - val_accuracy: 0.7956\n",
            "Epoch 22/100\n",
            "313/313 [==============================] - 3s 9ms/step - loss: 0.4341 - accuracy: 0.8015 - val_loss: 0.4422 - val_accuracy: 0.7956\n",
            "Epoch 23/100\n",
            "313/313 [==============================] - 3s 9ms/step - loss: 0.4343 - accuracy: 0.8009 - val_loss: 0.4408 - val_accuracy: 0.7972\n",
            "Epoch 24/100\n",
            "313/313 [==============================] - 3s 9ms/step - loss: 0.4308 - accuracy: 0.8033 - val_loss: 0.4421 - val_accuracy: 0.7942\n",
            "Epoch 25/100\n",
            "313/313 [==============================] - 3s 8ms/step - loss: 0.4301 - accuracy: 0.8069 - val_loss: 0.4399 - val_accuracy: 0.7954\n",
            "Epoch 26/100\n",
            "313/313 [==============================] - 3s 8ms/step - loss: 0.4290 - accuracy: 0.8037 - val_loss: 0.4391 - val_accuracy: 0.7946\n",
            "Epoch 27/100\n",
            "313/313 [==============================] - 3s 8ms/step - loss: 0.4273 - accuracy: 0.8059 - val_loss: 0.4382 - val_accuracy: 0.8000\n",
            "Epoch 28/100\n",
            "313/313 [==============================] - 3s 8ms/step - loss: 0.4272 - accuracy: 0.8049 - val_loss: 0.4371 - val_accuracy: 0.7998\n",
            "Epoch 29/100\n",
            "313/313 [==============================] - 3s 9ms/step - loss: 0.4249 - accuracy: 0.8082 - val_loss: 0.4364 - val_accuracy: 0.7974\n",
            "Epoch 30/100\n",
            "313/313 [==============================] - 3s 8ms/step - loss: 0.4228 - accuracy: 0.8080 - val_loss: 0.4391 - val_accuracy: 0.7948\n",
            "Epoch 31/100\n",
            "313/313 [==============================] - 3s 8ms/step - loss: 0.4226 - accuracy: 0.8077 - val_loss: 0.4365 - val_accuracy: 0.7950\n",
            "Epoch 32/100\n",
            "313/313 [==============================] - 3s 8ms/step - loss: 0.4223 - accuracy: 0.8084 - val_loss: 0.4364 - val_accuracy: 0.7966\n"
          ]
        }
      ]
    },
    {
      "cell_type": "code",
      "source": [
        "plt.plot(history.history['loss'])\n",
        "plt.plot(history.history['val_loss'])\n",
        "plt.xlabel('epoch')\n",
        "plt.ylabel('loss')\n",
        "plt.legend(['train', 'val'])\n",
        "plt.title('dropout')\n",
        "plt.show()"
      ],
      "metadata": {
        "colab": {
          "base_uri": "https://localhost:8080/",
          "height": 295
        },
        "id": "X3f8S0j3lEE7",
        "outputId": "1420b461-0846-4c87-b558-b00c430979ed"
      },
      "execution_count": null,
      "outputs": [
        {
          "output_type": "display_data",
          "data": {
            "text/plain": [
              "<Figure size 432x288 with 1 Axes>"
            ],
            "image/png": "[encoded data removed]"
          },
          "metadata": {
            "needs_background": "light"
          }
        }
      ]
    },
    {
      "cell_type": "code",
      "source": [
        "# 2개의 층을 연결하기"
      ],
      "metadata": {
        "id": "55VJBkhyf7lW"
      },
      "execution_count": null,
      "outputs": []
    },
    {
      "cell_type": "code",
      "source": [
        "model3 = keras.Sequential()\n",
        "model3.add(keras.layers.Embedding(500, 16, input_length = 100))\n",
        "model3.add(keras.layers.LSTM(8, dropout = 0.3, return_sequences = True)) # return_sequences = True : 모든 타임스텝의 은닉상태 출력\n",
        "model3.add(keras.layers.LSTM(8, dropout = 0.3))\n",
        "model3.add(keras.layers.Dense(1, activation = 'sigmoid'))"
      ],
      "metadata": {
        "id": "Q7OwfnKSlur-"
      },
      "execution_count": null,
      "outputs": []
    },
    {
      "cell_type": "code",
      "source": [
        "model3.summary()\n",
        "\n",
        "# 8000 = 500*16\n",
        "# 800 = 4(16*8 + 8*8 + 8*1)\n",
        "# 544 = 4(8*8 + 8*8 + 8*1)"
      ],
      "metadata": {
        "colab": {
          "base_uri": "https://localhost:8080/"
        },
        "id": "4iPYHrjtmS6y",
        "outputId": "9338443e-a30b-44c4-d077-4bc1bd0a91b2"
      },
      "execution_count": null,
      "outputs": [
        {
          "output_type": "stream",
          "name": "stdout",
          "text": [
            "Model: \"sequential_6\"\n",
            "_________________________________________________________________\n",
            " Layer (type)                Output Shape              Param #   \n",
            "=================================================================\n",
            " embedding_6 (Embedding)     (None, 100, 16)           8000      \n",
            "                                                                 \n",
            " lstm_6 (LSTM)               (None, 100, 8)            800       \n",
            "                                                                 \n",
            " lstm_7 (LSTM)               (None, 8)                 544       \n",
            "                                                                 \n",
            " dense_6 (Dense)             (None, 1)                 9         \n",
            "                                                                 \n",
            "=================================================================\n",
            "Total params: 9,353\n",
            "Trainable params: 9,353\n",
            "Non-trainable params: 0\n",
            "_________________________________________________________________\n"
          ]
        }
      ]
    },
    {
      "cell_type": "code",
      "source": [
        "rmsprop = keras.optimizers.RMSprop(learning_rate = 1e-4)\n",
        "model3.compile(optimizer = rmsprop, loss = 'binary_crossentropy', metrics = ['accuracy'])\n",
        "checkpoint_cb = keras.callbacks.ModelCheckpoint('best-2rnn-model.h5', save_best_only = True)\n",
        "early_stopping_cb = keras.callbacks.EarlyStopping(patience = 3, restore_best_weights = True)\n",
        "history = model3.fit(train_seq, train_target, epochs = 100, batch_size = 64, validation_data = (val_seq, val_target), callbacks = [checkpoint_cb, early_stopping_cb])"
      ],
      "metadata": {
        "colab": {
          "base_uri": "https://localhost:8080/"
        },
        "id": "5BEXX26_mtuf",
        "outputId": "212c2d9f-2642-4a69-9ad5-8f1c11a76dae"
      },
      "execution_count": null,
      "outputs": [
        {
          "output_type": "stream",
          "name": "stdout",
          "text": [
            "Epoch 1/100\n",
            "313/313 [==============================] - 8s 15ms/step - loss: 0.6930 - accuracy: 0.5062 - val_loss: 0.6928 - val_accuracy: 0.5230\n",
            "Epoch 2/100\n",
            "313/313 [==============================] - 4s 12ms/step - loss: 0.6920 - accuracy: 0.5700 - val_loss: 0.6911 - val_accuracy: 0.5708\n",
            "Epoch 3/100\n",
            "313/313 [==============================] - 4s 12ms/step - loss: 0.6867 - accuracy: 0.5787 - val_loss: 0.6797 - val_accuracy: 0.6354\n",
            "Epoch 4/100\n",
            "313/313 [==============================] - 4s 12ms/step - loss: 0.6579 - accuracy: 0.6837 - val_loss: 0.6395 - val_accuracy: 0.7136\n",
            "Epoch 5/100\n",
            "313/313 [==============================] - 4s 13ms/step - loss: 0.6271 - accuracy: 0.7171 - val_loss: 0.6186 - val_accuracy: 0.7164\n",
            "Epoch 6/100\n",
            "313/313 [==============================] - 4s 13ms/step - loss: 0.6060 - accuracy: 0.7283 - val_loss: 0.5956 - val_accuracy: 0.7338\n",
            "Epoch 7/100\n",
            "313/313 [==============================] - 4s 13ms/step - loss: 0.5817 - accuracy: 0.7383 - val_loss: 0.5694 - val_accuracy: 0.7438\n",
            "Epoch 8/100\n",
            "313/313 [==============================] - 4s 13ms/step - loss: 0.5569 - accuracy: 0.7484 - val_loss: 0.5468 - val_accuracy: 0.7572\n",
            "Epoch 9/100\n",
            "313/313 [==============================] - 4s 12ms/step - loss: 0.5383 - accuracy: 0.7553 - val_loss: 0.5269 - val_accuracy: 0.7650\n",
            "Epoch 10/100\n",
            "313/313 [==============================] - 4s 13ms/step - loss: 0.5201 - accuracy: 0.7668 - val_loss: 0.5114 - val_accuracy: 0.7688\n",
            "Epoch 11/100\n",
            "313/313 [==============================] - 4s 13ms/step - loss: 0.5087 - accuracy: 0.7692 - val_loss: 0.4975 - val_accuracy: 0.7736\n",
            "Epoch 12/100\n",
            "313/313 [==============================] - 4s 13ms/step - loss: 0.4945 - accuracy: 0.7775 - val_loss: 0.4872 - val_accuracy: 0.7770\n",
            "Epoch 13/100\n",
            "313/313 [==============================] - 4s 13ms/step - loss: 0.4834 - accuracy: 0.7832 - val_loss: 0.4790 - val_accuracy: 0.7810\n",
            "Epoch 14/100\n",
            "313/313 [==============================] - 4s 14ms/step - loss: 0.4752 - accuracy: 0.7862 - val_loss: 0.4714 - val_accuracy: 0.7850\n",
            "Epoch 15/100\n",
            "313/313 [==============================] - 4s 13ms/step - loss: 0.4666 - accuracy: 0.7896 - val_loss: 0.4656 - val_accuracy: 0.7860\n",
            "Epoch 16/100\n",
            "313/313 [==============================] - 4s 12ms/step - loss: 0.4618 - accuracy: 0.7912 - val_loss: 0.4616 - val_accuracy: 0.7878\n",
            "Epoch 17/100\n",
            "313/313 [==============================] - 4s 12ms/step - loss: 0.4558 - accuracy: 0.7932 - val_loss: 0.4568 - val_accuracy: 0.7874\n",
            "Epoch 18/100\n",
            "313/313 [==============================] - 4s 14ms/step - loss: 0.4521 - accuracy: 0.7965 - val_loss: 0.4534 - val_accuracy: 0.7932\n",
            "Epoch 19/100\n",
            "313/313 [==============================] - 4s 14ms/step - loss: 0.4490 - accuracy: 0.7949 - val_loss: 0.4527 - val_accuracy: 0.7906\n",
            "Epoch 20/100\n",
            "313/313 [==============================] - 4s 12ms/step - loss: 0.4465 - accuracy: 0.7999 - val_loss: 0.4475 - val_accuracy: 0.7952\n",
            "Epoch 21/100\n",
            "313/313 [==============================] - 4s 13ms/step - loss: 0.4442 - accuracy: 0.8000 - val_loss: 0.4489 - val_accuracy: 0.7910\n",
            "Epoch 22/100\n",
            "313/313 [==============================] - 4s 12ms/step - loss: 0.4410 - accuracy: 0.7994 - val_loss: 0.4468 - val_accuracy: 0.7948\n",
            "Epoch 23/100\n",
            "313/313 [==============================] - 4s 13ms/step - loss: 0.4377 - accuracy: 0.7994 - val_loss: 0.4439 - val_accuracy: 0.7934\n",
            "Epoch 24/100\n",
            "313/313 [==============================] - 4s 13ms/step - loss: 0.4360 - accuracy: 0.8037 - val_loss: 0.4417 - val_accuracy: 0.7950\n",
            "Epoch 25/100\n",
            "313/313 [==============================] - 4s 13ms/step - loss: 0.4351 - accuracy: 0.8041 - val_loss: 0.4406 - val_accuracy: 0.8002\n",
            "Epoch 26/100\n",
            "313/313 [==============================] - 4s 13ms/step - loss: 0.4331 - accuracy: 0.8048 - val_loss: 0.4409 - val_accuracy: 0.8016\n",
            "Epoch 27/100\n",
            "313/313 [==============================] - 4s 13ms/step - loss: 0.4316 - accuracy: 0.8036 - val_loss: 0.4386 - val_accuracy: 0.8014\n",
            "Epoch 28/100\n",
            "313/313 [==============================] - 4s 14ms/step - loss: 0.4296 - accuracy: 0.8059 - val_loss: 0.4386 - val_accuracy: 0.8012\n",
            "Epoch 29/100\n",
            "313/313 [==============================] - 4s 13ms/step - loss: 0.4293 - accuracy: 0.8048 - val_loss: 0.4383 - val_accuracy: 0.8020\n",
            "Epoch 30/100\n",
            "313/313 [==============================] - 4s 13ms/step - loss: 0.4271 - accuracy: 0.8069 - val_loss: 0.4362 - val_accuracy: 0.8044\n",
            "Epoch 31/100\n",
            "313/313 [==============================] - 4s 13ms/step - loss: 0.4270 - accuracy: 0.8058 - val_loss: 0.4350 - val_accuracy: 0.7966\n",
            "Epoch 32/100\n",
            "313/313 [==============================] - 4s 13ms/step - loss: 0.4248 - accuracy: 0.8065 - val_loss: 0.4327 - val_accuracy: 0.8018\n",
            "Epoch 33/100\n",
            "313/313 [==============================] - 4s 13ms/step - loss: 0.4247 - accuracy: 0.8075 - val_loss: 0.4389 - val_accuracy: 0.8016\n",
            "Epoch 34/100\n",
            "313/313 [==============================] - 4s 13ms/step - loss: 0.4232 - accuracy: 0.8073 - val_loss: 0.4315 - val_accuracy: 0.8040\n",
            "Epoch 35/100\n",
            "313/313 [==============================] - 4s 13ms/step - loss: 0.4211 - accuracy: 0.8105 - val_loss: 0.4310 - val_accuracy: 0.8036\n",
            "Epoch 36/100\n",
            "313/313 [==============================] - 4s 13ms/step - loss: 0.4208 - accuracy: 0.8095 - val_loss: 0.4309 - val_accuracy: 0.8038\n",
            "Epoch 37/100\n",
            "313/313 [==============================] - 4s 13ms/step - loss: 0.4208 - accuracy: 0.8093 - val_loss: 0.4299 - val_accuracy: 0.8050\n",
            "Epoch 38/100\n",
            "313/313 [==============================] - 4s 13ms/step - loss: 0.4209 - accuracy: 0.8070 - val_loss: 0.4291 - val_accuracy: 0.8048\n",
            "Epoch 39/100\n",
            "313/313 [==============================] - 4s 13ms/step - loss: 0.4194 - accuracy: 0.8119 - val_loss: 0.4291 - val_accuracy: 0.8034\n",
            "Epoch 40/100\n",
            "313/313 [==============================] - 4s 13ms/step - loss: 0.4183 - accuracy: 0.8077 - val_loss: 0.4282 - val_accuracy: 0.8074\n",
            "Epoch 41/100\n",
            "313/313 [==============================] - 4s 13ms/step - loss: 0.4168 - accuracy: 0.8111 - val_loss: 0.4280 - val_accuracy: 0.8046\n",
            "Epoch 42/100\n",
            "313/313 [==============================] - 4s 13ms/step - loss: 0.4154 - accuracy: 0.8097 - val_loss: 0.4268 - val_accuracy: 0.8066\n",
            "Epoch 43/100\n",
            "313/313 [==============================] - 4s 13ms/step - loss: 0.4153 - accuracy: 0.8115 - val_loss: 0.4305 - val_accuracy: 0.8042\n",
            "Epoch 44/100\n",
            "313/313 [==============================] - 4s 13ms/step - loss: 0.4161 - accuracy: 0.8104 - val_loss: 0.4263 - val_accuracy: 0.8074\n",
            "Epoch 45/100\n",
            "313/313 [==============================] - 4s 13ms/step - loss: 0.4142 - accuracy: 0.8120 - val_loss: 0.4262 - val_accuracy: 0.8074\n",
            "Epoch 46/100\n",
            "313/313 [==============================] - 4s 13ms/step - loss: 0.4140 - accuracy: 0.8105 - val_loss: 0.4255 - val_accuracy: 0.8084\n",
            "Epoch 47/100\n",
            "313/313 [==============================] - 4s 13ms/step - loss: 0.4130 - accuracy: 0.8106 - val_loss: 0.4253 - val_accuracy: 0.8040\n",
            "Epoch 48/100\n",
            "313/313 [==============================] - 4s 13ms/step - loss: 0.4112 - accuracy: 0.8123 - val_loss: 0.4247 - val_accuracy: 0.8080\n",
            "Epoch 49/100\n",
            "313/313 [==============================] - 4s 13ms/step - loss: 0.4105 - accuracy: 0.8128 - val_loss: 0.4250 - val_accuracy: 0.8076\n",
            "Epoch 50/100\n",
            "313/313 [==============================] - 4s 13ms/step - loss: 0.4123 - accuracy: 0.8132 - val_loss: 0.4247 - val_accuracy: 0.8076\n",
            "Epoch 51/100\n",
            "313/313 [==============================] - 4s 13ms/step - loss: 0.4091 - accuracy: 0.8135 - val_loss: 0.4242 - val_accuracy: 0.8078\n",
            "Epoch 52/100\n",
            "313/313 [==============================] - 4s 13ms/step - loss: 0.4092 - accuracy: 0.8146 - val_loss: 0.4243 - val_accuracy: 0.8090\n",
            "Epoch 53/100\n",
            "313/313 [==============================] - 4s 14ms/step - loss: 0.4093 - accuracy: 0.8159 - val_loss: 0.4250 - val_accuracy: 0.8054\n",
            "Epoch 54/100\n",
            "313/313 [==============================] - 4s 13ms/step - loss: 0.4085 - accuracy: 0.8148 - val_loss: 0.4237 - val_accuracy: 0.8096\n",
            "Epoch 55/100\n",
            "313/313 [==============================] - 4s 13ms/step - loss: 0.4083 - accuracy: 0.8152 - val_loss: 0.4266 - val_accuracy: 0.8080\n",
            "Epoch 56/100\n",
            "313/313 [==============================] - 4s 13ms/step - loss: 0.4045 - accuracy: 0.8145 - val_loss: 0.4243 - val_accuracy: 0.8112\n",
            "Epoch 57/100\n",
            "313/313 [==============================] - 4s 14ms/step - loss: 0.4067 - accuracy: 0.8164 - val_loss: 0.4234 - val_accuracy: 0.8118\n",
            "Epoch 58/100\n",
            "313/313 [==============================] - 4s 14ms/step - loss: 0.4060 - accuracy: 0.8160 - val_loss: 0.4271 - val_accuracy: 0.8018\n",
            "Epoch 59/100\n",
            "313/313 [==============================] - 4s 14ms/step - loss: 0.4057 - accuracy: 0.8157 - val_loss: 0.4228 - val_accuracy: 0.8114\n",
            "Epoch 60/100\n",
            "313/313 [==============================] - 4s 13ms/step - loss: 0.4048 - accuracy: 0.8186 - val_loss: 0.4232 - val_accuracy: 0.8114\n",
            "Epoch 61/100\n",
            "313/313 [==============================] - 4s 13ms/step - loss: 0.4031 - accuracy: 0.8158 - val_loss: 0.4218 - val_accuracy: 0.8094\n",
            "Epoch 62/100\n",
            "313/313 [==============================] - 4s 13ms/step - loss: 0.4036 - accuracy: 0.8149 - val_loss: 0.4218 - val_accuracy: 0.8080\n",
            "Epoch 63/100\n",
            "313/313 [==============================] - 4s 12ms/step - loss: 0.4026 - accuracy: 0.8162 - val_loss: 0.4278 - val_accuracy: 0.8012\n",
            "Epoch 64/100\n",
            "313/313 [==============================] - 4s 14ms/step - loss: 0.4019 - accuracy: 0.8167 - val_loss: 0.4205 - val_accuracy: 0.8104\n",
            "Epoch 65/100\n",
            "313/313 [==============================] - 4s 13ms/step - loss: 0.4008 - accuracy: 0.8181 - val_loss: 0.4204 - val_accuracy: 0.8106\n",
            "Epoch 66/100\n",
            "313/313 [==============================] - 4s 13ms/step - loss: 0.4030 - accuracy: 0.8177 - val_loss: 0.4215 - val_accuracy: 0.8080\n",
            "Epoch 67/100\n",
            "313/313 [==============================] - 4s 13ms/step - loss: 0.4024 - accuracy: 0.8178 - val_loss: 0.4205 - val_accuracy: 0.8092\n",
            "Epoch 68/100\n",
            "313/313 [==============================] - 4s 13ms/step - loss: 0.4002 - accuracy: 0.8184 - val_loss: 0.4217 - val_accuracy: 0.8122\n"
          ]
        }
      ]
    },
    {
      "cell_type": "code",
      "source": [
        "plt.plot(history.history['loss'])\n",
        "plt.plot(history.history['val_loss'])\n",
        "plt.xlabel('epoch')\n",
        "plt.ylabel('loss')\n",
        "plt.legend(['train', 'val'])\n",
        "plt.title('2 LSTM')\n",
        "plt.show()"
      ],
      "metadata": {
        "colab": {
          "base_uri": "https://localhost:8080/",
          "height": 295
        },
        "id": "LyTaOHh6n3wS",
        "outputId": "156fb427-750f-406f-c118-4c7c594d97cf"
      },
      "execution_count": null,
      "outputs": [
        {
          "output_type": "display_data",
          "data": {
            "text/plain": [
              "<Figure size 432x288 with 1 Axes>"
            ],
            "image/png": "[encoded data removed]"
          },
          "metadata": {
            "needs_background": "light"
          }
        }
      ]
    },
    {
      "cell_type": "code",
      "source": [
        "# GRU 신경망 훈련하기"
      ],
      "metadata": {
        "id": "p_2gHIuboowE"
      },
      "execution_count": null,
      "outputs": []
    },
    {
      "cell_type": "code",
      "source": [
        "model4 = keras.Sequential()\n",
        "model4.add(keras.layers.Embedding(500, 16, input_length = 100))\n",
        "model4.add(keras.layers.GRU(8)) # GRU\n",
        "model4.add(keras.layers.Dense(1, activation = 'sigmoid'))"
      ],
      "metadata": {
        "id": "5l0pLMWhotEO"
      },
      "execution_count": null,
      "outputs": []
    },
    {
      "cell_type": "code",
      "source": [
        "model4.summary()\n",
        "\n",
        "# 8000 = 500*16\n",
        "# 624 = 3(16*8 + 8*8 + 8*1 + 8*1)"
      ],
      "metadata": {
        "colab": {
          "base_uri": "https://localhost:8080/"
        },
        "id": "ToUxl_c_pJ6G",
        "outputId": "56d2b59e-2e49-4892-f71e-360ef89ce983"
      },
      "execution_count": null,
      "outputs": [
        {
          "output_type": "stream",
          "name": "stdout",
          "text": [
            "Model: \"sequential_7\"\n",
            "_________________________________________________________________\n",
            " Layer (type)                Output Shape              Param #   \n",
            "=================================================================\n",
            " embedding_7 (Embedding)     (None, 100, 16)           8000      \n",
            "                                                                 \n",
            " gru_1 (GRU)                 (None, 8)                 624       \n",
            "                                                                 \n",
            " dense_7 (Dense)             (None, 1)                 9         \n",
            "                                                                 \n",
            "=================================================================\n",
            "Total params: 8,633\n",
            "Trainable params: 8,633\n",
            "Non-trainable params: 0\n",
            "_________________________________________________________________\n"
          ]
        }
      ]
    },
    {
      "cell_type": "code",
      "source": [
        "rmsprop = keras.optimizers.RMSprop(learning_rate = 1e-4)\n",
        "model4.compile(optimizer = rmsprop, loss = 'binary_crossentropy', metrics = ['accuracy'])\n",
        "checkpoint_cb = keras.callbacks.ModelCheckpoint('best-gru-model.h5', save_best_only = True)\n",
        "early_stopping_cb = keras.callbacks.EarlyStopping(patience = 3, restore_best_weights = True)"
      ],
      "metadata": {
        "id": "qhUNpBYnpD6n"
      },
      "execution_count": null,
      "outputs": []
    },
    {
      "cell_type": "code",
      "source": [
        "history = model4.fit(train_seq, train_target, epochs = 100, batch_size = 64, validation_data = (val_seq, val_target), callbacks = [checkpoint_cb, early_stopping_cb])"
      ],
      "metadata": {
        "colab": {
          "base_uri": "https://localhost:8080/"
        },
        "id": "-jmAeV6Uq2yh",
        "outputId": "33ee8443-6d49-4488-f0ce-f84daa45eb71"
      },
      "execution_count": null,
      "outputs": [
        {
          "output_type": "stream",
          "name": "stdout",
          "text": [
            "Epoch 1/100\n",
            "313/313 [==============================] - 5s 9ms/step - loss: 0.6928 - accuracy: 0.5253 - val_loss: 0.6924 - val_accuracy: 0.5346\n",
            "Epoch 2/100\n",
            "313/313 [==============================] - 3s 8ms/step - loss: 0.6917 - accuracy: 0.5570 - val_loss: 0.6911 - val_accuracy: 0.5630\n",
            "Epoch 3/100\n",
            "313/313 [==============================] - 3s 8ms/step - loss: 0.6895 - accuracy: 0.5876 - val_loss: 0.6885 - val_accuracy: 0.5870\n",
            "Epoch 4/100\n",
            "313/313 [==============================] - 3s 8ms/step - loss: 0.6855 - accuracy: 0.6149 - val_loss: 0.6833 - val_accuracy: 0.6164\n",
            "Epoch 5/100\n",
            "313/313 [==============================] - 3s 8ms/step - loss: 0.6782 - accuracy: 0.6348 - val_loss: 0.6745 - val_accuracy: 0.6296\n",
            "Epoch 6/100\n",
            "313/313 [==============================] - 3s 8ms/step - loss: 0.6654 - accuracy: 0.6502 - val_loss: 0.6587 - val_accuracy: 0.6472\n",
            "Epoch 7/100\n",
            "313/313 [==============================] - 3s 8ms/step - loss: 0.6429 - accuracy: 0.6677 - val_loss: 0.6295 - val_accuracy: 0.6740\n",
            "Epoch 8/100\n",
            "313/313 [==============================] - 2s 8ms/step - loss: 0.5981 - accuracy: 0.7012 - val_loss: 0.5667 - val_accuracy: 0.7220\n",
            "Epoch 9/100\n",
            "313/313 [==============================] - 3s 10ms/step - loss: 0.5265 - accuracy: 0.7484 - val_loss: 0.5155 - val_accuracy: 0.7536\n",
            "Epoch 10/100\n",
            "313/313 [==============================] - 3s 9ms/step - loss: 0.5000 - accuracy: 0.7638 - val_loss: 0.4995 - val_accuracy: 0.7648\n",
            "Epoch 11/100\n",
            "313/313 [==============================] - 3s 8ms/step - loss: 0.4851 - accuracy: 0.7707 - val_loss: 0.4873 - val_accuracy: 0.7704\n",
            "Epoch 12/100\n",
            "313/313 [==============================] - 2s 8ms/step - loss: 0.4719 - accuracy: 0.7823 - val_loss: 0.4807 - val_accuracy: 0.7758\n",
            "Epoch 13/100\n",
            "313/313 [==============================] - 3s 8ms/step - loss: 0.4621 - accuracy: 0.7873 - val_loss: 0.4736 - val_accuracy: 0.7798\n",
            "Epoch 14/100\n",
            "313/313 [==============================] - 3s 8ms/step - loss: 0.4540 - accuracy: 0.7933 - val_loss: 0.4644 - val_accuracy: 0.7838\n",
            "Epoch 15/100\n",
            "313/313 [==============================] - 3s 8ms/step - loss: 0.4467 - accuracy: 0.7965 - val_loss: 0.4599 - val_accuracy: 0.7870\n",
            "Epoch 16/100\n",
            "313/313 [==============================] - 2s 8ms/step - loss: 0.4414 - accuracy: 0.8007 - val_loss: 0.4567 - val_accuracy: 0.7894\n",
            "Epoch 17/100\n",
            "313/313 [==============================] - 3s 8ms/step - loss: 0.4369 - accuracy: 0.8034 - val_loss: 0.4542 - val_accuracy: 0.7914\n",
            "Epoch 18/100\n",
            "313/313 [==============================] - 3s 8ms/step - loss: 0.4335 - accuracy: 0.8061 - val_loss: 0.4518 - val_accuracy: 0.7934\n",
            "Epoch 19/100\n",
            "313/313 [==============================] - 3s 8ms/step - loss: 0.4300 - accuracy: 0.8085 - val_loss: 0.4533 - val_accuracy: 0.7902\n",
            "Epoch 20/100\n",
            "313/313 [==============================] - 3s 8ms/step - loss: 0.4276 - accuracy: 0.8103 - val_loss: 0.4486 - val_accuracy: 0.7934\n",
            "Epoch 21/100\n",
            "313/313 [==============================] - 3s 8ms/step - loss: 0.4256 - accuracy: 0.8109 - val_loss: 0.4498 - val_accuracy: 0.7912\n",
            "Epoch 22/100\n",
            "313/313 [==============================] - 3s 9ms/step - loss: 0.4242 - accuracy: 0.8110 - val_loss: 0.4463 - val_accuracy: 0.7946\n",
            "Epoch 23/100\n",
            "313/313 [==============================] - 3s 8ms/step - loss: 0.4220 - accuracy: 0.8136 - val_loss: 0.4489 - val_accuracy: 0.7938\n",
            "Epoch 24/100\n",
            "313/313 [==============================] - 3s 8ms/step - loss: 0.4209 - accuracy: 0.8134 - val_loss: 0.4443 - val_accuracy: 0.7952\n",
            "Epoch 25/100\n",
            "313/313 [==============================] - 3s 10ms/step - loss: 0.4197 - accuracy: 0.8144 - val_loss: 0.4437 - val_accuracy: 0.7936\n",
            "Epoch 26/100\n",
            "313/313 [==============================] - 3s 8ms/step - loss: 0.4189 - accuracy: 0.8148 - val_loss: 0.4438 - val_accuracy: 0.7964\n",
            "Epoch 27/100\n",
            "313/313 [==============================] - 3s 8ms/step - loss: 0.4178 - accuracy: 0.8142 - val_loss: 0.4428 - val_accuracy: 0.7976\n",
            "Epoch 28/100\n",
            "313/313 [==============================] - 3s 8ms/step - loss: 0.4170 - accuracy: 0.8163 - val_loss: 0.4435 - val_accuracy: 0.7986\n",
            "Epoch 29/100\n",
            "313/313 [==============================] - 3s 8ms/step - loss: 0.4161 - accuracy: 0.8156 - val_loss: 0.4428 - val_accuracy: 0.7932\n",
            "Epoch 30/100\n",
            "313/313 [==============================] - 3s 8ms/step - loss: 0.4151 - accuracy: 0.8163 - val_loss: 0.4436 - val_accuracy: 0.7966\n"
          ]
        }
      ]
    },
    {
      "cell_type": "code",
      "source": [
        "plt.plot(history.history['loss'])\n",
        "plt.plot(history.history['val_loss'])\n",
        "plt.xlabel('epoch')\n",
        "plt.ylabel('loss')\n",
        "plt.legend(['train', 'val'])\n",
        "plt.title('GRU')\n",
        "plt.show()"
      ],
      "metadata": {
        "colab": {
          "base_uri": "https://localhost:8080/",
          "height": 295
        },
        "id": "6urWFSzdrS_K",
        "outputId": "8d1e5d6a-e8db-4c4c-d2e7-51d8a8d2727b"
      },
      "execution_count": null,
      "outputs": [
        {
          "output_type": "display_data",
          "data": {
            "text/plain": [
              "<Figure size 432x288 with 1 Axes>"
            ],
            "image/png": "[encoded data removed]"
          },
          "metadata": {
            "needs_background": "light"
          }
        }
      ]
    },
    {
      "cell_type": "code",
      "source": [
        "# LSTM과 GRU 셀로 훈련"
      ],
      "metadata": {
        "id": "JLlFjiZ9pfdn"
      },
      "execution_count": null,
      "outputs": []
    },
    {
      "cell_type": "code",
      "source": [
        "test_seq = pad_sequences(test_input, maxlen = 100)\n",
        "rnn_model = keras.models.load_model('best-2rnn-model.h5')\n",
        "rnn_model.evaluate(test_seq, test_target)"
      ],
      "metadata": {
        "colab": {
          "base_uri": "https://localhost:8080/"
        },
        "id": "q-9tIq_Xr7rq",
        "outputId": "f61da523-ed6c-4718-e72e-df7c53f69fec"
      },
      "execution_count": null,
      "outputs": [
        {
          "output_type": "stream",
          "name": "stdout",
          "text": [
            "782/782 [==============================] - 5s 5ms/step - loss: 0.4167 - accuracy: 0.8061\n"
          ]
        },
        {
          "output_type": "execute_result",
          "data": {
            "text/plain": [
              "[0.4167357385158539, 0.8060799837112427]"
            ]
          },
          "metadata": {},
          "execution_count": 78
        }
      ]
    }
  ]
}