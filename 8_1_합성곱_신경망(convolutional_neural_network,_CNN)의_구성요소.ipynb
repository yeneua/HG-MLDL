{
  "nbformat": 4,
  "nbformat_minor": 0,
  "metadata": {
    "colab": {
      "provenance": [],
      "collapsed_sections": [],
      "include_colab_link": true
    },
    "kernelspec": {
      "name": "python3",
      "display_name": "Python 3"
    },
    "language_info": {
      "name": "python"
    }
  },
  "cells": [
    {
      "cell_type": "markdown",
      "metadata": {
        "id": "view-in-github",
        "colab_type": "text"
      },
      "source": [
        "<a href=\"https://colab.research.google.com/github/yeneua/HG-MLDL/blob/main/8_1_%ED%95%A9%EC%84%B1%EA%B3%B1_%EC%8B%A0%EA%B2%BD%EB%A7%9D(convolutional_neural_network%2C_CNN)%EC%9D%98_%EA%B5%AC%EC%84%B1%EC%9A%94%EC%86%8C.ipynb\" target=\"_parent\"><img src=\"https://colab.research.google.com/assets/colab-badge.svg\" alt=\"Open In Colab\"/></a>"
      ]
    },
    {
      "cell_type": "markdown",
      "metadata": {
        "id": "z2Yi2DYqz87X"
      },
      "source": [
        "# **8.1 합성곱 신경망(convolutional neural network, CNN)의 구성요소**\n",
        "\n",
        "*   합성곱(convoltion): 합성곱은 밀집층과 비슷하게 입력과 가중치를 곱하고 절편을\n",
        "더하는 선형 계산이지만 밀집층과 달리 합성곱은 입력 데이터 전체에 가중치를 적용하는 것이 아니라 일부에 가중치를 곱함.\n",
        "\n",
        "*   필터(filter): 밀집층의 뉴런에 해당, 뉴런 = 필터 = 커널 모두 같은 말이라 생각해도 좋음\n",
        "\n",
        "*   특성맵(feature map): 합성곱 계산을 통해 얻은 출력을 특별히 특성맵이라 부름\n",
        "\n",
        "*   패딩과 세임패딩(padding and same padding): 입력 배열의 주위를 가상의 원소(보통 0)으로 채우는 것을 패딩이라고 하고 합성곱 신경망에서는 세임 패딩을 많이 사용함.\n",
        "\n",
        "*   밸리드 패딩(valid padding): 패딩 없이 순수한 입력 배열에서만 합성곱을 하여 특성 맵을 만드는 경우이며 특성 맵의 크기가 줄어들 수 밖에 없음.\n",
        "\n",
        "\n",
        "*   스트라이드(stride): 합성곱 층에서 필터가 입력 위를 이동하는 크기로 기본으로 스트라이드는 1픽셀, 즉 한 칸씩 이동함\n",
        "\n",
        "\n",
        "*   풀링(pooling): \n",
        " \n",
        "\n"
      ]
    },
    {
      "cell_type": "code",
      "metadata": {
        "id": "T4LomAjA0iza"
      },
      "source": [
        "# 케라스 합성곱 층\n",
        "from tensorflow import keras\n",
        "\n",
        "  # 케라스 층은 모두 keras.layers 패키지 아래 클래스로 구현됨"
      ],
      "execution_count": null,
      "outputs": []
    },
    {
      "cell_type": "code",
      "metadata": {
        "colab": {
          "base_uri": "https://localhost:8080/"
        },
        "id": "wh8JWVqC0zjU",
        "outputId": "e053d0c0-ee30-4288-fd9c-11f58bc8ea6e"
      },
      "source": [
        "keras.layers.Conv2D(10, kernel_size=(3,3), activation='relu') \n",
        "  # 입력 위를 이동하는 합성곱은 Conv2D 클래스로 제공함\n",
        "  # Conv2D 클래스의 매개변수는 '필터의 개수, 사용할 커널의 크기 지정, 활성화 함수 지정'\n",
        "    # 일반적으로 특성 맵은 활성화 함수를 통과한 값을 나타내므로 활성화 출력이라는 표현을 잘 쓰지 않음\n",
        "  # 커널의 크기는 하이퍼파라미터로 여러가지 값을 시도할 수 있는데 보통 (3,3)이나 (5,5)크기가 권장됨\n",
        "  # 합성곱 신경망의 정의는 1개 이상의 합성곱 층을 쓴 인공 신경망"
      ],
      "execution_count": null,
      "outputs": [
        {
          "output_type": "execute_result",
          "data": {
            "text/plain": [
              "<tensorflow.python.keras.layers.convolutional.Conv2D at 0x7fefbfc334d0>"
            ]
          },
          "metadata": {
            "tags": []
          },
          "execution_count": 2
        }
      ]
    },
    {
      "cell_type": "code",
      "metadata": {
        "colab": {
          "base_uri": "https://localhost:8080/"
        },
        "id": "USyswj4k01hc",
        "outputId": "aabe3e12-f914-477c-e9ee-9e92a7a46ffc"
      },
      "source": [
        "keras.layers.Conv2D(10, kernel_size=(3,3), activation='relu', padding='same')   \n",
        "  # keras Conv2D클래스에서 padding 지정 가능\n",
        "  # padding의 기본값은 'valid'로 밸리드 패딩으로 세임 패딩을 사용하려면 'same'으로 지정\n"
      ],
      "execution_count": null,
      "outputs": [
        {
          "output_type": "execute_result",
          "data": {
            "text/plain": [
              "<tensorflow.python.keras.layers.convolutional.Conv2D at 0x7fef762bf210>"
            ]
          },
          "metadata": {
            "tags": []
          },
          "execution_count": 6
        }
      ]
    },
    {
      "cell_type": "code",
      "metadata": {
        "colab": {
          "base_uri": "https://localhost:8080/"
        },
        "id": "B6TkcXK604mc",
        "outputId": "899962c2-1525-4da0-f370-62876fb6b595"
      },
      "source": [
        "keras.layers.Conv2D(10, kernel_size=(3,3), activation='relu', padding='same', strides=1) # stirdes는 커널의 이동 크기 지정"
      ],
      "execution_count": null,
      "outputs": [
        {
          "output_type": "execute_result",
          "data": {
            "text/plain": [
              "<tensorflow.python.keras.layers.convolutional.Conv2D at 0x7fef76310e50>"
            ]
          },
          "metadata": {
            "tags": []
          },
          "execution_count": 7
        }
      ]
    },
    {
      "cell_type": "code",
      "metadata": {
        "colab": {
          "base_uri": "https://localhost:8080/"
        },
        "id": "-yNzL6Ip1Bbs",
        "outputId": "6845a822-4480-4073-afc1-dff55ea47b5d"
      },
      "source": [
        "keras.layers.MaxPooling2D(2)    \n",
        "  # 케라스에서는 MaxPooling2D 클래스로 풀링을 수행함\n",
        "  # 풀링은 가중치가 없고 풀링 크기와 스트라이드가 같기 때문에 이해하기 쉬움\n",
        "  # 첫 번째 매개변수는 풀링의 크기를 지정, 대부분 풀링의 크기는 2 -> 즉 가로세로크기를 절반으로 만듦\n",
        "  # 가로세로 방향의 풀링 크기를 다르게 하려면 첫 번째 매개변수를 정수의 튜플로 지정 가능(예. (2, 3))"
      ],
      "execution_count": null,
      "outputs": [
        {
          "output_type": "execute_result",
          "data": {
            "text/plain": [
              "<tensorflow.python.keras.layers.pooling.MaxPooling2D at 0x7fef7632ccd0>"
            ]
          },
          "metadata": {
            "tags": []
          },
          "execution_count": 8
        }
      ]
    },
    {
      "cell_type": "code",
      "metadata": {
        "colab": {
          "base_uri": "https://localhost:8080/"
        },
        "id": "JqFX8TAy1MCd",
        "outputId": "a669d00b-d6fb-4427-8ee2-54fc659529c4"
      },
      "source": [
        "keras.layers.MaxPooling2D(2, strides=2, padding='valid') \n",
        "    # strides와 padding 매개변수를 제공함\n",
        "    # strides의 기본값은 자동으로 풀링의 크기로 따로 지정할 필요 없음\n",
        "    # padding의 기본값은 'valid'로 패딩을 하지 않음. 풀링은 패딩을 하지 않으므로 매개변수를 바꾸는 경우는 거의 없음\n",
        "    # 평균 풀링을 제공하는 클래스는 AveragePooling2D.\n",
        "    # 최댓값 대신 평균을 계산하는 것을 빼면 MaxPooling2D와 동일하며 제공하는 매개변수도 같음\n",
        "    # 많은 경우 평균 풀링보다 최대 풀링을 많이 사용함. 풀링은 가로세로 방향으로만 진행됨.\n"
      ],
      "execution_count": null,
      "outputs": [
        {
          "output_type": "execute_result",
          "data": {
            "text/plain": [
              "<tensorflow.python.keras.layers.pooling.MaxPooling2D at 0x7fef76292110>"
            ]
          },
          "metadata": {
            "tags": []
          },
          "execution_count": 9
        }
      ]
    }
  ]
}