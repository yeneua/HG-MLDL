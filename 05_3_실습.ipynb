{
  "nbformat": 4,
  "nbformat_minor": 0,
  "metadata": {
    "colab": {
      "name": "05-3 실습.ipynb",
      "provenance": [],
      "collapsed_sections": [],
      "authorship_tag": "ABX9TyMlDZZDceVUO4yF+mLYxp6h",
      "include_colab_link": true
    },
    "kernelspec": {
      "name": "python3",
      "display_name": "Python 3"
    },
    "language_info": {
      "name": "python"
    }
  },
  "cells": [
    {
      "cell_type": "markdown",
      "metadata": {
        "id": "view-in-github",
        "colab_type": "text"
      },
      "source": [
        "<a href=\"https://colab.research.google.com/github/yeneua/HG-MLDL/blob/main/05_3_%EC%8B%A4%EC%8A%B5.ipynb\" target=\"_parent\"><img src=\"https://colab.research.google.com/assets/colab-badge.svg\" alt=\"Open In Colab\"/></a>"
      ]
    },
    {
      "cell_type": "markdown",
      "source": [
        "<h2>05-3 트리의 앙상블</h2>"
      ],
      "metadata": {
        "id": "6rJAlu4GjZJn"
      }
    },
    {
      "cell_type": "markdown",
      "source": [
        "랜덤 포레스트"
      ],
      "metadata": {
        "id": "xPJoYwou598q"
      }
    },
    {
      "cell_type": "code",
      "source": [
        "import numpy as np\n",
        "import pandas as pd\n",
        "from sklearn.model_selection import train_test_split\n",
        "wine = pd.read_csv('https://bit.ly/wine_csv_data')\n",
        "data = wine[['alcohol', 'sugar', 'pH']].to_numpy()\n",
        "target = wine['class'].to_numpy()\n",
        "train_input, test_input, train_target, test_target = train_test_split(data, target, test_size = 0.2, random_state = 42)"
      ],
      "metadata": {
        "id": "wc0HYP-V5_Hn"
      },
      "execution_count": 1,
      "outputs": []
    },
    {
      "cell_type": "code",
      "source": [
        "from sklearn.model_selection import cross_validate # 교차검증 함수\n",
        "from sklearn.ensemble import RandomForestClassifier # 랜덤포레스트\n",
        "rf = RandomForestClassifier(n_jobs = -1, random_state = 42) # 랜덤포레스트 객체할당"
      ],
      "metadata": {
        "id": "f1rQIqe96n_9"
      },
      "execution_count": 4,
      "outputs": []
    },
    {
      "cell_type": "code",
      "execution_count": 8,
      "metadata": {
        "id": "tKrkbIA_jRkL"
      },
      "outputs": [],
      "source": [
        "scores = cross_validate(rf, train_input, train_target, return_train_score = True, n_jobs = -1) # 교차검증"
      ]
    },
    {
      "cell_type": "code",
      "source": [
        "print(scores) # 5폴드 교차검증(기본)"
      ],
      "metadata": {
        "colab": {
          "base_uri": "https://localhost:8080/"
        },
        "id": "-ooidIy_7dv-",
        "outputId": "3b376d94-6418-412d-8c90-6d6970fe66e8"
      },
      "execution_count": 10,
      "outputs": [
        {
          "output_type": "stream",
          "name": "stdout",
          "text": [
            "{'fit_time': array([0.87527514, 1.08443785, 0.86284971, 0.94291329, 0.74418497]), 'score_time': array([0.20713425, 0.12287021, 0.12284541, 0.12220669, 0.10463834]), 'test_score': array([0.88461538, 0.88942308, 0.90279115, 0.88931665, 0.88642926]), 'train_score': array([0.9971133 , 0.99663219, 0.9978355 , 0.9973545 , 0.9978355 ])}\n"
          ]
        }
      ]
    },
    {
      "cell_type": "code",
      "source": [
        "print(np.mean(scores['train_score']), np.mean(scores['test_score']))"
      ],
      "metadata": {
        "id": "0ELbuHcWjYTt",
        "colab": {
          "base_uri": "https://localhost:8080/"
        },
        "outputId": "6282942f-ef07-4382-f1d4-1b3f4facdac0"
      },
      "execution_count": 11,
      "outputs": [
        {
          "output_type": "stream",
          "name": "stdout",
          "text": [
            "0.9973541965122431 0.8905151032797809\n"
          ]
        }
      ]
    },
    {
      "cell_type": "code",
      "source": [
        "rf.fit(train_input, train_target) # 전체 훈련세트로 훈련\n",
        "print(rf.feature_importances_) # 변수 중요도 출력"
      ],
      "metadata": {
        "colab": {
          "base_uri": "https://localhost:8080/"
        },
        "id": "5Q82vX6u7b1r",
        "outputId": "6314644f-2848-42b5-cdac-f7cb7a9ea669"
      },
      "execution_count": 13,
      "outputs": [
        {
          "output_type": "stream",
          "name": "stdout",
          "text": [
            "[0.23167441 0.50039841 0.26792718]\n"
          ]
        }
      ]
    },
    {
      "cell_type": "code",
      "source": [
        "rf = RandomForestClassifier(oob_score = True, n_jobs = -1, random_state = 42)\n",
        "rf.fit(train_input, train_target)\n",
        "print(rf.oob_score_) # 교차검증점수와 비슷"
      ],
      "metadata": {
        "colab": {
          "base_uri": "https://localhost:8080/"
        },
        "id": "vu-ML6Fz7zjW",
        "outputId": "31ecfb00-b462-432d-8ae6-6327f7d69d4c"
      },
      "execution_count": 16,
      "outputs": [
        {
          "output_type": "stream",
          "name": "stdout",
          "text": [
            "0.8934000384837406\n"
          ]
        }
      ]
    },
    {
      "cell_type": "markdown",
      "source": [
        "엑스트라 트리"
      ],
      "metadata": {
        "id": "Q2QnmQX58xnU"
      }
    },
    {
      "cell_type": "code",
      "source": [
        "from sklearn.ensemble import ExtraTreesClassifier\n",
        "et = ExtraTreesClassifier(n_jobs = -1, random_state = 42)\n",
        "scores = cross_validate(et, train_input, train_target, return_train_score = True, n_jobs = -1)\n",
        "print(np.mean(scores['train_score']), np.mean(scores['test_score']))"
      ],
      "metadata": {
        "colab": {
          "base_uri": "https://localhost:8080/"
        },
        "id": "_BeoKwPW8Edz",
        "outputId": "7e419559-cb63-47b2-cf69-5f472d4be361"
      },
      "execution_count": 18,
      "outputs": [
        {
          "output_type": "stream",
          "name": "stdout",
          "text": [
            "0.9974503966084433 0.8887848893166506\n"
          ]
        }
      ]
    },
    {
      "cell_type": "code",
      "source": [
        "et.fit(train_input, train_target)\n",
        "print(et.feature_importances_)"
      ],
      "metadata": {
        "colab": {
          "base_uri": "https://localhost:8080/"
        },
        "id": "HTfblgwn9Lpy",
        "outputId": "5e806702-b36d-4c46-e6c2-0d93d32e62b8"
      },
      "execution_count": 21,
      "outputs": [
        {
          "output_type": "stream",
          "name": "stdout",
          "text": [
            "[0.20183568 0.52242907 0.27573525]\n"
          ]
        }
      ]
    },
    {
      "cell_type": "markdown",
      "source": [
        "그레이디언트 부스팅"
      ],
      "metadata": {
        "id": "1P-vkFXBEdh8"
      }
    },
    {
      "cell_type": "code",
      "source": [
        "from sklearn.ensemble import GradientBoostingClassifier\n",
        "gb = GradientBoostingClassifier(random_state = 42)\n",
        "scores = cross_validate(gb, train_input, train_target, return_train_score = True, n_jobs = -1)\n",
        "print(np.mean(scores['train_score']), np.mean(scores['test_score'])) # 그레이디언트 교차검증 점수 "
      ],
      "metadata": {
        "colab": {
          "base_uri": "https://localhost:8080/"
        },
        "id": "BcoY8jwhEfZ2",
        "outputId": "f8c1be44-018c-4a03-98a4-1605188fd29c"
      },
      "execution_count": 25,
      "outputs": [
        {
          "output_type": "stream",
          "name": "stdout",
          "text": [
            "0.8881086892152563 0.8720430147331015\n"
          ]
        }
      ]
    },
    {
      "cell_type": "code",
      "source": [
        "gb = GradientBoostingClassifier(n_estimators = 500, learning_rate = 0.2, random_state = 42) # 결정트리개수 - 500개, learning_rate : 학습속도제어\n",
        "scores = cross_validate(gb, train_input, train_target, return_train_score = True, n_jobs = -1)\n",
        "print(np.mean(scores['train_score']), np.mean(scores['test_score']))"
      ],
      "metadata": {
        "colab": {
          "base_uri": "https://localhost:8080/"
        },
        "id": "a7E6yWvWFRZY",
        "outputId": "cecec36d-6331-4ff7-a708-6563e66620a5"
      },
      "execution_count": 29,
      "outputs": [
        {
          "output_type": "stream",
          "name": "stdout",
          "text": [
            "0.9464595437171814 0.8780082549788999\n"
          ]
        }
      ]
    },
    {
      "cell_type": "code",
      "source": [
        "gb.fit(train_input, train_target)\n",
        "print(gb.feature_importances_)"
      ],
      "metadata": {
        "colab": {
          "base_uri": "https://localhost:8080/"
        },
        "id": "N-B6cU5qFGTA",
        "outputId": "38673e09-3bbf-44df-ec1a-6bd7c9ebc94d"
      },
      "execution_count": 30,
      "outputs": [
        {
          "output_type": "stream",
          "name": "stdout",
          "text": [
            "[0.15872278 0.68010884 0.16116839]\n"
          ]
        }
      ]
    },
    {
      "cell_type": "markdown",
      "source": [
        "히스토그램 기반 그레이디언트 부스팅"
      ],
      "metadata": {
        "id": "WgA5CdOhGGQf"
      }
    },
    {
      "cell_type": "code",
      "source": [
        "from sklearn.experimental import enable_hist_gradient_boosting\n",
        "from sklearn.ensemble import HistGradientBoostingClassifier\n",
        "hgb = HistGradientBoostingClassifier(random_state = 42)\n",
        "scores = cross_validate(hgb, train_input, train_target, return_train_score = True)\n",
        "print(np.mean(scores['train_score']), np.mean(scores['test_score'])) # 히스토그램 기반 그레이디언트 부스팅 교차검증 점수"
      ],
      "metadata": {
        "colab": {
          "base_uri": "https://localhost:8080/"
        },
        "id": "DJpIkBWAGJKF",
        "outputId": "61cf15e3-7327-4b30-fd4f-205d85eaa23e"
      },
      "execution_count": 46,
      "outputs": [
        {
          "output_type": "stream",
          "name": "stdout",
          "text": [
            "0.9321723946453317 0.8801241948619236\n"
          ]
        }
      ]
    },
    {
      "cell_type": "code",
      "source": [
        "from sklearn.inspection import permutation_importance # 변수 중요도"
      ],
      "metadata": {
        "id": "yGBD7kUK9drA"
      },
      "execution_count": 33,
      "outputs": []
    },
    {
      "cell_type": "code",
      "source": [
        "hgb.fit(train_input, train_target)\n",
        "result = permutation_importance(hgb, train_input, train_target, n_repeats = 10, random_state = 42, n_jobs = -1)\n",
        "print(result.importances_mean)"
      ],
      "metadata": {
        "colab": {
          "base_uri": "https://localhost:8080/"
        },
        "id": "vjw5NP9cHEFH",
        "outputId": "3229c8f5-a4d8-436c-efc1-b05f70e68502"
      },
      "execution_count": 48,
      "outputs": [
        {
          "output_type": "stream",
          "name": "stdout",
          "text": [
            "[0.08876275 0.23438522 0.08027708]\n"
          ]
        }
      ]
    },
    {
      "cell_type": "code",
      "source": [
        "# => 두번째 특성을 섞으면 정확도가 0.23만큼 떨어진다는 의미\n",
        "# => 두번째 특성이 가장 중요하다"
      ],
      "metadata": {
        "id": "sZ0TxHm6OkfL"
      },
      "execution_count": 50,
      "outputs": []
    },
    {
      "cell_type": "code",
      "source": [
        "print(result)\n",
        "# permutation_importance()\n",
        "# importances 특성중요도\n",
        "# importances_mean 특성중요도 평균\n",
        "# importances_std 표준편차"
      ],
      "metadata": {
        "colab": {
          "base_uri": "https://localhost:8080/"
        },
        "id": "7nwe-20LHYV2",
        "outputId": "679a1d83-0bfe-4992-d318-29e976ca6368"
      },
      "execution_count": 36,
      "outputs": [
        {
          "output_type": "stream",
          "name": "stdout",
          "text": [
            "{'importances_mean': array([0.08876275, 0.23438522, 0.08027708]), 'importances_std': array([0.00382333, 0.00401363, 0.00477012]), 'importances': array([[0.08793535, 0.08350972, 0.08908986, 0.08312488, 0.09274581,\n",
            "        0.08755051, 0.08601116, 0.09601693, 0.09082163, 0.09082163],\n",
            "       [0.22782374, 0.23590533, 0.23936887, 0.23436598, 0.23725226,\n",
            "        0.23436598, 0.23359631, 0.23398114, 0.23994612, 0.22724649],\n",
            "       [0.08581874, 0.08601116, 0.08062344, 0.07504329, 0.08427939,\n",
            "        0.07792957, 0.07234943, 0.07465846, 0.08139311, 0.08466423]])}\n"
          ]
        }
      ]
    },
    {
      "cell_type": "code",
      "source": [
        "result = permutation_importance(hgb, test_input, test_target, # 테스트 세트\n",
        "                                n_repeats = 10, # 랜덤하게 섞을 횟수\n",
        "                                random_state = 42, n_jobs = -1)\n",
        "print(result.importances_mean) # 이 모델을 실전에 투입했을 때, 어떤 특성에 더 중점을 줄 것인지 ?"
      ],
      "metadata": {
        "colab": {
          "base_uri": "https://localhost:8080/"
        },
        "id": "-AAIx0O6H2iK",
        "outputId": "df90ceec-d2de-4125-b042-702e511815dc"
      },
      "execution_count": 37,
      "outputs": [
        {
          "output_type": "stream",
          "name": "stdout",
          "text": [
            "[0.05969231 0.20238462 0.049     ]\n"
          ]
        }
      ]
    },
    {
      "cell_type": "code",
      "source": [
        "hgb.score(test_input, test_target) # 테스트세트에서 성능 최종적으로 확인"
      ],
      "metadata": {
        "colab": {
          "base_uri": "https://localhost:8080/"
        },
        "id": "s_zfydfiIKab",
        "outputId": "5cfa88b5-c67b-4a96-d8e7-b541de7bd7da"
      },
      "execution_count": 38,
      "outputs": [
        {
          "output_type": "execute_result",
          "data": {
            "text/plain": [
              "0.8723076923076923"
            ]
          },
          "metadata": {},
          "execution_count": 38
        }
      ]
    },
    {
      "cell_type": "code",
      "source": [
        "# XGBoost\n",
        "from xgboost import XGBClassifier\n",
        "xgb = XGBClassifier(tree_method = 'hist', random_state = 42)\n",
        "scores = cross_validate(xgb, train_input, train_target, return_train_score = True)\n",
        "print(np.mean(scores['train_score']), np.mean(scores['test_score']))"
      ],
      "metadata": {
        "colab": {
          "base_uri": "https://localhost:8080/"
        },
        "id": "PjqX_nmRIvCd",
        "outputId": "9fad6c82-5ec7-42b5-aa90-ca8e66de9ecb"
      },
      "execution_count": 41,
      "outputs": [
        {
          "output_type": "stream",
          "name": "stdout",
          "text": [
            "0.8824322471423747 0.8726214185237284\n"
          ]
        }
      ]
    },
    {
      "cell_type": "code",
      "source": [
        "# lightgbm\n",
        "from lightgbm import LGBMClassifier\n",
        "lgb = LGBMClassifier(random_state = 42)\n",
        "scores = cross_validate(lgb, train_input, train_target, return_train_score = True, n_jobs = -1)\n",
        "print(np.mean(scores['train_score']), np.mean(scores['test_score']))"
      ],
      "metadata": {
        "colab": {
          "base_uri": "https://localhost:8080/"
        },
        "id": "BAGxQhodJObr",
        "outputId": "48273936-22f1-4403-b37f-afcde9e91a05"
      },
      "execution_count": 45,
      "outputs": [
        {
          "output_type": "stream",
          "name": "stdout",
          "text": [
            "0.9338079582727165 0.8789710890649293\n"
          ]
        }
      ]
    }
  ]
}