{
  "nbformat": 4,
  "nbformat_minor": 0,
  "metadata": {
    "colab": {
      "provenance": [],
      "collapsed_sections": [],
      "authorship_tag": "ABX9TyPKIkeGMYZkMbhbasCVDuvx",
      "include_colab_link": true
    },
    "kernelspec": {
      "name": "python3",
      "display_name": "Python 3"
    },
    "language_info": {
      "name": "python"
    },
    "accelerator": "GPU"
  },
  "cells": [
    {
      "cell_type": "markdown",
      "metadata": {
        "id": "view-in-github",
        "colab_type": "text"
      },
      "source": [
        "<a href=\"https://colab.research.google.com/github/yeneua/HG-MLDL/blob/main/7_3_%EC%8B%A0%EA%B2%BD%EB%A7%9D_%EB%AA%A8%EB%8D%B8_%ED%9B%88%EB%A0%A8.ipynb\" target=\"_parent\"><img src=\"https://colab.research.google.com/assets/colab-badge.svg\" alt=\"Open In Colab\"/></a>"
      ]
    },
    {
      "cell_type": "code",
      "execution_count": 1,
      "metadata": {
        "colab": {
          "base_uri": "https://localhost:8080/"
        },
        "id": "I1enm8JiyQko",
        "outputId": "ee1e5412-58af-49ae-f0be-d71d6ed9c89f"
      },
      "outputs": [
        {
          "output_type": "stream",
          "name": "stdout",
          "text": [
            "Downloading data from https://storage.googleapis.com/tensorflow/tf-keras-datasets/train-labels-idx1-ubyte.gz\n",
            "32768/29515 [=================================] - 0s 0us/step\n",
            "40960/29515 [=========================================] - 0s 0us/step\n",
            "Downloading data from https://storage.googleapis.com/tensorflow/tf-keras-datasets/train-images-idx3-ubyte.gz\n",
            "26427392/26421880 [==============================] - 0s 0us/step\n",
            "26435584/26421880 [==============================] - 0s 0us/step\n",
            "Downloading data from https://storage.googleapis.com/tensorflow/tf-keras-datasets/t10k-labels-idx1-ubyte.gz\n",
            "16384/5148 [===============================================================================================] - 0s 0us/step\n",
            "Downloading data from https://storage.googleapis.com/tensorflow/tf-keras-datasets/t10k-images-idx3-ubyte.gz\n",
            "4423680/4422102 [==============================] - 0s 0us/step\n",
            "4431872/4422102 [==============================] - 0s 0us/step\n"
          ]
        }
      ],
      "source": [
        "from tensorflow import keras\n",
        "from sklearn.model_selection import train_test_split\n",
        "(train_input, train_target), (test_input, test_target) = keras.datasets.fashion_mnist.load_data()\n",
        "train_scaled=train_input/255.0\n",
        "train_scaled, val_scaled, train_target, val_target = train_test_split(train_scaled, train_target, test_size=0.2, random_state=42)"
      ]
    },
    {
      "cell_type": "code",
      "source": [
        "# 모델을 만드는 함수정의\n",
        "# -> model_fn에 객체를 줄 경우, 그 객체가 층으로 추가됨\n",
        "def model_fn(a_layer=None):\n",
        "  model=keras.Sequential()\n",
        "  model.add(keras.layers.Flatten(input_shape=(28,28)))\n",
        "  model.add(keras.layers.Dense(100, activation='relu')) \n",
        "  if a_layer:\n",
        "    model.add(a_layer)\n",
        "  model.add(keras.layers.Dense(10,activation='softmax'))\n",
        "  return model"
      ],
      "metadata": {
        "id": "ivX7qJ9K6oYs"
      },
      "execution_count": 2,
      "outputs": []
    },
    {
      "cell_type": "code",
      "source": [
        "# a_layer 매개변수로 층을 추가하지 않은 모델\n",
        "model = model_fn()\n",
        "model.summary()"
      ],
      "metadata": {
        "colab": {
          "base_uri": "https://localhost:8080/"
        },
        "id": "u7nTNkHE7FXH",
        "outputId": "5c7d87d0-4fd5-4a8f-c5ed-828d2188f25d"
      },
      "execution_count": 3,
      "outputs": [
        {
          "output_type": "stream",
          "name": "stdout",
          "text": [
            "Model: \"sequential\"\n",
            "_________________________________________________________________\n",
            " Layer (type)                Output Shape              Param #   \n",
            "=================================================================\n",
            " flatten (Flatten)           (None, 784)               0         \n",
            "                                                                 \n",
            " dense (Dense)               (None, 100)               78500     \n",
            "                                                                 \n",
            " dense_1 (Dense)             (None, 10)                1010      \n",
            "                                                                 \n",
            "=================================================================\n",
            "Total params: 79,510\n",
            "Trainable params: 79,510\n",
            "Non-trainable params: 0\n",
            "_________________________________________________________________\n"
          ]
        }
      ]
    },
    {
      "cell_type": "code",
      "source": [
        "# 모델 설정, 훈련\n",
        "model.compile(loss='sparse_categorical_crossentropy', metrics='accuracy')\n",
        "history=model.fit(train_scaled, train_target, epochs=5, verbose=0)"
      ],
      "metadata": {
        "id": "p2Hu-R0t7m4b"
      },
      "execution_count": 4,
      "outputs": []
    },
    {
      "cell_type": "code",
      "source": [
        "print(history.history.keys())"
      ],
      "metadata": {
        "colab": {
          "base_uri": "https://localhost:8080/"
        },
        "id": "vOdQ17Is8OYK",
        "outputId": "9bcce689-a518-47e2-e643-f53d12c90489"
      },
      "execution_count": 5,
      "outputs": [
        {
          "output_type": "stream",
          "name": "stdout",
          "text": [
            "dict_keys(['loss', 'accuracy'])\n"
          ]
        }
      ]
    },
    {
      "cell_type": "code",
      "source": [
        "# history 객체에 담겨있는 훈련 측정값\n",
        "print(history.history['loss'])\n",
        "print(history.history['accuracy'])"
      ],
      "metadata": {
        "colab": {
          "base_uri": "https://localhost:8080/"
        },
        "id": "LGKteKJs8kia",
        "outputId": "d8609b3d-bc32-4d67-a8ee-2a1010e51fd5"
      },
      "execution_count": 6,
      "outputs": [
        {
          "output_type": "stream",
          "name": "stdout",
          "text": [
            "[0.5318652987480164, 0.3929615616798401, 0.35362347960472107, 0.33536577224731445, 0.3199089765548706]\n",
            "[0.8127708435058594, 0.8577499985694885, 0.8738541603088379, 0.8813333511352539, 0.8857083320617676]\n"
          ]
        }
      ]
    },
    {
      "cell_type": "code",
      "source": [
        "# 손실값 그래프로 그리기\n",
        "import matplotlib.pyplot as plt\n",
        "plt.plot(history.history['loss'])\n",
        "plt.xlabel('epoch')\n",
        "plt.ylabel('loss')\n",
        "plt.show()"
      ],
      "metadata": {
        "colab": {
          "base_uri": "https://localhost:8080/",
          "height": 279
        },
        "id": "aXoMkf9p8B5a",
        "outputId": "eebaffc6-4d52-4ec2-a78f-92cdcca55bbd"
      },
      "execution_count": 7,
      "outputs": [
        {
          "output_type": "display_data",
          "data": {
            "text/plain": [
              "<Figure size 432x288 with 1 Axes>"
            ],
            "image/png": "[encoded data removed]"
          },
          "metadata": {
            "needs_background": "light"
          }
        }
      ]
    },
    {
      "cell_type": "code",
      "source": [
        "# 정확도 그래프로 그리기\n",
        "plt.plot(history.history['accuracy'])\n",
        "plt.xlabel('epoch')\n",
        "plt.ylabel('accuracy')\n",
        "plt.show()"
      ],
      "metadata": {
        "colab": {
          "base_uri": "https://localhost:8080/",
          "height": 279
        },
        "id": "zWm7Wmkf9Bj6",
        "outputId": "894990b4-0270-474a-9218-3ac088fc5238"
      },
      "execution_count": 8,
      "outputs": [
        {
          "output_type": "display_data",
          "data": {
            "text/plain": [
              "<Figure size 432x288 with 1 Axes>"
            ],
            "image/png": "[encoded data removed]"
          },
          "metadata": {
            "needs_background": "light"
          }
        }
      ]
    },
    {
      "cell_type": "code",
      "source": [
        "# 에포크 20번으로 늘려서 그려보기\n",
        "model = model_fn()\n",
        "model.compile(loss='sparse_categorical_crossentropy', metrics='accuracy')\n",
        "history = model.fit(train_scaled, train_target, epochs=20, verbose=0)\n",
        "plt.plot(history.history['loss'])\n",
        "plt.xlabel('epoch')\n",
        "plt.ylabel('loss')\n",
        "plt.show()"
      ],
      "metadata": {
        "colab": {
          "base_uri": "https://localhost:8080/",
          "height": 281
        },
        "id": "ZlWKiSWX9NT_",
        "outputId": "7d1a4179-44f4-4046-eb8c-bc70fff66559"
      },
      "execution_count": 9,
      "outputs": [
        {
          "output_type": "display_data",
          "data": {
            "text/plain": [
              "<Figure size 432x288 with 1 Axes>"
            ],
            "image/png": "[encoded data removed]"
          },
          "metadata": {
            "needs_background": "light"
          }
        }
      ]
    },
    {
      "cell_type": "code",
      "source": [
        "# 검증손실"
      ],
      "metadata": {
        "id": "5yq08X1C9onV"
      },
      "execution_count": 10,
      "outputs": []
    },
    {
      "cell_type": "code",
      "source": [
        "model=model_fn()\n",
        "model.compile(loss='sparse_categorical_crossentropy', metrics='accuracy')\n",
        "history = model.fit(train_scaled, train_target, epochs=20, verbose=0, validation_data=(val_scaled, val_target)) # 검증 손실 계산 -> validation_data 전달"
      ],
      "metadata": {
        "id": "5C7mlQe_-pJS"
      },
      "execution_count": 11,
      "outputs": []
    },
    {
      "cell_type": "code",
      "source": [
        "print(history.history.keys())\n",
        "# history 객체에 val_loss, val_accuracy가 들어있음"
      ],
      "metadata": {
        "colab": {
          "base_uri": "https://localhost:8080/"
        },
        "id": "beHTLUVv-_Q1",
        "outputId": "31f70016-4369-460c-f265-4f47249713c3"
      },
      "execution_count": 12,
      "outputs": [
        {
          "output_type": "stream",
          "name": "stdout",
          "text": [
            "dict_keys(['loss', 'accuracy', 'val_loss', 'val_accuracy'])\n"
          ]
        }
      ]
    },
    {
      "cell_type": "code",
      "source": [
        "# 훈련세트 손실, 검증세트 손실 그래프\n",
        "plt.plot(history.history['loss'])\n",
        "plt.plot(history.history['val_loss'])\n",
        "plt.xlabel('epoch')\n",
        "plt.ylabel('loss')\n",
        "plt.legend(['train','val'])\n",
        "plt.show()"
      ],
      "metadata": {
        "colab": {
          "base_uri": "https://localhost:8080/",
          "height": 279
        },
        "id": "2JUtkCDY_UA_",
        "outputId": "25052989-2f65-4fb0-cb3a-ab002eb5114c"
      },
      "execution_count": 13,
      "outputs": [
        {
          "output_type": "display_data",
          "data": {
            "text/plain": [
              "<Figure size 432x288 with 1 Axes>"
            ],
            "image/png": "[encoded data removed]"
          },
          "metadata": {
            "needs_background": "light"
          }
        }
      ]
    },
    {
      "cell_type": "code",
      "source": [
        "# adam 옵티마이저 사용\n",
        "model=model_fn()\n",
        "model.compile(optimizer='adam', loss='sparse_categorical_crossentropy', metrics='accuracy')\n",
        "history = model.fit(train_scaled, train_target, epochs=20, verbose=0, validation_data=(val_scaled, val_target))\n",
        "plt.plot(history.history['loss'])\n",
        "plt.plot(history.history['val_loss'])\n",
        "plt.xlabel('epoch')\n",
        "plt.ylabel('loss')\n",
        "plt.legend(['train', 'val'])\n",
        "plt.show()"
      ],
      "metadata": {
        "colab": {
          "base_uri": "https://localhost:8080/",
          "height": 279
        },
        "id": "co7qhGBe_xkT",
        "outputId": "ebc71f73-542f-4021-b1c1-cdcc55d1ffe0"
      },
      "execution_count": 14,
      "outputs": [
        {
          "output_type": "display_data",
          "data": {
            "text/plain": [
              "<Figure size 432x288 with 1 Axes>"
            ],
            "image/png": "[encoded data removed]"
          },
          "metadata": {
            "needs_background": "light"
          }
        }
      ]
    },
    {
      "cell_type": "code",
      "source": [
        "# 드롭아웃\n",
        "# 훈련 과정에서 층에 있는 일부 뉴런을 랜덤하게 꺼서 과대적합을 막음\n",
        "# 특정 뉴런에 과대하게 의존하는 것을 막음\n",
        "# 모든 입력에 대해 주의를 기울여야 함"
      ],
      "metadata": {
        "id": "a9ZnD66yAZtw"
      },
      "execution_count": 16,
      "outputs": []
    },
    {
      "cell_type": "code",
      "source": [
        "# Dropout층을 추가함 - model_fn() 함수에 드롭아웃 객체 전달\n",
        "model = model_fn(keras.layers.Dropout(0.3))\n",
        "model.summary()"
      ],
      "metadata": {
        "colab": {
          "base_uri": "https://localhost:8080/"
        },
        "id": "qSo19b-a9XMP",
        "outputId": "c164c25d-0ea6-49a3-9ee0-5f965db1438d"
      },
      "execution_count": 17,
      "outputs": [
        {
          "output_type": "stream",
          "name": "stdout",
          "text": [
            "Model: \"sequential_4\"\n",
            "_________________________________________________________________\n",
            " Layer (type)                Output Shape              Param #   \n",
            "=================================================================\n",
            " flatten_4 (Flatten)         (None, 784)               0         \n",
            "                                                                 \n",
            " dense_8 (Dense)             (None, 100)               78500     \n",
            "                                                                 \n",
            " dropout (Dropout)           (None, 100)               0         \n",
            "                                                                 \n",
            " dense_9 (Dense)             (None, 10)                1010      \n",
            "                                                                 \n",
            "=================================================================\n",
            "Total params: 79,510\n",
            "Trainable params: 79,510\n",
            "Non-trainable params: 0\n",
            "_________________________________________________________________\n"
          ]
        }
      ]
    },
    {
      "cell_type": "code",
      "source": [
        "# 드롭아웃 층을 추가한 모델을 설정하고 훈련\n",
        "model.compile(optimizer='adam', loss='sparse_categorical_crossentropy', metrics='accuracy')\n",
        "history=model.fit(train_scaled, train_target, epochs=20, verbose=0, validation_data=(val_scaled, val_target))"
      ],
      "metadata": {
        "id": "Lf29ALXs9Gw6"
      },
      "execution_count": 18,
      "outputs": []
    },
    {
      "cell_type": "code",
      "source": [
        "# 훈련손실, 검증손실 그래프로 확인\n",
        "plt.plot(history.history['loss'])\n",
        "plt.plot(history.history['val_loss'])\n",
        "plt.xlabel('epoch')\n",
        "plt.ylabel('loss')\n",
        "plt.legend(['train','val'])\n",
        "plt.show()"
      ],
      "metadata": {
        "colab": {
          "base_uri": "https://localhost:8080/",
          "height": 279
        },
        "id": "Saz_ZtCX-Yfv",
        "outputId": "2aa8a59a-e0cf-4b95-fff7-da9264db519c"
      },
      "execution_count": 20,
      "outputs": [
        {
          "output_type": "display_data",
          "data": {
            "text/plain": [
              "<Figure size 432x288 with 1 Axes>"
            ],
            "image/png": "[encoded data removed]"
          },
          "metadata": {
            "needs_background": "light"
          }
        }
      ]
    },
    {
      "cell_type": "code",
      "source": [
        "# 과대적합이 확실히 줄었다 !!\n",
        "# but, 20번 에포크 동안 훈련했기 때문에 다소 과대적합\n",
        "# 에포크를 10으로 하고 다시 훈련"
      ],
      "metadata": {
        "id": "BGN167rG_Gf1"
      },
      "execution_count": 21,
      "outputs": []
    },
    {
      "cell_type": "code",
      "source": [
        "# 모델 저장과 복원"
      ],
      "metadata": {
        "id": "0vs8JRfZ_YEt"
      },
      "execution_count": 22,
      "outputs": []
    },
    {
      "cell_type": "code",
      "source": [
        "model = model_fn(keras.layers.Dropout(0.3))\n",
        "model.compile(optimizer='adam',loss='sparse_categorical_crossentropy', metrics='accuracy')\n",
        "history=model.fit(train_scaled, train_target, epochs=10, verbose=0, validation_data=(val_scaled, val_target))"
      ],
      "metadata": {
        "id": "vCIpRbra_aQy"
      },
      "execution_count": 23,
      "outputs": []
    },
    {
      "cell_type": "code",
      "source": [
        "# save_weights() : 모델의 가중치를 저장하는 메서드\n",
        "model.save_weights('model-weights.h5')"
      ],
      "metadata": {
        "id": "P9PRC9By_9ji"
      },
      "execution_count": 24,
      "outputs": []
    },
    {
      "cell_type": "code",
      "source": [
        "# save() : 모델 구조와 모델 파라미터를 함께 저장하는 메서드\n",
        "model.save('model-whole.h5')"
      ],
      "metadata": {
        "id": "D4jPTT3uATqM"
      },
      "execution_count": 25,
      "outputs": []
    },
    {
      "cell_type": "code",
      "source": [
        "# 파일이 잘 저장되었는지 확인\n",
        "!ls -al *.h5"
      ],
      "metadata": {
        "colab": {
          "base_uri": "https://localhost:8080/"
        },
        "id": "mbGcBHBRAdcu",
        "outputId": "7a195c7f-9caf-41f0-fd44-8079efe9d32a"
      },
      "execution_count": 28,
      "outputs": [
        {
          "output_type": "stream",
          "name": "stdout",
          "text": [
            "-rw-r--r-- 1 root root 333448 Oct 11 12:24 model-weights.h5\n",
            "-rw-r--r-- 1 root root 982664 Oct 11 12:25 model-whole.h5\n"
          ]
        }
      ]
    },
    {
      "cell_type": "markdown",
      "source": [
        "![image.png](data:image/png;base64,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)"
      ],
      "metadata": {
        "id": "tq7pwsLNAvkN"
      }
    },
    {
      "cell_type": "code",
      "source": [
        "# 첫번째 실험\n",
        "# 훈련 하지 않은 새로운 모델을 만들고, model-weights.h5 파일에서 훈련된 모델 파라미터 읽어오기\n",
        "model=model_fn(keras.layers.Dropout(0.3))\n",
        "model.load_weights('model-weights.h5')"
      ],
      "metadata": {
        "id": "64KzehzWAfdp"
      },
      "execution_count": 29,
      "outputs": []
    },
    {
      "cell_type": "code",
      "source": [
        "import numpy as np\n",
        "val_labels = np.argmax(model.predict(val_scaled), axis=-1) # predict(): 샘플 하나마다 10개의 클래스에 대한 확률 반환 -> 10개의 확률 중 가장 큰 값의 인덱스 골라냄\n",
        "print(np.mean(val_labels==val_target)) # 정확도. True & False"
      ],
      "metadata": {
        "colab": {
          "base_uri": "https://localhost:8080/"
        },
        "id": "N0jxUwKXBJmf",
        "outputId": "5642e701-bea6-4b47-82ab-47a6df80d212"
      },
      "execution_count": 32,
      "outputs": [
        {
          "output_type": "stream",
          "name": "stdout",
          "text": [
            "0.8825\n"
          ]
        }
      ]
    },
    {
      "cell_type": "code",
      "source": [
        "# 두번째 실험\n",
        "# model-whole.h5 파일에서 새로운 모델을 만들어 바로 사용\n",
        "model=keras.models.load_model('model-whole.h5')\n",
        "model.evaluate(val_scaled, val_target)"
      ],
      "metadata": {
        "colab": {
          "base_uri": "https://localhost:8080/"
        },
        "id": "gE_id4WhBcn7",
        "outputId": "c7a03ae0-db38-4b2c-e652-9df866ff2661"
      },
      "execution_count": 33,
      "outputs": [
        {
          "output_type": "stream",
          "name": "stdout",
          "text": [
            "375/375 [==============================] - 1s 2ms/step - loss: 0.3215 - accuracy: 0.8825\n"
          ]
        },
        {
          "output_type": "execute_result",
          "data": {
            "text/plain": [
              "[0.32147079706192017, 0.8824999928474426]"
            ]
          },
          "metadata": {},
          "execution_count": 33
        }
      ]
    },
    {
      "cell_type": "code",
      "source": [
        "# => 첫번째 실험, 두번째 실험 정확도가 0.8825로 동일 ! "
      ],
      "metadata": {
        "id": "DFdMdxdjCCFq"
      },
      "execution_count": 35,
      "outputs": []
    },
    {
      "cell_type": "code",
      "source": [
        "# *\n",
        "# 충분히 큰 에포크로 훈련 -> 검증세트&훈련세트 손실 비교 -> 과대적합되는 지점까지 다시 훈련\n",
        "# -> 처음 모델을 훈련할 때 자동으로 검증세트 손실이 증가하는 지점에서 훈련을 멈추고 가중치를 저장할 수는 없을까?"
      ],
      "metadata": {
        "id": "ng0VE8AnCyOF"
      },
      "execution_count": 36,
      "outputs": []
    },
    {
      "cell_type": "code",
      "source": [
        "# 콜백\n",
        "# 훈련 과정 중간에 어떤 작업을 수행할 수 있게 하는 객체"
      ],
      "metadata": {
        "id": "kHPEvEkA-_E5"
      },
      "execution_count": 37,
      "outputs": []
    },
    {
      "cell_type": "code",
      "source": [
        "model=model_fn(keras.layers.Dropout(0.3))\n",
        "model.compile(optimizer='adam', loss='sparse_categorical_crossentropy', metrics='accuracy')"
      ],
      "metadata": {
        "id": "1qAgo0M4C01L"
      },
      "execution_count": 38,
      "outputs": []
    },
    {
      "cell_type": "code",
      "source": [
        "# 콜백 객체 생성\n",
        "checkpoint_cb=keras.callbacks.ModelCheckpoint('best-model.h5', save_best_only=True) # save_best_only=True : 가장 낮은 검증 점수를 만드는 모델을 저장"
      ],
      "metadata": {
        "id": "UdWTEmW9DCwv"
      },
      "execution_count": 39,
      "outputs": []
    },
    {
      "cell_type": "code",
      "source": [
        "model.fit(train_scaled, train_target, epochs=20, verbose=0, validation_data=(val_scaled,val_target), callbacks=[checkpoint_cb]) # 콜백 객체 전달"
      ],
      "metadata": {
        "colab": {
          "base_uri": "https://localhost:8080/"
        },
        "id": "H4lhsCYSDpvp",
        "outputId": "239a42f0-6887-41ad-bf60-42f7348b4dcf"
      },
      "execution_count": 40,
      "outputs": [
        {
          "output_type": "execute_result",
          "data": {
            "text/plain": [
              "<keras.callbacks.History at 0x7fb375453990>"
            ]
          },
          "metadata": {},
          "execution_count": 40
        }
      ]
    },
    {
      "cell_type": "code",
      "source": [
        "# 최상의 검증 점수를 낸 모델이 저장된 best-model.h5 불러오기\n",
        "model=keras.models.load_model('best-model.h5')\n",
        "model.evaluate(val_scaled,val_target)"
      ],
      "metadata": {
        "colab": {
          "base_uri": "https://localhost:8080/"
        },
        "id": "GK6avEHJD5Yj",
        "outputId": "1c6141d0-7abf-4b0b-8138-90d3c051ac45"
      },
      "execution_count": 44,
      "outputs": [
        {
          "output_type": "stream",
          "name": "stdout",
          "text": [
            "375/375 [==============================] - 1s 2ms/step - loss: 0.3171 - accuracy: 0.8846\n"
          ]
        },
        {
          "output_type": "execute_result",
          "data": {
            "text/plain": [
              "[0.3171251714229584, 0.8845833539962769]"
            ]
          },
          "metadata": {},
          "execution_count": 44
        }
      ]
    },
    {
      "cell_type": "code",
      "source": [
        "# 조기종료\n",
        "# 검증 점수가 상승하기 시작할때 훈련 종료하기"
      ],
      "metadata": {
        "id": "1bi2Ys4JEwcz"
      },
      "execution_count": 45,
      "outputs": []
    },
    {
      "cell_type": "code",
      "source": [
        "model=model_fn(keras.layers.Dropout(0.3))\n",
        "model.compile(optimizer='adam', loss='sparse_categorical_crossentropy', metrics='accuracy')"
      ],
      "metadata": {
        "id": "RkOdV6XlE7-E"
      },
      "execution_count": 46,
      "outputs": []
    },
    {
      "cell_type": "code",
      "source": [
        "# 콜백객체\n",
        "checkpoint_cb=keras.callbacks.ModelCheckpoint('best-model.h5', save_best_only=True)"
      ],
      "metadata": {
        "id": "rUelrKN5FKhw"
      },
      "execution_count": 47,
      "outputs": []
    },
    {
      "cell_type": "code",
      "source": [
        "# 조기종료 객체\n",
        "early_stopping_cb=keras.callbacks.EarlyStopping(patience=2, restore_best_weights=True)\n",
        "# patience=2 : 2번 연속 검증 점수가 향상되지 않으면 훈련 중지\n",
        "# restore_best_weights=True : 가장 낮은 검증 손실을 낸 모델 파라미터로 돌림"
      ],
      "metadata": {
        "id": "IvFjo_DrFT_i"
      },
      "execution_count": 49,
      "outputs": []
    },
    {
      "cell_type": "code",
      "source": [
        "history=model.fit(train_scaled,train_target,epochs=20,verbose=1,validation_data=(val_scaled,val_target),callbacks=([checkpoint_cb,early_stopping_cb]))"
      ],
      "metadata": {
        "colab": {
          "base_uri": "https://localhost:8080/"
        },
        "id": "S4pyl5r6F0BP",
        "outputId": "954a2a8c-f7cb-4506-a30a-2d610cac3f92"
      },
      "execution_count": 51,
      "outputs": [
        {
          "output_type": "stream",
          "name": "stdout",
          "text": [
            "Epoch 1/20\n",
            "1500/1500 [==============================] - 5s 3ms/step - loss: 0.5936 - accuracy: 0.7897 - val_loss: 0.4645 - val_accuracy: 0.8255\n",
            "Epoch 2/20\n",
            "1500/1500 [==============================] - 5s 3ms/step - loss: 0.4391 - accuracy: 0.8436 - val_loss: 0.3987 - val_accuracy: 0.8519\n",
            "Epoch 3/20\n",
            "1500/1500 [==============================] - 6s 4ms/step - loss: 0.4039 - accuracy: 0.8541 - val_loss: 0.3718 - val_accuracy: 0.8617\n",
            "Epoch 4/20\n",
            "1500/1500 [==============================] - 7s 5ms/step - loss: 0.3813 - accuracy: 0.8603 - val_loss: 0.3510 - val_accuracy: 0.8737\n",
            "Epoch 5/20\n",
            "1500/1500 [==============================] - 5s 3ms/step - loss: 0.3691 - accuracy: 0.8649 - val_loss: 0.3511 - val_accuracy: 0.8726\n",
            "Epoch 6/20\n",
            "1500/1500 [==============================] - 6s 4ms/step - loss: 0.3548 - accuracy: 0.8705 - val_loss: 0.3451 - val_accuracy: 0.8706\n",
            "Epoch 7/20\n",
            "1500/1500 [==============================] - 6s 4ms/step - loss: 0.3473 - accuracy: 0.8718 - val_loss: 0.3482 - val_accuracy: 0.8757\n",
            "Epoch 8/20\n",
            "1500/1500 [==============================] - 7s 5ms/step - loss: 0.3343 - accuracy: 0.8761 - val_loss: 0.3274 - val_accuracy: 0.8811\n",
            "Epoch 9/20\n",
            "1500/1500 [==============================] - 7s 4ms/step - loss: 0.3270 - accuracy: 0.8786 - val_loss: 0.3250 - val_accuracy: 0.8828\n",
            "Epoch 10/20\n",
            "1500/1500 [==============================] - 5s 4ms/step - loss: 0.3180 - accuracy: 0.8824 - val_loss: 0.3251 - val_accuracy: 0.8812\n",
            "Epoch 11/20\n",
            "1500/1500 [==============================] - 6s 4ms/step - loss: 0.3148 - accuracy: 0.8830 - val_loss: 0.3380 - val_accuracy: 0.8796\n"
          ]
        }
      ]
    },
    {
      "cell_type": "code",
      "source": [
        "# stopped_epoch : 몇번째 에포크에서 훈련이 중지되었는지 확인 가능\n",
        "print(early_stopping_cb.stopped_epoch)"
      ],
      "metadata": {
        "colab": {
          "base_uri": "https://localhost:8080/"
        },
        "id": "TVjDLHuaEhuC",
        "outputId": "551ff553-00d8-41f8-e3d1-194fe852d132"
      },
      "execution_count": 52,
      "outputs": [
        {
          "output_type": "stream",
          "name": "stdout",
          "text": [
            "10\n"
          ]
        }
      ]
    },
    {
      "cell_type": "code",
      "source": [
        "# => 에포크 횟수가 0부터 시작\n",
        "# 10은 열한번째 에포크에서 훈련이 중지되었다는 말 0~10\n",
        "# patience=2 이기 때문에 최상의 모델은 아홉번째 모델 (epochs=8)"
      ],
      "metadata": {
        "id": "iAv1IYKwHM__"
      },
      "execution_count": 54,
      "outputs": []
    },
    {
      "cell_type": "code",
      "source": [
        "plt.plot(history.history['loss'])\n",
        "plt.plot(history.history['val_loss'])\n",
        "plt.xlabel('epoch')\n",
        "plt.ylabel('loss')\n",
        "plt.legend(['train','val'])\n",
        "plt.show()"
      ],
      "metadata": {
        "colab": {
          "base_uri": "https://localhost:8080/",
          "height": 279
        },
        "id": "Q3fu5A0RG2LG",
        "outputId": "df914649-dd58-47b0-8d92-fc92fa22587a"
      },
      "execution_count": 55,
      "outputs": [
        {
          "output_type": "display_data",
          "data": {
            "text/plain": [
              "<Figure size 432x288 with 1 Axes>"
            ],
            "image/png": "[encoded data removed]"
          },
          "metadata": {
            "needs_background": "light"
          }
        }
      ]
    },
    {
      "cell_type": "code",
      "source": [
        "# 조기종료로 얻은 모델을 사용해 검증 세트에 대한 성능 확인\n",
        "model.evaluate(val_scaled,val_target)"
      ],
      "metadata": {
        "colab": {
          "base_uri": "https://localhost:8080/"
        },
        "id": "H6o65F8_HDjK",
        "outputId": "7996acfc-240b-4070-dde7-90688c9a5cf6"
      },
      "execution_count": 57,
      "outputs": [
        {
          "output_type": "stream",
          "name": "stdout",
          "text": [
            "375/375 [==============================] - 1s 2ms/step - loss: 0.3250 - accuracy: 0.8828\n"
          ]
        },
        {
          "output_type": "execute_result",
          "data": {
            "text/plain": [
              "[0.3249863386154175, 0.8828333616256714]"
            ]
          },
          "metadata": {},
          "execution_count": 57
        }
      ]
    }
  ]
}