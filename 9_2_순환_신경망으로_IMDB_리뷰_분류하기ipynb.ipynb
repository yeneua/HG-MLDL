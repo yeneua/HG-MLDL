{
  "nbformat": 4,
  "nbformat_minor": 0,
  "metadata": {
    "colab": {
      "provenance": [],
      "authorship_tag": "ABX9TyNOxiy2TmipyhT/6gzbxmiE",
      "include_colab_link": true
    },
    "kernelspec": {
      "name": "python3",
      "display_name": "Python 3"
    },
    "language_info": {
      "name": "python"
    }
  },
  "cells": [
    {
      "cell_type": "markdown",
      "metadata": {
        "id": "view-in-github",
        "colab_type": "text"
      },
      "source": [
        "<a href=\"https://colab.research.google.com/github/yeneua/HG-MLDL/blob/main/9_2_%EC%88%9C%ED%99%98_%EC%8B%A0%EA%B2%BD%EB%A7%9D%EC%9C%BC%EB%A1%9C_IMDB_%EB%A6%AC%EB%B7%B0_%EB%B6%84%EB%A5%98%ED%95%98%EA%B8%B0ipynb.ipynb\" target=\"_parent\"><img src=\"https://colab.research.google.com/assets/colab-badge.svg\" alt=\"Open In Colab\"/></a>"
      ]
    },
    {
      "cell_type": "code",
      "execution_count": null,
      "metadata": {
        "id": "ggos3LAbbNRx"
      },
      "outputs": [],
      "source": [
        "from tensorflow.keras.datasets import imdb"
      ]
    },
    {
      "cell_type": "code",
      "source": [
        "(train_input, train_target), (test_input, test_target) = imdb.load_data(num_words = 500) # 가장 자주 등장하는 단어 500개"
      ],
      "metadata": {
        "colab": {
          "base_uri": "https://localhost:8080/"
        },
        "id": "Jpyd4OUvfb5A",
        "outputId": "5b0b4afa-c42b-476f-d22a-8d18cf49e615"
      },
      "execution_count": null,
      "outputs": [
        {
          "output_type": "stream",
          "name": "stdout",
          "text": [
            "Downloading data from https://storage.googleapis.com/tensorflow/tf-keras-datasets/imdb.npz\n",
            "17464789/17464789 [==============================] - 0s 0us/step\n"
          ]
        }
      ]
    },
    {
      "cell_type": "code",
      "source": [
        "print(train_input.shape, test_input.shape) # 파이썬 리스트의 배열(넘파이 배열에 파이썬 리스트가 들어가 있음)"
      ],
      "metadata": {
        "colab": {
          "base_uri": "https://localhost:8080/"
        },
        "id": "hquu3WNXfqkD",
        "outputId": "07238447-57d4-4c26-8cd6-aa8f21213b2f"
      },
      "execution_count": null,
      "outputs": [
        {
          "output_type": "stream",
          "name": "stdout",
          "text": [
            "(20000,) (25000,)\n"
          ]
        }
      ]
    },
    {
      "cell_type": "code",
      "source": [
        "print(len(train_input[0]), len(train_input[1])) # 리뷰(샘플)마다 길이가 다르다"
      ],
      "metadata": {
        "colab": {
          "base_uri": "https://localhost:8080/"
        },
        "id": "JJmGAC4jf5LF",
        "outputId": "399ba8d7-e762-47c2-ec95-bd888a9c4064"
      },
      "execution_count": null,
      "outputs": [
        {
          "output_type": "stream",
          "name": "stdout",
          "text": [
            "218 189\n"
          ]
        }
      ]
    },
    {
      "cell_type": "code",
      "source": [
        "print(train_input[0]) # 첫번째 리뷰에 담긴 내용"
      ],
      "metadata": {
        "colab": {
          "base_uri": "https://localhost:8080/"
        },
        "id": "3nr-4VLagCAA",
        "outputId": "5776e615-064b-41a7-a27a-32e7d0cc2c47"
      },
      "execution_count": null,
      "outputs": [
        {
          "output_type": "stream",
          "name": "stdout",
          "text": [
            "[1, 14, 22, 16, 43, 2, 2, 2, 2, 65, 458, 2, 66, 2, 4, 173, 36, 256, 5, 25, 100, 43, 2, 112, 50, 2, 2, 9, 35, 480, 284, 5, 150, 4, 172, 112, 167, 2, 336, 385, 39, 4, 172, 2, 2, 17, 2, 38, 13, 447, 4, 192, 50, 16, 6, 147, 2, 19, 14, 22, 4, 2, 2, 469, 4, 22, 71, 87, 12, 16, 43, 2, 38, 76, 15, 13, 2, 4, 22, 17, 2, 17, 12, 16, 2, 18, 2, 5, 62, 386, 12, 8, 316, 8, 106, 5, 4, 2, 2, 16, 480, 66, 2, 33, 4, 130, 12, 16, 38, 2, 5, 25, 124, 51, 36, 135, 48, 25, 2, 33, 6, 22, 12, 215, 28, 77, 52, 5, 14, 407, 16, 82, 2, 8, 4, 107, 117, 2, 15, 256, 4, 2, 7, 2, 5, 2, 36, 71, 43, 2, 476, 26, 400, 317, 46, 7, 4, 2, 2, 13, 104, 88, 4, 381, 15, 297, 98, 32, 2, 56, 26, 141, 6, 194, 2, 18, 4, 226, 22, 21, 134, 476, 26, 480, 5, 144, 30, 2, 18, 51, 36, 28, 224, 92, 25, 104, 4, 226, 65, 16, 38, 2, 88, 12, 16, 283, 5, 16, 2, 113, 103, 32, 15, 16, 2, 19, 178, 32]\n"
          ]
        }
      ]
    },
    {
      "cell_type": "code",
      "source": [
        "print(train_target[:20]) # 타깃데이터 20개(긍정&부정) -> 이진분류"
      ],
      "metadata": {
        "colab": {
          "base_uri": "https://localhost:8080/"
        },
        "id": "Hz4XpG3HgKPa",
        "outputId": "fe6692c9-65ea-4bb3-bbaa-66c6e2ea1232"
      },
      "execution_count": null,
      "outputs": [
        {
          "output_type": "stream",
          "name": "stdout",
          "text": [
            "[1 0 0 1 0 0 1 0 1 0 1 0 0 0 0 0 1 1 0 1]\n"
          ]
        }
      ]
    },
    {
      "cell_type": "code",
      "source": [
        "from sklearn.model_selection import train_test_split\n",
        "train_input, val_input, train_target, val_target = train_test_split(train_input, train_target, test_size = 0.2, random_state = 42)"
      ],
      "metadata": {
        "id": "bHOj7NMigadR"
      },
      "execution_count": null,
      "outputs": []
    },
    {
      "cell_type": "code",
      "source": [
        "import numpy as np\n",
        "lengths = np.array([len(x) for x in train_input]) # train_input에 들어있는 데이터의 길이(각 리뷰 길이)"
      ],
      "metadata": {
        "id": "5bHBj5SzhPSr"
      },
      "execution_count": null,
      "outputs": []
    },
    {
      "cell_type": "code",
      "source": [
        "print(np.mean(lengths), np.median(lengths))"
      ],
      "metadata": {
        "colab": {
          "base_uri": "https://localhost:8080/"
        },
        "id": "FLhjdg7XhdTY",
        "outputId": "1a67cf70-af6c-4f9c-b211-1fad51027f2c"
      },
      "execution_count": null,
      "outputs": [
        {
          "output_type": "stream",
          "name": "stdout",
          "text": [
            "239.00925 178.0\n"
          ]
        }
      ]
    },
    {
      "cell_type": "code",
      "source": [
        "import matplotlib.pyplot as plt\n",
        "plt.hist(lengths)\n",
        "plt.xlabel('length')\n",
        "plt.ylabel('frequency')\n",
        "plt.show()\n",
        "\n",
        "# => 중간값이 평균값보다 작고, 한쪽으로 치우침"
      ],
      "metadata": {
        "colab": {
          "base_uri": "https://localhost:8080/",
          "height": 279
        },
        "id": "H5ccVYHFhh9v",
        "outputId": "37facb2e-add1-40ba-81b2-05880bbf2982"
      },
      "execution_count": null,
      "outputs": [
        {
          "output_type": "display_data",
          "data": {
            "text/plain": [
              "<Figure size 432x288 with 1 Axes>"
            ],
            "image/png": "[encoded data removed]"
          },
          "metadata": {
            "needs_background": "light"
          }
        }
      ]
    },
    {
      "cell_type": "code",
      "source": [
        "from tensorflow.keras.preprocessing.sequence import pad_sequences # pad_sequences : 시퀀스 데이터의 길이를 맞춰줌 -> 길이가 긴 경우 잘라내고, 짧은 경우 0으로 패딩(채움)\n",
        "train_seq = pad_sequences(train_input, maxlen = 100) # maxlen = 100 : 길이를 100으로 맞춤"
      ],
      "metadata": {
        "id": "5VY-_yEUh9UV"
      },
      "execution_count": null,
      "outputs": []
    },
    {
      "cell_type": "code",
      "source": [
        "print(train_seq.shape)"
      ],
      "metadata": {
        "colab": {
          "base_uri": "https://localhost:8080/"
        },
        "id": "aNKSQ-KUiKyg",
        "outputId": "8e68d7c3-486e-4bb4-dead-6648f5526d04"
      },
      "execution_count": null,
      "outputs": [
        {
          "output_type": "stream",
          "name": "stdout",
          "text": [
            "(20000, 100)\n"
          ]
        }
      ]
    },
    {
      "cell_type": "code",
      "source": [
        "print(train_seq[0])\n",
        "\n",
        "# => 앞뒤에 패딩값(0)이 없는 것으로 보아 100보다는 길이가 긴 샘플이었을듯\n",
        "# truncating = 'pre' : by default"
      ],
      "metadata": {
        "colab": {
          "base_uri": "https://localhost:8080/"
        },
        "id": "XFtCiKVjjGPG",
        "outputId": "add5e8f8-f2cb-4913-9c8b-deec3ee89b4c"
      },
      "execution_count": null,
      "outputs": [
        {
          "output_type": "stream",
          "name": "stdout",
          "text": [
            "[ 10   4  20   9   2 364 352   5  45   6   2   2  33 269   8   2 142   2\n",
            "   5   2  17  73  17 204   5   2  19  55   2   2  92  66 104  14  20  93\n",
            "  76   2 151  33   4  58  12 188   2 151  12 215  69 224 142  73 237   6\n",
            "   2   7   2   2 188   2 103  14  31  10  10 451   7   2   5   2  80  91\n",
            "   2  30   2  34  14  20 151  50  26 131  49   2  84  46  50  37  80  79\n",
            "   6   2  46   7  14  20  10  10 470 158]\n"
          ]
        }
      ]
    },
    {
      "cell_type": "code",
      "source": [
        "print(train_input[0][-10:]) # 원데이터(train_input)에 있는 마지막 토큰 10개 출력"
      ],
      "metadata": {
        "colab": {
          "base_uri": "https://localhost:8080/"
        },
        "id": "z_SRPjl7jZfq",
        "outputId": "76c64dd4-d5e7-40df-a35e-47c557594c89"
      },
      "execution_count": null,
      "outputs": [
        {
          "output_type": "stream",
          "name": "stdout",
          "text": [
            "[6, 2, 46, 7, 14, 20, 10, 10, 470, 158]\n"
          ]
        }
      ]
    },
    {
      "cell_type": "code",
      "source": [
        "print(train_seq[5])\n",
        "\n",
        "# => 앞부분에 패딩값(0) 있음, padding = 'pre' : by default"
      ],
      "metadata": {
        "colab": {
          "base_uri": "https://localhost:8080/"
        },
        "id": "AGy0ZehwjPjq",
        "outputId": "5016afdf-08fd-44bd-e102-b5a3143b123d"
      },
      "execution_count": null,
      "outputs": [
        {
          "output_type": "stream",
          "name": "stdout",
          "text": [
            "[  0   0   0   0   1   2 195  19  49   2   2 190   4   2 352   2 183  10\n",
            "  10  13  82  79   4   2  36  71 269   8   2  25  19  49   7   4   2   2\n",
            "   2   2   2  10  10  48  25  40   2  11   2   2  40   2   2   5   4   2\n",
            "   2  95  14 238  56 129   2  10  10  21   2  94 364 352   2   2  11 190\n",
            "  24 484   2   7  94 205 405  10  10  87   2  34  49   2   7   2   2   2\n",
            "   2   2 290   2  46  48  64  18   4   2]\n"
          ]
        }
      ]
    },
    {
      "cell_type": "code",
      "source": [
        "val_seq = pad_sequences(val_input, maxlen = 100) # 검증 세트의 길이도 100으로 맞추기"
      ],
      "metadata": {
        "id": "poPhO8nNm1SM"
      },
      "execution_count": null,
      "outputs": []
    },
    {
      "cell_type": "code",
      "source": [
        "# 순환신경망 만들기"
      ],
      "metadata": {
        "id": "OO1Tg4gvh0AE"
      },
      "execution_count": null,
      "outputs": []
    },
    {
      "cell_type": "code",
      "source": [
        "from tensorflow import keras\n",
        "model = keras.Sequential()\n",
        "model.add(keras.layers.SimpleRNN(8, input_shape = (100, 500)))\n",
        "model.add(keras.layers.Dense(1, activation = 'sigmoid'))"
      ],
      "metadata": {
        "id": "ORskMx1jkLLZ"
      },
      "execution_count": null,
      "outputs": []
    },
    {
      "cell_type": "code",
      "source": [
        "# 원-핫인코딩\n",
        "train_oh = keras.utils.to_categorical(train_seq)"
      ],
      "metadata": {
        "id": "iqWH6JN6ketn"
      },
      "execution_count": null,
      "outputs": []
    },
    {
      "cell_type": "code",
      "source": [
        "print(train_oh.shape)"
      ],
      "metadata": {
        "colab": {
          "base_uri": "https://localhost:8080/"
        },
        "id": "50cKhmtflB38",
        "outputId": "e54bc0b9-17dc-422a-9fc8-f83a819c6976"
      },
      "execution_count": null,
      "outputs": [
        {
          "output_type": "stream",
          "name": "stdout",
          "text": [
            "(20000, 100, 500)\n"
          ]
        }
      ]
    },
    {
      "cell_type": "code",
      "source": [
        "print(train_oh[0][0][:12]) # 첫번째 토큰 10이 잘 인코딩 되었는지 확인. 처음 원소 12개 출력"
      ],
      "metadata": {
        "colab": {
          "base_uri": "https://localhost:8080/"
        },
        "id": "RjLa4GzEmPlS",
        "outputId": "4af8fdcf-08e2-49e4-e0a0-7abda8acb4ab"
      },
      "execution_count": null,
      "outputs": [
        {
          "output_type": "stream",
          "name": "stdout",
          "text": [
            "[0. 0. 0. 0. 0. 0. 0. 0. 0. 0. 1. 0.]\n"
          ]
        }
      ]
    },
    {
      "cell_type": "code",
      "source": [
        "print(np.sum(train_oh[0][0])) # 모든 값 다 더하기 -> 하나만 1인지 확인(one-hot encoding)"
      ],
      "metadata": {
        "colab": {
          "base_uri": "https://localhost:8080/"
        },
        "id": "tzkg7-kTmUi1",
        "outputId": "e1674ad3-22b8-4564-cb22-f9f6ed36d69a"
      },
      "execution_count": null,
      "outputs": [
        {
          "output_type": "stream",
          "name": "stdout",
          "text": [
            "1.0\n"
          ]
        }
      ]
    },
    {
      "cell_type": "code",
      "source": [
        "val_oh = keras.utils.to_categorical(val_seq)"
      ],
      "metadata": {
        "id": "F8tGvl2Jmqrq"
      },
      "execution_count": null,
      "outputs": []
    },
    {
      "cell_type": "code",
      "source": [
        "model.summary()"
      ],
      "metadata": {
        "colab": {
          "base_uri": "https://localhost:8080/"
        },
        "id": "JHRvekJLmvXO",
        "outputId": "59a23bc8-3155-41af-d4ae-b444a3624254"
      },
      "execution_count": null,
      "outputs": [
        {
          "output_type": "stream",
          "name": "stdout",
          "text": [
            "Model: \"sequential_1\"\n",
            "_________________________________________________________________\n",
            " Layer (type)                Output Shape              Param #   \n",
            "=================================================================\n",
            " simple_rnn (SimpleRNN)      (None, 8)                 4072      \n",
            "                                                                 \n",
            " dense (Dense)               (None, 1)                 9         \n",
            "                                                                 \n",
            "=================================================================\n",
            "Total params: 4,081\n",
            "Trainable params: 4,081\n",
            "Non-trainable params: 0\n",
            "_________________________________________________________________\n"
          ]
        }
      ]
    },
    {
      "cell_type": "code",
      "source": [
        "# 순환신경망 훈련하기"
      ],
      "metadata": {
        "id": "jHT3MGFap3io"
      },
      "execution_count": null,
      "outputs": []
    },
    {
      "cell_type": "code",
      "source": [
        "rmsprop = keras.optimizers.RMSprop(learning_rate=1e-4)\n",
        "model.compile(optimizer = rmsprop, loss = 'binary_crossentropy', metrics = ['accuracy'])\n",
        "checkpoint_cb = keras.callbacks.ModelCheckpoint('best-simplernn-model.h5', save_best_only = True)\n",
        "early_stopping_cb = keras.callbacks.EarlyStopping(patience = 3, restore_best_weights = True)\n",
        "history = model.fit(train_oh, train_target, epochs = 100, batch_size = 64, validation_data = (val_oh, val_target), callbacks = [checkpoint_cb, early_stopping_cb])"
      ],
      "metadata": {
        "colab": {
          "base_uri": "https://localhost:8080/"
        },
        "id": "VfmUaPOdmkO7",
        "outputId": "f2f0df60-1c30-4156-c9ad-dd17537dbab4"
      },
      "execution_count": null,
      "outputs": [
        {
          "output_type": "stream",
          "name": "stdout",
          "text": [
            "Epoch 1/100\n",
            "313/313 [==============================] - 17s 47ms/step - loss: 0.6951 - accuracy: 0.5034 - val_loss: 0.6953 - val_accuracy: 0.4992\n",
            "Epoch 2/100\n",
            "313/313 [==============================] - 14s 46ms/step - loss: 0.6928 - accuracy: 0.5112 - val_loss: 0.6940 - val_accuracy: 0.5054\n",
            "Epoch 3/100\n",
            "313/313 [==============================] - 14s 46ms/step - loss: 0.6914 - accuracy: 0.5221 - val_loss: 0.6930 - val_accuracy: 0.5100\n",
            "Epoch 4/100\n",
            "313/313 [==============================] - 14s 44ms/step - loss: 0.6901 - accuracy: 0.5325 - val_loss: 0.6923 - val_accuracy: 0.5170\n",
            "Epoch 5/100\n",
            "313/313 [==============================] - 15s 49ms/step - loss: 0.6887 - accuracy: 0.5394 - val_loss: 0.6916 - val_accuracy: 0.5164\n",
            "Epoch 6/100\n",
            "313/313 [==============================] - 15s 49ms/step - loss: 0.6872 - accuracy: 0.5437 - val_loss: 0.6907 - val_accuracy: 0.5184\n",
            "Epoch 7/100\n",
            "313/313 [==============================] - 14s 44ms/step - loss: 0.6857 - accuracy: 0.5498 - val_loss: 0.6898 - val_accuracy: 0.5216\n",
            "Epoch 8/100\n",
            "313/313 [==============================] - 16s 52ms/step - loss: 0.6841 - accuracy: 0.5579 - val_loss: 0.6888 - val_accuracy: 0.5224\n",
            "Epoch 9/100\n",
            "313/313 [==============================] - 14s 44ms/step - loss: 0.6822 - accuracy: 0.5658 - val_loss: 0.6879 - val_accuracy: 0.5316\n",
            "Epoch 10/100\n",
            "313/313 [==============================] - 14s 44ms/step - loss: 0.6796 - accuracy: 0.5735 - val_loss: 0.6853 - val_accuracy: 0.5474\n",
            "Epoch 11/100\n",
            "313/313 [==============================] - 13s 43ms/step - loss: 0.6709 - accuracy: 0.6041 - val_loss: 0.6716 - val_accuracy: 0.6032\n",
            "Epoch 12/100\n",
            "313/313 [==============================] - 14s 43ms/step - loss: 0.6573 - accuracy: 0.6393 - val_loss: 0.6601 - val_accuracy: 0.6358\n",
            "Epoch 13/100\n",
            "313/313 [==============================] - 13s 43ms/step - loss: 0.6448 - accuracy: 0.6615 - val_loss: 0.6477 - val_accuracy: 0.6526\n",
            "Epoch 14/100\n",
            "313/313 [==============================] - 14s 43ms/step - loss: 0.6305 - accuracy: 0.6805 - val_loss: 0.6343 - val_accuracy: 0.6684\n",
            "Epoch 15/100\n",
            "313/313 [==============================] - 14s 44ms/step - loss: 0.6145 - accuracy: 0.6961 - val_loss: 0.6180 - val_accuracy: 0.6884\n",
            "Epoch 16/100\n",
            "313/313 [==============================] - 14s 44ms/step - loss: 0.5980 - accuracy: 0.7139 - val_loss: 0.6034 - val_accuracy: 0.7022\n",
            "Epoch 17/100\n",
            "313/313 [==============================] - 14s 44ms/step - loss: 0.5817 - accuracy: 0.7303 - val_loss: 0.5874 - val_accuracy: 0.7126\n",
            "Epoch 18/100\n",
            "313/313 [==============================] - 15s 47ms/step - loss: 0.5658 - accuracy: 0.7416 - val_loss: 0.5727 - val_accuracy: 0.7286\n",
            "Epoch 19/100\n",
            "313/313 [==============================] - 14s 44ms/step - loss: 0.5512 - accuracy: 0.7502 - val_loss: 0.5588 - val_accuracy: 0.7386\n",
            "Epoch 20/100\n",
            "313/313 [==============================] - 14s 43ms/step - loss: 0.5374 - accuracy: 0.7587 - val_loss: 0.5451 - val_accuracy: 0.7554\n",
            "Epoch 21/100\n",
            "313/313 [==============================] - 15s 47ms/step - loss: 0.5248 - accuracy: 0.7675 - val_loss: 0.5355 - val_accuracy: 0.7540\n",
            "Epoch 22/100\n",
            "313/313 [==============================] - 14s 44ms/step - loss: 0.5131 - accuracy: 0.7747 - val_loss: 0.5219 - val_accuracy: 0.7654\n",
            "Epoch 23/100\n",
            "313/313 [==============================] - 14s 43ms/step - loss: 0.5020 - accuracy: 0.7805 - val_loss: 0.5119 - val_accuracy: 0.7710\n",
            "Epoch 24/100\n",
            "313/313 [==============================] - 14s 43ms/step - loss: 0.4918 - accuracy: 0.7861 - val_loss: 0.5159 - val_accuracy: 0.7570\n",
            "Epoch 25/100\n",
            "313/313 [==============================] - 14s 44ms/step - loss: 0.4827 - accuracy: 0.7910 - val_loss: 0.4986 - val_accuracy: 0.7736\n",
            "Epoch 26/100\n",
            "313/313 [==============================] - 14s 43ms/step - loss: 0.4744 - accuracy: 0.7940 - val_loss: 0.4910 - val_accuracy: 0.7788\n",
            "Epoch 27/100\n",
            "313/313 [==============================] - 14s 45ms/step - loss: 0.4672 - accuracy: 0.7976 - val_loss: 0.4880 - val_accuracy: 0.7708\n",
            "Epoch 28/100\n",
            "313/313 [==============================] - 14s 44ms/step - loss: 0.4604 - accuracy: 0.7993 - val_loss: 0.4805 - val_accuracy: 0.7850\n",
            "Epoch 29/100\n",
            "313/313 [==============================] - 13s 43ms/step - loss: 0.4543 - accuracy: 0.8010 - val_loss: 0.4771 - val_accuracy: 0.7816\n",
            "Epoch 30/100\n",
            "313/313 [==============================] - 14s 43ms/step - loss: 0.4489 - accuracy: 0.8044 - val_loss: 0.4736 - val_accuracy: 0.7810\n",
            "Epoch 31/100\n",
            "313/313 [==============================] - 14s 44ms/step - loss: 0.4442 - accuracy: 0.8059 - val_loss: 0.4692 - val_accuracy: 0.7858\n",
            "Epoch 32/100\n",
            "313/313 [==============================] - 14s 45ms/step - loss: 0.4399 - accuracy: 0.8084 - val_loss: 0.4660 - val_accuracy: 0.7888\n",
            "Epoch 33/100\n",
            "313/313 [==============================] - 14s 44ms/step - loss: 0.4356 - accuracy: 0.8099 - val_loss: 0.4662 - val_accuracy: 0.7848\n",
            "Epoch 34/100\n",
            "313/313 [==============================] - 15s 48ms/step - loss: 0.4321 - accuracy: 0.8120 - val_loss: 0.4629 - val_accuracy: 0.7906\n",
            "Epoch 35/100\n",
            "313/313 [==============================] - 14s 44ms/step - loss: 0.4287 - accuracy: 0.8142 - val_loss: 0.4609 - val_accuracy: 0.7888\n",
            "Epoch 36/100\n",
            "313/313 [==============================] - 15s 47ms/step - loss: 0.4264 - accuracy: 0.8154 - val_loss: 0.4622 - val_accuracy: 0.7846\n",
            "Epoch 37/100\n",
            "313/313 [==============================] - 14s 44ms/step - loss: 0.4235 - accuracy: 0.8152 - val_loss: 0.4594 - val_accuracy: 0.7878\n",
            "Epoch 38/100\n",
            "313/313 [==============================] - 14s 44ms/step - loss: 0.4214 - accuracy: 0.8164 - val_loss: 0.4584 - val_accuracy: 0.7900\n",
            "Epoch 39/100\n",
            "313/313 [==============================] - 14s 44ms/step - loss: 0.4190 - accuracy: 0.8188 - val_loss: 0.4593 - val_accuracy: 0.7876\n",
            "Epoch 40/100\n",
            "313/313 [==============================] - 14s 44ms/step - loss: 0.4174 - accuracy: 0.8188 - val_loss: 0.4568 - val_accuracy: 0.7936\n",
            "Epoch 41/100\n",
            "313/313 [==============================] - 14s 44ms/step - loss: 0.4156 - accuracy: 0.8202 - val_loss: 0.4562 - val_accuracy: 0.7934\n",
            "Epoch 42/100\n",
            "313/313 [==============================] - 14s 43ms/step - loss: 0.4134 - accuracy: 0.8202 - val_loss: 0.4564 - val_accuracy: 0.7922\n",
            "Epoch 43/100\n",
            "313/313 [==============================] - 14s 44ms/step - loss: 0.4120 - accuracy: 0.8210 - val_loss: 0.4550 - val_accuracy: 0.7946\n",
            "Epoch 44/100\n",
            "313/313 [==============================] - 14s 45ms/step - loss: 0.4102 - accuracy: 0.8236 - val_loss: 0.4553 - val_accuracy: 0.7934\n",
            "Epoch 45/100\n",
            "313/313 [==============================] - 14s 44ms/step - loss: 0.4086 - accuracy: 0.8241 - val_loss: 0.4570 - val_accuracy: 0.7896\n",
            "Epoch 46/100\n",
            "313/313 [==============================] - 14s 44ms/step - loss: 0.4075 - accuracy: 0.8232 - val_loss: 0.4548 - val_accuracy: 0.7952\n",
            "Epoch 47/100\n",
            "313/313 [==============================] - 14s 44ms/step - loss: 0.4065 - accuracy: 0.8227 - val_loss: 0.4551 - val_accuracy: 0.7934\n",
            "Epoch 48/100\n",
            "313/313 [==============================] - 14s 44ms/step - loss: 0.4051 - accuracy: 0.8238 - val_loss: 0.4547 - val_accuracy: 0.7956\n",
            "Epoch 49/100\n",
            "313/313 [==============================] - 14s 45ms/step - loss: 0.4039 - accuracy: 0.8231 - val_loss: 0.4543 - val_accuracy: 0.7942\n",
            "Epoch 50/100\n",
            "313/313 [==============================] - 15s 48ms/step - loss: 0.4026 - accuracy: 0.8239 - val_loss: 0.4611 - val_accuracy: 0.7882\n",
            "Epoch 51/100\n",
            "313/313 [==============================] - 14s 44ms/step - loss: 0.4013 - accuracy: 0.8244 - val_loss: 0.4587 - val_accuracy: 0.7932\n",
            "Epoch 52/100\n",
            "313/313 [==============================] - 15s 48ms/step - loss: 0.4003 - accuracy: 0.8250 - val_loss: 0.4578 - val_accuracy: 0.7926\n"
          ]
        }
      ]
    },
    {
      "cell_type": "code",
      "source": [
        "plt.plot(history.history['loss'])\n",
        "plt.plot(history.history['val_loss'])\n",
        "plt.xlabel('epoch')\n",
        "plt.ylabel('loss')\n",
        "plt.legend(['train','val'])\n",
        "plt.show()"
      ],
      "metadata": {
        "colab": {
          "base_uri": "https://localhost:8080/",
          "height": 279
        },
        "id": "BctHm2z8q6du",
        "outputId": "4406eb35-2349-4744-8697-f8e2ba0530ef"
      },
      "execution_count": null,
      "outputs": [
        {
          "output_type": "display_data",
          "data": {
            "text/plain": [
              "<Figure size 432x288 with 1 Axes>"
            ],
            "image/png": "[encoded data removed]"
          },
          "metadata": {
            "needs_background": "light"
          }
        }
      ]
    },
    {
      "cell_type": "code",
      "source": [
        "print(train_seq.nbytes, train_oh.nbytes) # 원-핫인코딩의 단점: 입력 데이터가 엄청 커짐"
      ],
      "metadata": {
        "colab": {
          "base_uri": "https://localhost:8080/"
        },
        "id": "cvixiQb5uj0p",
        "outputId": "61b933f9-a8d6-4806-cd29-06d974dec593"
      },
      "execution_count": null,
      "outputs": [
        {
          "output_type": "stream",
          "name": "stdout",
          "text": [
            "8000000 4000000000\n"
          ]
        }
      ]
    },
    {
      "cell_type": "code",
      "source": [
        "# 단어 임베딩 사용하기"
      ],
      "metadata": {
        "id": "udHsfv1uu9dz"
      },
      "execution_count": null,
      "outputs": []
    },
    {
      "cell_type": "code",
      "source": [
        "model2 = keras.Sequential()\n",
        "model2.add(keras.layers.Embedding(500, 16, input_length = 100)) # 500 : 어휘사전 개수, 16: 출력차원, input_length=100: 입력토큰(타임스텝)의 개수\n",
        "model2.add(keras.layers.SimpleRNN(8))\n",
        "model2.add(keras.layers.Dense(1, activation = 'sigmoid'))"
      ],
      "metadata": {
        "id": "Aoerac_bvBOG"
      },
      "execution_count": null,
      "outputs": []
    },
    {
      "cell_type": "code",
      "source": [
        "model2.summary()"
      ],
      "metadata": {
        "colab": {
          "base_uri": "https://localhost:8080/"
        },
        "id": "DxmPo_fjvPml",
        "outputId": "e339038f-c1be-479a-e974-a12261b7d30a"
      },
      "execution_count": null,
      "outputs": [
        {
          "output_type": "stream",
          "name": "stdout",
          "text": [
            "Model: \"sequential_3\"\n",
            "_________________________________________________________________\n",
            " Layer (type)                Output Shape              Param #   \n",
            "=================================================================\n",
            " embedding_1 (Embedding)     (None, 100, 16)           8000      \n",
            "                                                                 \n",
            " simple_rnn_2 (SimpleRNN)    (None, 8)                 200       \n",
            "                                                                 \n",
            " dense_2 (Dense)             (None, 1)                 9         \n",
            "                                                                 \n",
            "=================================================================\n",
            "Total params: 8,209\n",
            "Trainable params: 8,209\n",
            "Non-trainable params: 0\n",
            "_________________________________________________________________\n"
          ]
        }
      ]
    },
    {
      "cell_type": "code",
      "source": [
        "rmsprop = keras.optimizers.RMSprop(learning_rate = 1e-4)\n",
        "model2.compile(optimizer = rmsprop, loss = 'binary_crossentropy', metrics = ['accuracy'])\n",
        "checkpoint_cb = keras.callbacks.ModelCheckpoint('best-embedding-model.h5', save_best_only = True)\n",
        "early_stopping_cb = keras.callbacks.EarlyStopping(patience = 3, restore_best_weights = True)\n",
        "history = model2.fit(train_seq, train_target, epochs = 100, batch_size = 64, validation_data = (val_seq, val_target), callbacks = [checkpoint_cb, early_stopping_cb])"
      ],
      "metadata": {
        "colab": {
          "base_uri": "https://localhost:8080/"
        },
        "id": "HgUWxLIvvehR",
        "outputId": "2d2c9f63-2372-490b-92e3-f32a2e3c41ca"
      },
      "execution_count": null,
      "outputs": [
        {
          "output_type": "stream",
          "name": "stdout",
          "text": [
            "Epoch 1/100\n",
            "313/313 [==============================] - 9s 25ms/step - loss: 0.6797 - accuracy: 0.5620 - val_loss: 0.6498 - val_accuracy: 0.6432\n",
            "Epoch 2/100\n",
            "313/313 [==============================] - 7s 24ms/step - loss: 0.6280 - accuracy: 0.6769 - val_loss: 0.6141 - val_accuracy: 0.6966\n",
            "Epoch 3/100\n",
            "313/313 [==============================] - 8s 24ms/step - loss: 0.5958 - accuracy: 0.7182 - val_loss: 0.5871 - val_accuracy: 0.7204\n",
            "Epoch 4/100\n",
            "313/313 [==============================] - 10s 33ms/step - loss: 0.5702 - accuracy: 0.7412 - val_loss: 0.5670 - val_accuracy: 0.7458\n",
            "Epoch 5/100\n",
            "313/313 [==============================] - 7s 24ms/step - loss: 0.5482 - accuracy: 0.7587 - val_loss: 0.5513 - val_accuracy: 0.7458\n",
            "Epoch 6/100\n",
            "313/313 [==============================] - 7s 24ms/step - loss: 0.5303 - accuracy: 0.7670 - val_loss: 0.5337 - val_accuracy: 0.7564\n",
            "Epoch 7/100\n",
            "313/313 [==============================] - 7s 24ms/step - loss: 0.5139 - accuracy: 0.7781 - val_loss: 0.5193 - val_accuracy: 0.7692\n",
            "Epoch 8/100\n",
            "313/313 [==============================] - 7s 24ms/step - loss: 0.4997 - accuracy: 0.7838 - val_loss: 0.5053 - val_accuracy: 0.7784\n",
            "Epoch 9/100\n",
            "313/313 [==============================] - 7s 24ms/step - loss: 0.4870 - accuracy: 0.7897 - val_loss: 0.4951 - val_accuracy: 0.7800\n",
            "Epoch 10/100\n",
            "313/313 [==============================] - 8s 24ms/step - loss: 0.4755 - accuracy: 0.7951 - val_loss: 0.4891 - val_accuracy: 0.7800\n",
            "Epoch 11/100\n",
            "313/313 [==============================] - 7s 24ms/step - loss: 0.4650 - accuracy: 0.8013 - val_loss: 0.4828 - val_accuracy: 0.7824\n",
            "Epoch 12/100\n",
            "313/313 [==============================] - 8s 24ms/step - loss: 0.4570 - accuracy: 0.8044 - val_loss: 0.4758 - val_accuracy: 0.7884\n",
            "Epoch 13/100\n",
            "313/313 [==============================] - 7s 24ms/step - loss: 0.4488 - accuracy: 0.8073 - val_loss: 0.4699 - val_accuracy: 0.7900\n",
            "Epoch 14/100\n",
            "313/313 [==============================] - 7s 24ms/step - loss: 0.4424 - accuracy: 0.8097 - val_loss: 0.4671 - val_accuracy: 0.7900\n",
            "Epoch 15/100\n",
            "313/313 [==============================] - 7s 24ms/step - loss: 0.4373 - accuracy: 0.8119 - val_loss: 0.4629 - val_accuracy: 0.7896\n",
            "Epoch 16/100\n",
            "313/313 [==============================] - 7s 24ms/step - loss: 0.4316 - accuracy: 0.8126 - val_loss: 0.4664 - val_accuracy: 0.7886\n",
            "Epoch 17/100\n",
            "313/313 [==============================] - 7s 24ms/step - loss: 0.4271 - accuracy: 0.8128 - val_loss: 0.4589 - val_accuracy: 0.7930\n",
            "Epoch 18/100\n",
            "313/313 [==============================] - 8s 24ms/step - loss: 0.4232 - accuracy: 0.8148 - val_loss: 0.4577 - val_accuracy: 0.7932\n",
            "Epoch 19/100\n",
            "313/313 [==============================] - 8s 24ms/step - loss: 0.4188 - accuracy: 0.8174 - val_loss: 0.4573 - val_accuracy: 0.7948\n",
            "Epoch 20/100\n",
            "313/313 [==============================] - 8s 24ms/step - loss: 0.4158 - accuracy: 0.8180 - val_loss: 0.4564 - val_accuracy: 0.7940\n",
            "Epoch 21/100\n",
            "313/313 [==============================] - 8s 24ms/step - loss: 0.4126 - accuracy: 0.8190 - val_loss: 0.4573 - val_accuracy: 0.7908\n",
            "Epoch 22/100\n",
            "313/313 [==============================] - 8s 27ms/step - loss: 0.4102 - accuracy: 0.8209 - val_loss: 0.4556 - val_accuracy: 0.7938\n",
            "Epoch 23/100\n",
            "313/313 [==============================] - 8s 24ms/step - loss: 0.4067 - accuracy: 0.8219 - val_loss: 0.4551 - val_accuracy: 0.7916\n",
            "Epoch 24/100\n",
            "313/313 [==============================] - 8s 24ms/step - loss: 0.4040 - accuracy: 0.8251 - val_loss: 0.4531 - val_accuracy: 0.7950\n",
            "Epoch 25/100\n",
            "313/313 [==============================] - 8s 24ms/step - loss: 0.4020 - accuracy: 0.8255 - val_loss: 0.4550 - val_accuracy: 0.7900\n",
            "Epoch 26/100\n",
            "313/313 [==============================] - 8s 24ms/step - loss: 0.4001 - accuracy: 0.8250 - val_loss: 0.4560 - val_accuracy: 0.7938\n",
            "Epoch 27/100\n",
            "313/313 [==============================] - 8s 24ms/step - loss: 0.3978 - accuracy: 0.8280 - val_loss: 0.4571 - val_accuracy: 0.7858\n"
          ]
        }
      ]
    },
    {
      "cell_type": "code",
      "source": [
        "plt.plot(history.history['loss'])\n",
        "plt.plot(history.history['val_loss'])\n",
        "plt.xlabel('epoch')\n",
        "plt.ylabel('loss')\n",
        "plt.legend(['train', 'val'])\n",
        "plt.show()"
      ],
      "metadata": {
        "colab": {
          "base_uri": "https://localhost:8080/",
          "height": 279
        },
        "id": "kD4Q0FlIwbaO",
        "outputId": "4c5dddc5-3865-4fc1-929a-2af7d521079c"
      },
      "execution_count": null,
      "outputs": [
        {
          "output_type": "display_data",
          "data": {
            "text/plain": [
              "<Figure size 432x288 with 1 Axes>"
            ],
            "image/png": "[encoded data removed]"
          },
          "metadata": {
            "needs_background": "light"
          }
        }
      ]
    }
  ]
}