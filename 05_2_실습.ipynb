{
  "nbformat": 4,
  "nbformat_minor": 0,
  "metadata": {
    "colab": {
      "name": "05-2 실습.ipynb",
      "provenance": [],
      "collapsed_sections": [],
      "authorship_tag": "ABX9TyPfuBoE8V7yGeswhQn7Upp4",
      "include_colab_link": true
    },
    "kernelspec": {
      "name": "python3",
      "display_name": "Python 3"
    },
    "language_info": {
      "name": "python"
    }
  },
  "cells": [
    {
      "cell_type": "markdown",
      "metadata": {
        "id": "view-in-github",
        "colab_type": "text"
      },
      "source": [
        "<a href=\"https://colab.research.google.com/github/yeneua/machine-learning/blob/main/05_2_%EC%8B%A4%EC%8A%B5.ipynb\" target=\"_parent\"><img src=\"https://colab.research.google.com/assets/colab-badge.svg\" alt=\"Open In Colab\"/></a>"
      ]
    },
    {
      "cell_type": "markdown",
      "source": [
        "<h2>05-2. 교차 검증과 그리드 서치</h2>"
      ],
      "metadata": {
        "id": "Wobv3T68qR4O"
      }
    },
    {
      "cell_type": "code",
      "source": [
        "import pandas as pd\n",
        "\n",
        "wine = pd.read_csv('https://bit.ly/wine_csv_data')"
      ],
      "metadata": {
        "id": "Ak5LFggN8-vX"
      },
      "execution_count": 6,
      "outputs": []
    },
    {
      "cell_type": "code",
      "source": [
        "data = wine[['alcohol', 'sugar', 'pH']].to_numpy()\n",
        "target = wine['class'].to_numpy()"
      ],
      "metadata": {
        "id": "EIyCgz1jOYQf"
      },
      "execution_count": 7,
      "outputs": []
    },
    {
      "cell_type": "code",
      "source": [
        "from sklearn.model_selection import train_test_split\n",
        "train_input, test_input, train_target, test_target = train_test_split(data, target ,test_size = 0.2, random_state = 42)"
      ],
      "metadata": {
        "id": "gtdtAZX5Oijr"
      },
      "execution_count": 9,
      "outputs": []
    },
    {
      "cell_type": "code",
      "source": [
        "# 검증세트 만들기\n",
        "sub_input, val_input, sub_target, val_target = train_test_split(train_input, train_target , test_size = 0.2, random_state = 42)"
      ],
      "metadata": {
        "id": "EWHnBdmFOzFE"
      },
      "execution_count": 11,
      "outputs": []
    },
    {
      "cell_type": "code",
      "source": [
        "print(sub_input.shape, val_input.shape)"
      ],
      "metadata": {
        "colab": {
          "base_uri": "https://localhost:8080/"
        },
        "id": "l4jOhGv3PGb9",
        "outputId": "d0709845-c235-4aab-e4f1-a7e930ce9688"
      },
      "execution_count": 12,
      "outputs": [
        {
          "output_type": "stream",
          "name": "stdout",
          "text": [
            "(4157, 3) (1040, 3)\n"
          ]
        }
      ]
    },
    {
      "cell_type": "code",
      "source": [
        "from sklearn.tree import DecisionTreeClassifier\n",
        "dt = DecisionTreeClassifier()\n",
        "dt.fit(sub_input, sub_target)\n",
        "print(dt.score(sub_input, sub_target))\n",
        "print(dt.score(val_input, val_target))"
      ],
      "metadata": {
        "colab": {
          "base_uri": "https://localhost:8080/"
        },
        "id": "6n_lYnziPOAv",
        "outputId": "8516d9a4-af66-4633-9db0-9b4dd4c3b891"
      },
      "execution_count": 17,
      "outputs": [
        {
          "output_type": "stream",
          "name": "stdout",
          "text": [
            "0.9971133028626413\n",
            "0.8605769230769231\n"
          ]
        }
      ]
    },
    {
      "cell_type": "markdown",
      "source": [
        "교차검증"
      ],
      "metadata": {
        "id": "gI71YzEJPpez"
      }
    },
    {
      "cell_type": "code",
      "source": [
        "from sklearn.model_selection import cross_validate # cross_validate() : 교차검증함수\n",
        "scores = cross_validate(dt, train_input, train_target) # 훈련세트 전체를 cross_validate() 함수에 전달\n",
        "print(scores)"
      ],
      "metadata": {
        "colab": {
          "base_uri": "https://localhost:8080/"
        },
        "id": "K5Xej1ldPkMG",
        "outputId": "31930af0-9179-4f65-fe40-59134a12e832"
      },
      "execution_count": 66,
      "outputs": [
        {
          "output_type": "stream",
          "name": "stdout",
          "text": [
            "{'fit_time': array([0.00690103, 0.00762558, 0.00760841, 0.00680709, 0.00777626]), 'score_time': array([0.00117087, 0.00105906, 0.00112677, 0.0010922 , 0.00172114]), 'test_score': array([0.85769231, 0.86730769, 0.88642926, 0.85659288, 0.87969201])}\n"
          ]
        }
      ]
    },
    {
      "cell_type": "code",
      "source": [
        "import numpy as np\n",
        "print(np.mean(scores['test_score'])) # 검증점수의 평균"
      ],
      "metadata": {
        "colab": {
          "base_uri": "https://localhost:8080/"
        },
        "id": "kQuRQm6rP-mU",
        "outputId": "9a1da768-196d-470b-9036-ca022d48156e"
      },
      "execution_count": 67,
      "outputs": [
        {
          "output_type": "stream",
          "name": "stdout",
          "text": [
            "0.8695428296438884\n"
          ]
        }
      ]
    },
    {
      "cell_type": "code",
      "source": [
        "from sklearn.model_selection import StratifiedKFold  # 분류일때 - StratifiedKFold\n",
        "scores = cross_validate(dt, train_input, train_target, cv = StratifiedKFold())\n",
        "print(np.mean(scores['test_score']))"
      ],
      "metadata": {
        "colab": {
          "base_uri": "https://localhost:8080/"
        },
        "id": "Cd5Cd0mhPhKV",
        "outputId": "3fa2944d-b362-4289-a5fb-906b414686cc"
      },
      "execution_count": 23,
      "outputs": [
        {
          "output_type": "stream",
          "name": "stdout",
          "text": [
            "0.8558788035833272\n"
          ]
        }
      ]
    },
    {
      "cell_type": "code",
      "source": [
        "# 폴드를 나누는 행위를 디테일하게 제어(splitter)\n",
        "splitter = StratifiedKFold(n_splits = 10, shuffle = True, random_state = 42)\n",
        "scores  = cross_validate(dt, train_input, train_target, cv = splitter)\n",
        "print(np.mean(scores['test_score']))"
      ],
      "metadata": {
        "colab": {
          "base_uri": "https://localhost:8080/"
        },
        "id": "FDL1DFfDQTJk",
        "outputId": "5e28f882-fef5-4085-8eae-6e685d589539"
      },
      "execution_count": 25,
      "outputs": [
        {
          "output_type": "stream",
          "name": "stdout",
          "text": [
            "0.8605005928560843\n"
          ]
        }
      ]
    },
    {
      "cell_type": "markdown",
      "source": [
        "하이퍼파라미터 튜닝"
      ],
      "metadata": {
        "id": "nL086O9LQ7J0"
      }
    },
    {
      "cell_type": "code",
      "source": [
        "from sklearn.model_selection import GridSearchCV\n",
        "params = {'min_impurity_decrease' : [0.0001, 0.0002, 0.0003, 0.0004, 0.0005]} # 매개변수 목록 - 테스트할 값들"
      ],
      "metadata": {
        "id": "h7tu6XBQQlnb"
      },
      "execution_count": 27,
      "outputs": []
    },
    {
      "cell_type": "code",
      "source": [
        "gs = GridSearchCV(DecisionTreeClassifier(random_state = 42), params, n_jobs = -1) # 훈련. 결정트리 객체를 생성하자마자 바로 전달함"
      ],
      "metadata": {
        "id": "qvSRbgdQRHhW"
      },
      "execution_count": 33,
      "outputs": []
    },
    {
      "cell_type": "code",
      "source": [
        "gs.fit(train_input, train_target) # 훈련데이터로 훈련"
      ],
      "metadata": {
        "colab": {
          "base_uri": "https://localhost:8080/"
        },
        "id": "_3nEZgjNRVca",
        "outputId": "d096df15-2f4e-462d-af21-76294f0593bd"
      },
      "execution_count": 34,
      "outputs": [
        {
          "output_type": "execute_result",
          "data": {
            "text/plain": [
              "GridSearchCV(estimator=DecisionTreeClassifier(random_state=42), n_jobs=-1,\n",
              "             param_grid={'min_impurity_decrease': [0.0001, 0.0002, 0.0003,\n",
              "                                                   0.0004, 0.0005]})"
            ]
          },
          "metadata": {},
          "execution_count": 34
        }
      ]
    },
    {
      "cell_type": "code",
      "source": [
        "dt = gs.best_estimator_ # best_estimator_ : 최적의 파라미터 조합이 저장되어있음. 최적의 모델을 dt에 저장\n",
        "print(dt.score(train_input, train_target))"
      ],
      "metadata": {
        "colab": {
          "base_uri": "https://localhost:8080/"
        },
        "id": "UbtI8cBtRfht",
        "outputId": "c4d92f93-cf9b-4263-b533-ae6b397fe1e5"
      },
      "execution_count": 35,
      "outputs": [
        {
          "output_type": "stream",
          "name": "stdout",
          "text": [
            "0.9615162593804117\n"
          ]
        }
      ]
    },
    {
      "cell_type": "code",
      "source": [
        "print(gs.best_params_) # best_params_ : 그리드 서치로 찾은 최적의 파라미터"
      ],
      "metadata": {
        "colab": {
          "base_uri": "https://localhost:8080/"
        },
        "id": "00p8PwvkR5RA",
        "outputId": "f5f0cad5-a2d1-45d6-ed4a-f253b71f8805"
      },
      "execution_count": 36,
      "outputs": [
        {
          "output_type": "stream",
          "name": "stdout",
          "text": [
            "{'min_impurity_decrease': 0.0001}\n"
          ]
        }
      ]
    },
    {
      "cell_type": "code",
      "source": [
        "print(gs.cv_results_['mean_test_score']) # 각 매개변수에서 수행한 교차 검증의 평균 점수"
      ],
      "metadata": {
        "colab": {
          "base_uri": "https://localhost:8080/"
        },
        "id": "yTB25J6mSCRK",
        "outputId": "99269372-d257-4f6f-f7b4-e515afa3ad5f"
      },
      "execution_count": 38,
      "outputs": [
        {
          "output_type": "stream",
          "name": "stdout",
          "text": [
            "[0.86819297 0.86453617 0.86492226 0.86780891 0.86761605]\n"
          ]
        }
      ]
    },
    {
      "cell_type": "code",
      "source": [
        "best_index = np.argmax(gs.cv_results_['mean_test_score']) # np.argmax() : 주어진 배열에서 가장 높은 값의 인덱스 반환\n",
        "print(gs.cv_results_['params'][best_index]) # 제일 높은 점수를 보인 모델의 파라미터 값"
      ],
      "metadata": {
        "colab": {
          "base_uri": "https://localhost:8080/"
        },
        "id": "Uzxh_RNbSFdT",
        "outputId": "9b8085fc-1ff6-44b1-c5ff-abe5b56b72f7"
      },
      "execution_count": 42,
      "outputs": [
        {
          "output_type": "stream",
          "name": "stdout",
          "text": [
            "{'min_impurity_decrease': 0.0001}\n"
          ]
        }
      ]
    },
    {
      "cell_type": "code",
      "source": [
        "# 여러개의 매개변수 조합\n",
        "params = {'min_impurity_decrease' : np.arange(0.0001, 0.001, 0.0001), # 9개\n",
        "          'max_depth' : range(5, 20, 1), # 15개\n",
        "          'min_samples_split' : range(2, 100, 10)} # 10개"
      ],
      "metadata": {
        "id": "MdidW1b_SisM"
      },
      "execution_count": 78,
      "outputs": []
    },
    {
      "cell_type": "code",
      "source": [
        "gs = GridSearchCV(DecisionTreeClassifier(random_state = 42), params, n_jobs = -1)\n",
        "gs.fit(train_input, train_target)"
      ],
      "metadata": {
        "colab": {
          "base_uri": "https://localhost:8080/"
        },
        "id": "GracTwZxSf1-",
        "outputId": "1d2fed09-8034-478c-dd73-84d10ed5fbd8"
      },
      "execution_count": 79,
      "outputs": [
        {
          "output_type": "execute_result",
          "data": {
            "text/plain": [
              "GridSearchCV(estimator=DecisionTreeClassifier(random_state=42), n_jobs=-1,\n",
              "             param_grid={'max_depth': range(5, 20),\n",
              "                         'min_impurity_decrease': array([0.0001, 0.0002, 0.0003, 0.0004, 0.0005, 0.0006, 0.0007, 0.0008,\n",
              "       0.0009]),\n",
              "                         'min_samples_split': range(2, 100, 10)})"
            ]
          },
          "metadata": {},
          "execution_count": 79
        }
      ]
    },
    {
      "cell_type": "code",
      "source": [
        "print(gs.best_params_)"
      ],
      "metadata": {
        "colab": {
          "base_uri": "https://localhost:8080/"
        },
        "id": "b861phNZTG4n",
        "outputId": "75663c07-d1a6-4a4c-c367-279707604eff"
      },
      "execution_count": 81,
      "outputs": [
        {
          "output_type": "stream",
          "name": "stdout",
          "text": [
            "{'max_depth': 14, 'min_impurity_decrease': 0.0004, 'min_samples_split': 12}\n"
          ]
        }
      ]
    },
    {
      "cell_type": "code",
      "source": [
        "print(np.max(gs.cv_results_['mean_test_score'])) # 교차검증점수"
      ],
      "metadata": {
        "colab": {
          "base_uri": "https://localhost:8080/"
        },
        "id": "CUG_1fYYTTki",
        "outputId": "a1dbfe21-4b80-43a9-ee1a-67546551be47"
      },
      "execution_count": 83,
      "outputs": [
        {
          "output_type": "stream",
          "name": "stdout",
          "text": [
            "0.8683865773302731\n"
          ]
        }
      ]
    },
    {
      "cell_type": "code",
      "source": [
        "print(gs.cv_results_['mean_test_score'].shape)\n",
        "# 9*15*10 => 1350\n",
        "# 기본 5폴드이기 때문에 6750개의 모델이 만들어진다\n",
        "# 각 매개변수에서 수행한 교차 검증의 평균 점수가 들어있음\n",
        "# 각 매개변수에서 5폴드로 수행\n",
        "# 1350개의 평균 점수가 들어가있음"
      ],
      "metadata": {
        "colab": {
          "base_uri": "https://localhost:8080/"
        },
        "id": "KUYHH3n3gCBA",
        "outputId": "36076b03-b8bf-42f9-8314-a08af2a5650a"
      },
      "execution_count": 85,
      "outputs": [
        {
          "output_type": "stream",
          "name": "stdout",
          "text": [
            "(1350,)\n"
          ]
        }
      ]
    },
    {
      "cell_type": "markdown",
      "source": [
        "랜덤 서치"
      ],
      "metadata": {
        "id": "JvUeg770Tg6L"
      }
    },
    {
      "cell_type": "code",
      "source": [
        "from scipy.stats import uniform, randint"
      ],
      "metadata": {
        "id": "gEzPwukoTcPD"
      },
      "execution_count": 51,
      "outputs": []
    },
    {
      "cell_type": "code",
      "source": [
        "rgen = randint(0, 10)\n",
        "rgen.rvs(10) # rvs : random sampling"
      ],
      "metadata": {
        "colab": {
          "base_uri": "https://localhost:8080/"
        },
        "id": "yS6GcGeSTlqL",
        "outputId": "926e903f-c871-41b2-8a4a-d45d06dc45a8"
      },
      "execution_count": 52,
      "outputs": [
        {
          "output_type": "execute_result",
          "data": {
            "text/plain": [
              "array([6, 7, 1, 9, 1, 6, 3, 5, 8, 5])"
            ]
          },
          "metadata": {},
          "execution_count": 52
        }
      ]
    },
    {
      "cell_type": "code",
      "source": [
        "np.unique(rgen.rvs(1000), return_counts = True)"
      ],
      "metadata": {
        "colab": {
          "base_uri": "https://localhost:8080/"
        },
        "id": "n19ExnzaTtbQ",
        "outputId": "72fc4257-69bb-4aed-d70c-5f510419b89a"
      },
      "execution_count": 53,
      "outputs": [
        {
          "output_type": "execute_result",
          "data": {
            "text/plain": [
              "(array([0, 1, 2, 3, 4, 5, 6, 7, 8, 9]),\n",
              " array([106,  97, 108,  99, 105,  95,  94,  94, 100, 102]))"
            ]
          },
          "metadata": {},
          "execution_count": 53
        }
      ]
    },
    {
      "cell_type": "code",
      "source": [
        "ugen = uniform(0, 1)\n",
        "ugen.rvs(10)"
      ],
      "metadata": {
        "colab": {
          "base_uri": "https://localhost:8080/"
        },
        "id": "7wscea_mTyDJ",
        "outputId": "764a5991-7924-4925-f27e-8bc624bbec79"
      },
      "execution_count": 54,
      "outputs": [
        {
          "output_type": "execute_result",
          "data": {
            "text/plain": [
              "array([0.95206747, 0.21845835, 0.8942351 , 0.01023284, 0.6990539 ,\n",
              "       0.21321337, 0.31663746, 0.71931259, 0.29426469, 0.86101034])"
            ]
          },
          "metadata": {},
          "execution_count": 54
        }
      ]
    },
    {
      "cell_type": "code",
      "source": [
        "# 매개변수 값을 균등분포 샘플링으로 부여\n",
        "params = {'min_impurity_decrease' : uniform(0.0001, 0.001),\n",
        "          'max_depth' : randint(20, 50),\n",
        "          'min_samples_split' : randint(2, 25),\n",
        "          'min_samples_leaf' : randint(1, 25)}"
      ],
      "metadata": {
        "id": "43PFJ34iT2ka"
      },
      "execution_count": 86,
      "outputs": []
    },
    {
      "cell_type": "code",
      "source": [
        "from sklearn.model_selection import RandomizedSearchCV\n",
        "gs = RandomizedSearchCV(DecisionTreeClassifier(random_state = 42),\n",
        "                        params,\n",
        "                        n_iter = 100, # 모델을 만들 개수 - 샘플링을 100번\n",
        "                        n_jobs = -1,\n",
        "                        random_state = 42)\n",
        "gs.fit(train_input, train_target)"
      ],
      "metadata": {
        "colab": {
          "base_uri": "https://localhost:8080/"
        },
        "id": "NFFBKR8kUb7J",
        "outputId": "9d9f645a-572c-4a3b-f2e0-b3bf599a8099"
      },
      "execution_count": 87,
      "outputs": [
        {
          "output_type": "execute_result",
          "data": {
            "text/plain": [
              "RandomizedSearchCV(estimator=DecisionTreeClassifier(random_state=42),\n",
              "                   n_iter=100, n_jobs=-1,\n",
              "                   param_distributions={'max_depth': <scipy.stats._distn_infrastructure.rv_frozen object at 0x7f61824f80d0>,\n",
              "                                        'min_impurity_decrease': <scipy.stats._distn_infrastructure.rv_frozen object at 0x7f61824f85d0>,\n",
              "                                        'min_samples_leaf': <scipy.stats._distn_infrastructure.rv_frozen object at 0x7f6182855b50>,\n",
              "                                        'min_samples_split': <scipy.stats._distn_infrastructure.rv_frozen object at 0x7f61824f8610>},\n",
              "                   random_state=42)"
            ]
          },
          "metadata": {},
          "execution_count": 87
        }
      ]
    },
    {
      "cell_type": "code",
      "source": [
        "print(gs.best_params_) # 최적의 파라미터 값 "
      ],
      "metadata": {
        "colab": {
          "base_uri": "https://localhost:8080/"
        },
        "id": "C9JF47MwU1C7",
        "outputId": "5e642d6b-b94f-428b-db71-41dd9f439b23"
      },
      "execution_count": 88,
      "outputs": [
        {
          "output_type": "stream",
          "name": "stdout",
          "text": [
            "{'max_depth': 39, 'min_impurity_decrease': 0.00034102546602601173, 'min_samples_leaf': 7, 'min_samples_split': 13}\n"
          ]
        }
      ]
    },
    {
      "cell_type": "code",
      "source": [
        "print(np.max(gs.cv_results_['mean_test_score'])) # 최적의 파라미터로 찾은 검증세트의 점수"
      ],
      "metadata": {
        "colab": {
          "base_uri": "https://localhost:8080/"
        },
        "id": "cK-rFuL_VNVX",
        "outputId": "59627559-2074-4aa4-c8e0-65a77be1a7f6"
      },
      "execution_count": 89,
      "outputs": [
        {
          "output_type": "stream",
          "name": "stdout",
          "text": [
            "0.8695428296438884\n"
          ]
        }
      ]
    },
    {
      "cell_type": "code",
      "source": [
        "dt = gs.best_estimator_  # 최적의 이 모델을 dt 모델로 저장. best_estimator_ : 최적의 파라미터로 훈련데이터(훈련+검증)를 훈련한 모델\n",
        "print(dt.score(test_input, test_target)) # 최종적으로 테스트 세트로 검증"
      ],
      "metadata": {
        "colab": {
          "base_uri": "https://localhost:8080/"
        },
        "id": "m98iDT8zVUeC",
        "outputId": "5c3b94a8-93b1-4a84-b69e-12e0e6164c8f"
      },
      "execution_count": 90,
      "outputs": [
        {
          "output_type": "stream",
          "name": "stdout",
          "text": [
            "0.86\n"
          ]
        }
      ]
    },
    {
      "cell_type": "code",
      "source": [
        "# 확인문제"
      ],
      "metadata": {
        "id": "keZ2NAEwhXx5"
      },
      "execution_count": 91,
      "outputs": []
    },
    {
      "cell_type": "code",
      "source": [
        "rg = RandomizedSearchCV(DecisionTreeClassifier(splitter = 'random', random_state = 42), params, n_iter = 100, n_jobs = -1, random_state = 42)\n",
        "rg.fit(train_input, train_target)\n",
        "print(rg.best_params_)\n",
        "print(np.max(rg.cv_results_['mean_test_score']))\n",
        "dt = rg.best_estimator_\n",
        "print(dt.score(test_input, test_target))"
      ],
      "metadata": {
        "colab": {
          "base_uri": "https://localhost:8080/"
        },
        "id": "ZOAOrvXVhcD-",
        "outputId": "ff1cab5e-3124-407f-c7c0-b8c1ecc59249"
      },
      "execution_count": 95,
      "outputs": [
        {
          "output_type": "stream",
          "name": "stdout",
          "text": [
            "{'max_depth': 43, 'min_impurity_decrease': 0.00011407982271508446, 'min_samples_leaf': 19, 'min_samples_split': 18}\n",
            "0.8458726956392981\n",
            "0.786923076923077\n"
          ]
        }
      ]
    },
    {
      "cell_type": "code",
      "source": [
        "# => 테스트세트에서 성능이 내려갔다 !!"
      ],
      "metadata": {
        "id": "nnKoE1__irDs"
      },
      "execution_count": 97,
      "outputs": []
    }
  ]
}