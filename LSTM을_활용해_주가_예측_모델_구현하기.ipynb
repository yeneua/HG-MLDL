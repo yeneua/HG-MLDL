{
  "nbformat": 4,
  "nbformat_minor": 0,
  "metadata": {
    "accelerator": "GPU",
    "colab": {
      "provenance": [],
      "collapsed_sections": [
        "rSmSQt-wBud1",
        "52H4IgnELRRt",
        "qDTIxmbVBud3",
        "x0-oum0bBud3",
        "jaWpXnQf6zMt"
      ],
      "include_colab_link": true
    },
    "kernelspec": {
      "display_name": "Python 3",
      "language": "python",
      "name": "python3"
    },
    "language_info": {
      "codemirror_mode": {
        "name": "ipython",
        "version": 3
      },
      "file_extension": ".py",
      "mimetype": "text/x-python",
      "name": "python",
      "nbconvert_exporter": "python",
      "pygments_lexer": "ipython3",
      "version": "3.6.10"
    }
  },
  "cells": [
    {
      "cell_type": "markdown",
      "metadata": {
        "id": "view-in-github",
        "colab_type": "text"
      },
      "source": [
        "<a href=\"https://colab.research.google.com/github/yeneua/HG-MLDL/blob/main/LSTM%EC%9D%84_%ED%99%9C%EC%9A%A9%ED%95%B4_%EC%A3%BC%EA%B0%80_%EC%98%88%EC%B8%A1_%EB%AA%A8%EB%8D%B8_%EA%B5%AC%ED%98%84%ED%95%98%EA%B8%B0.ipynb\" target=\"_parent\"><img src=\"https://colab.research.google.com/assets/colab-badge.svg\" alt=\"Open In Colab\"/></a>"
      ]
    },
    {
      "cell_type": "markdown",
      "metadata": {
        "id": "OF9lUuqwBudU"
      },
      "source": [
        "# 주제 : LSTM을 활용해 주가 예측 모델 구현하기"
      ]
    },
    {
      "cell_type": "markdown",
      "metadata": {
        "id": "G-rOVLn7Budf"
      },
      "source": [
        "이번 튜토리얼 에서는 다음과 같은 **프로세스 파이프라인**으로 주가 예측을 진행합니다.\n",
        "\n",
        "- FinanceDataReader를 활용하여 주가 데이터 받아오기\n",
        "- TensorFlow Dataset 클래스를 활용하여 주가 데이터 구축\n",
        "- LSTM 을 활용한 주가 예측 모델 구축"
      ]
    },
    {
      "cell_type": "code",
      "source": [
        "# 파이프라인 : 하나의 시스템을 이용하기 위해서 여러개의 경로 ??\n",
        "# 파이프 라인이 3개"
      ],
      "metadata": {
        "id": "Kh-k7oePniEv"
      },
      "execution_count": null,
      "outputs": []
    },
    {
      "cell_type": "markdown",
      "metadata": {
        "id": "UshzfuK6CJX4"
      },
      "source": [
        "## Step 1. 데이터 불러오기 및 EDA"
      ]
    },
    {
      "cell_type": "code",
      "source": [
        "# explanotiry data analysis"
      ],
      "metadata": {
        "id": "Wto4voBRnxyC"
      },
      "execution_count": null,
      "outputs": []
    },
    {
      "cell_type": "markdown",
      "metadata": {
        "id": "EZFBO9GwBudh"
      },
      "source": [
        "### 문제 01. 필요한 모듈 import"
      ]
    },
    {
      "cell_type": "code",
      "metadata": {
        "id": "pYEgcrR1Budi"
      },
      "source": [
        "import pandas as pd\n",
        "import numpy as np\n",
        "import matplotlib.pyplot as plt\n",
        "import seaborn as sns\n",
        "import warnings\n",
        "import os\n",
        " # notebook을 실행한 브라우저에서 바로 그림을 볼 수 있게 해주는 것 \n",
        "%matplotlib inline \n",
        "warnings.filterwarnings('ignore') #ignore warnings message\n",
        "\n",
        "plt.rcParams['font.family'] = 'NanumGothic'"
      ],
      "execution_count": null,
      "outputs": []
    },
    {
      "cell_type": "markdown",
      "metadata": {
        "id": "5N-NMRFVBudi"
      },
      "source": [
        "### 문제 02. FinanceDataReader import"
      ]
    },
    {
      "cell_type": "markdown",
      "metadata": {
        "id": "a7FGN9gGBudj"
      },
      "source": [
        "**FinanceDataReader**는 주가 데이터를 편리하게 가져올 수 있는 파이썬 패키지입니다.\n",
        "\n",
        "- [GitHub Repo](https://github.com/FinanceData/FinanceDataReader)"
      ]
    },
    {
      "cell_type": "markdown",
      "metadata": {
        "id": "o6_RB59yBudj"
      },
      "source": [
        "**FinanceDataReader**가 아직 설치 되지 않으신 분들은 아래의 주석을 해제한 후 명령어로 설치해 주시기 바랍니다."
      ]
    },
    {
      "cell_type": "code",
      "metadata": {
        "id": "99EggRzTBudk",
        "colab": {
          "base_uri": "https://localhost:8080/"
        },
        "outputId": "05520693-5cac-444d-80fe-d13c8210915f"
      },
      "source": [
        "!pip install finance-datareader"
      ],
      "execution_count": null,
      "outputs": [
        {
          "output_type": "stream",
          "name": "stdout",
          "text": [
            "Looking in indexes: https://pypi.org/simple, https://us-python.pkg.dev/colab-wheels/public/simple/\n",
            "Collecting finance-datareader\n",
            "  Downloading finance_datareader-0.9.50-py3-none-any.whl (19 kB)\n",
            "Requirement already satisfied: lxml in /usr/local/lib/python3.8/dist-packages (from finance-datareader) (4.9.1)\n",
            "Requirement already satisfied: tqdm in /usr/local/lib/python3.8/dist-packages (from finance-datareader) (4.64.1)\n",
            "Requirement already satisfied: requests>=2.3.0 in /usr/local/lib/python3.8/dist-packages (from finance-datareader) (2.23.0)\n",
            "Collecting requests-file\n",
            "  Downloading requests_file-1.5.1-py2.py3-none-any.whl (3.7 kB)\n",
            "Requirement already satisfied: pandas>=0.19.2 in /usr/local/lib/python3.8/dist-packages (from finance-datareader) (1.3.5)\n",
            "Requirement already satisfied: numpy>=1.17.3 in /usr/local/lib/python3.8/dist-packages (from pandas>=0.19.2->finance-datareader) (1.21.6)\n",
            "Requirement already satisfied: pytz>=2017.3 in /usr/local/lib/python3.8/dist-packages (from pandas>=0.19.2->finance-datareader) (2022.6)\n",
            "Requirement already satisfied: python-dateutil>=2.7.3 in /usr/local/lib/python3.8/dist-packages (from pandas>=0.19.2->finance-datareader) (2.8.2)\n",
            "Requirement already satisfied: six>=1.5 in /usr/local/lib/python3.8/dist-packages (from python-dateutil>=2.7.3->pandas>=0.19.2->finance-datareader) (1.15.0)\n",
            "Requirement already satisfied: idna<3,>=2.5 in /usr/local/lib/python3.8/dist-packages (from requests>=2.3.0->finance-datareader) (2.10)\n",
            "Requirement already satisfied: chardet<4,>=3.0.2 in /usr/local/lib/python3.8/dist-packages (from requests>=2.3.0->finance-datareader) (3.0.4)\n",
            "Requirement already satisfied: certifi>=2017.4.17 in /usr/local/lib/python3.8/dist-packages (from requests>=2.3.0->finance-datareader) (2022.9.24)\n",
            "Requirement already satisfied: urllib3!=1.25.0,!=1.25.1,<1.26,>=1.21.1 in /usr/local/lib/python3.8/dist-packages (from requests>=2.3.0->finance-datareader) (1.24.3)\n",
            "Installing collected packages: requests-file, finance-datareader\n",
            "Successfully installed finance-datareader-0.9.50 requests-file-1.5.1\n"
          ]
        }
      ]
    },
    {
      "cell_type": "code",
      "metadata": {
        "id": "4vkRR9dQBudk"
      },
      "source": [
        "import FinanceDataReader as fdr"
      ],
      "execution_count": null,
      "outputs": []
    },
    {
      "cell_type": "markdown",
      "metadata": {
        "id": "x4C9neevEYYr"
      },
      "source": [
        "### 문제 03. 삼성전자 데이터 불러오기"
      ]
    },
    {
      "cell_type": "code",
      "metadata": {
        "id": "9IqphMM7Budl"
      },
      "source": [
        "# 삼성전자(005930) 전체 (1996-11-05 ~ 현재)\n",
        "samsung = fdr.DataReader('005930')"
      ],
      "execution_count": null,
      "outputs": []
    },
    {
      "cell_type": "markdown",
      "metadata": {
        "id": "T-WOxATwBudl"
      },
      "source": [
        "매우 편리하게 삼성전자 주가 데이터를 `DataFrame`형식으로 받아옵니다.\n",
        "\n",
        "기본 **오름차순 정렬**이 된 데이터임을 알 수 있습니다.\n",
        "\n",
        "### 컬럼 설명\n",
        "\n",
        "- `Open`:   시가\n",
        "- `High`:   고가\n",
        "- `Low`:    저가\n",
        "- `Close`:  종가\n",
        "- `Volume`: 거래량\n",
        "- `Change`: 대비"
      ]
    },
    {
      "cell_type": "markdown",
      "metadata": {
        "id": "K9w60KnkEeqW"
      },
      "source": [
        "### 문제 04. 삼성전자 데이터 EDA"
      ]
    },
    {
      "cell_type": "code",
      "metadata": {
        "id": "WfLJ5zHXBudl",
        "colab": {
          "base_uri": "https://localhost:8080/",
          "height": 237
        },
        "outputId": "6013f3ee-d01a-4d6e-8b01-2aecc6bc8f59"
      },
      "source": [
        "samsung.tail() # 5개 나옴"
      ],
      "execution_count": null,
      "outputs": [
        {
          "output_type": "execute_result",
          "data": {
            "text/plain": [
              "             Open   High    Low  Close    Volume    Change\n",
              "Date                                                      \n",
              "2022-12-01  63100  63200  62300  62600  16631445  0.006431\n",
              "2022-12-02  62500  62500  60400  60400  15331184 -0.035144\n",
              "2022-12-05  60900  61100  60000  60300  13767787 -0.001656\n",
              "2022-12-06  59800  60100  59200  59200  13888300 -0.018242\n",
              "2022-12-07  58800  59600  58500  59200   8669544  0.000000"
            ],
            "text/html": [
              "\n",
              "  <div id=\"df-a2c016b2-b5e3-4ac4-852c-17d0e454c7e2\">\n",
              "    <div class=\"colab-df-container\">\n",
              "      <div>\n",
              "<style scoped>\n",
              "    .dataframe tbody tr th:only-of-type {\n",
              "        vertical-align: middle;\n",
              "    }\n",
              "\n",
              "    .dataframe tbody tr th {\n",
              "        vertical-align: top;\n",
              "    }\n",
              "\n",
              "    .dataframe thead th {\n",
              "        text-align: right;\n",
              "    }\n",
              "</style>\n",
              "<table border=\"1\" class=\"dataframe\">\n",
              "  <thead>\n",
              "    <tr style=\"text-align: right;\">\n",
              "      <th></th>\n",
              "      <th>Open</th>\n",
              "      <th>High</th>\n",
              "      <th>Low</th>\n",
              "      <th>Close</th>\n",
              "      <th>Volume</th>\n",
              "      <th>Change</th>\n",
              "    </tr>\n",
              "    <tr>\n",
              "      <th>Date</th>\n",
              "      <th></th>\n",
              "      <th></th>\n",
              "      <th></th>\n",
              "      <th></th>\n",
              "      <th></th>\n",
              "      <th></th>\n",
              "    </tr>\n",
              "  </thead>\n",
              "  <tbody>\n",
              "    <tr>\n",
              "      <th>2022-12-01</th>\n",
              "      <td>63100</td>\n",
              "      <td>63200</td>\n",
              "      <td>62300</td>\n",
              "      <td>62600</td>\n",
              "      <td>16631445</td>\n",
              "      <td>0.006431</td>\n",
              "    </tr>\n",
              "    <tr>\n",
              "      <th>2022-12-02</th>\n",
              "      <td>62500</td>\n",
              "      <td>62500</td>\n",
              "      <td>60400</td>\n",
              "      <td>60400</td>\n",
              "      <td>15331184</td>\n",
              "      <td>-0.035144</td>\n",
              "    </tr>\n",
              "    <tr>\n",
              "      <th>2022-12-05</th>\n",
              "      <td>60900</td>\n",
              "      <td>61100</td>\n",
              "      <td>60000</td>\n",
              "      <td>60300</td>\n",
              "      <td>13767787</td>\n",
              "      <td>-0.001656</td>\n",
              "    </tr>\n",
              "    <tr>\n",
              "      <th>2022-12-06</th>\n",
              "      <td>59800</td>\n",
              "      <td>60100</td>\n",
              "      <td>59200</td>\n",
              "      <td>59200</td>\n",
              "      <td>13888300</td>\n",
              "      <td>-0.018242</td>\n",
              "    </tr>\n",
              "    <tr>\n",
              "      <th>2022-12-07</th>\n",
              "      <td>58800</td>\n",
              "      <td>59600</td>\n",
              "      <td>58500</td>\n",
              "      <td>59200</td>\n",
              "      <td>8669544</td>\n",
              "      <td>0.000000</td>\n",
              "    </tr>\n",
              "  </tbody>\n",
              "</table>\n",
              "</div>\n",
              "      <button class=\"colab-df-convert\" onclick=\"convertToInteractive('df-a2c016b2-b5e3-4ac4-852c-17d0e454c7e2')\"\n",
              "              title=\"Convert this dataframe to an interactive table.\"\n",
              "              style=\"display:none;\">\n",
              "        \n",
              "  <svg xmlns=\"http://www.w3.org/2000/svg\" height=\"24px\"viewBox=\"0 0 24 24\"\n",
              "       width=\"24px\">\n",
              "    <path d=\"M0 0h24v24H0V0z\" fill=\"none\"/>\n",
              "    <path d=\"M18.56 5.44l.94 2.06.94-2.06 2.06-.94-2.06-.94-.94-2.06-.94 2.06-2.06.94zm-11 1L8.5 8.5l.94-2.06 2.06-.94-2.06-.94L8.5 2.5l-.94 2.06-2.06.94zm10 10l.94 2.06.94-2.06 2.06-.94-2.06-.94-.94-2.06-.94 2.06-2.06.94z\"/><path d=\"M17.41 7.96l-1.37-1.37c-.4-.4-.92-.59-1.43-.59-.52 0-1.04.2-1.43.59L10.3 9.45l-7.72 7.72c-.78.78-.78 2.05 0 2.83L4 21.41c.39.39.9.59 1.41.59.51 0 1.02-.2 1.41-.59l7.78-7.78 2.81-2.81c.8-.78.8-2.07 0-2.86zM5.41 20L4 18.59l7.72-7.72 1.47 1.35L5.41 20z\"/>\n",
              "  </svg>\n",
              "      </button>\n",
              "      \n",
              "  <style>\n",
              "    .colab-df-container {\n",
              "      display:flex;\n",
              "      flex-wrap:wrap;\n",
              "      gap: 12px;\n",
              "    }\n",
              "\n",
              "    .colab-df-convert {\n",
              "      background-color: #E8F0FE;\n",
              "      border: none;\n",
              "      border-radius: 50%;\n",
              "      cursor: pointer;\n",
              "      display: none;\n",
              "      fill: #1967D2;\n",
              "      height: 32px;\n",
              "      padding: 0 0 0 0;\n",
              "      width: 32px;\n",
              "    }\n",
              "\n",
              "    .colab-df-convert:hover {\n",
              "      background-color: #E2EBFA;\n",
              "      box-shadow: 0px 1px 2px rgba(60, 64, 67, 0.3), 0px 1px 3px 1px rgba(60, 64, 67, 0.15);\n",
              "      fill: #174EA6;\n",
              "    }\n",
              "\n",
              "    [theme=dark] .colab-df-convert {\n",
              "      background-color: #3B4455;\n",
              "      fill: #D2E3FC;\n",
              "    }\n",
              "\n",
              "    [theme=dark] .colab-df-convert:hover {\n",
              "      background-color: #434B5C;\n",
              "      box-shadow: 0px 1px 3px 1px rgba(0, 0, 0, 0.15);\n",
              "      filter: drop-shadow(0px 1px 2px rgba(0, 0, 0, 0.3));\n",
              "      fill: #FFFFFF;\n",
              "    }\n",
              "  </style>\n",
              "\n",
              "      <script>\n",
              "        const buttonEl =\n",
              "          document.querySelector('#df-a2c016b2-b5e3-4ac4-852c-17d0e454c7e2 button.colab-df-convert');\n",
              "        buttonEl.style.display =\n",
              "          google.colab.kernel.accessAllowed ? 'block' : 'none';\n",
              "\n",
              "        async function convertToInteractive(key) {\n",
              "          const element = document.querySelector('#df-a2c016b2-b5e3-4ac4-852c-17d0e454c7e2');\n",
              "          const dataTable =\n",
              "            await google.colab.kernel.invokeFunction('convertToInteractive',\n",
              "                                                     [key], {});\n",
              "          if (!dataTable) return;\n",
              "\n",
              "          const docLinkHtml = 'Like what you see? Visit the ' +\n",
              "            '<a target=\"_blank\" href=https://colab.research.google.com/notebooks/data_table.ipynb>data table notebook</a>'\n",
              "            + ' to learn more about interactive tables.';\n",
              "          element.innerHTML = '';\n",
              "          dataTable['output_type'] = 'display_data';\n",
              "          await google.colab.output.renderOutput(dataTable, element);\n",
              "          const docLink = document.createElement('div');\n",
              "          docLink.innerHTML = docLinkHtml;\n",
              "          element.appendChild(docLink);\n",
              "        }\n",
              "      </script>\n",
              "    </div>\n",
              "  </div>\n",
              "  "
            ]
          },
          "metadata": {},
          "execution_count": 5
        }
      ]
    },
    {
      "cell_type": "markdown",
      "metadata": {
        "id": "C0i4k1S-Budn"
      },
      "source": [
        "**미국 주식 데이터**도 가져올 수 있습니다."
      ]
    },
    {
      "cell_type": "markdown",
      "metadata": {
        "id": "ubGAbVaxEjGG"
      },
      "source": [
        "### 문제 05. 애플 데이터 불러오기"
      ]
    },
    {
      "cell_type": "code",
      "metadata": {
        "id": "_4isQ8KTBudn"
      },
      "source": [
        "# Apple(AAPL), 애플\n",
        "apple = fdr.DataReader('AAPL')"
      ],
      "execution_count": null,
      "outputs": []
    },
    {
      "cell_type": "markdown",
      "metadata": {
        "id": "addJd0MGE6RD"
      },
      "source": [
        "### 문제 06. 애플 데이터 EDA"
      ]
    },
    {
      "cell_type": "code",
      "metadata": {
        "id": "-0JPVT6UBudn",
        "colab": {
          "base_uri": "https://localhost:8080/",
          "height": 237
        },
        "outputId": "6c8deb88-2f42-44e6-a927-f9ce4b82f5cf"
      },
      "source": [
        "apple.head()"
      ],
      "execution_count": null,
      "outputs": [
        {
          "output_type": "execute_result",
          "data": {
            "text/plain": [
              "                Open      High       Low     Close  Adj Close     Volume\n",
              "Date                                                                    \n",
              "1980-12-12  0.128348  0.128906  0.128348  0.128348   0.099874  469033600\n",
              "1980-12-15  0.122210  0.122210  0.121652  0.121652   0.094663  175884800\n",
              "1980-12-16  0.113281  0.113281  0.112723  0.112723   0.087715  105728000\n",
              "1980-12-17  0.115513  0.116071  0.115513  0.115513   0.089886   86441600\n",
              "1980-12-18  0.118862  0.119420  0.118862  0.118862   0.092492   73449600"
            ],
            "text/html": [
              "\n",
              "  <div id=\"df-d1fc5636-c33b-4ed4-a402-8bceb69a1057\">\n",
              "    <div class=\"colab-df-container\">\n",
              "      <div>\n",
              "<style scoped>\n",
              "    .dataframe tbody tr th:only-of-type {\n",
              "        vertical-align: middle;\n",
              "    }\n",
              "\n",
              "    .dataframe tbody tr th {\n",
              "        vertical-align: top;\n",
              "    }\n",
              "\n",
              "    .dataframe thead th {\n",
              "        text-align: right;\n",
              "    }\n",
              "</style>\n",
              "<table border=\"1\" class=\"dataframe\">\n",
              "  <thead>\n",
              "    <tr style=\"text-align: right;\">\n",
              "      <th></th>\n",
              "      <th>Open</th>\n",
              "      <th>High</th>\n",
              "      <th>Low</th>\n",
              "      <th>Close</th>\n",
              "      <th>Adj Close</th>\n",
              "      <th>Volume</th>\n",
              "    </tr>\n",
              "    <tr>\n",
              "      <th>Date</th>\n",
              "      <th></th>\n",
              "      <th></th>\n",
              "      <th></th>\n",
              "      <th></th>\n",
              "      <th></th>\n",
              "      <th></th>\n",
              "    </tr>\n",
              "  </thead>\n",
              "  <tbody>\n",
              "    <tr>\n",
              "      <th>1980-12-12</th>\n",
              "      <td>0.128348</td>\n",
              "      <td>0.128906</td>\n",
              "      <td>0.128348</td>\n",
              "      <td>0.128348</td>\n",
              "      <td>0.099874</td>\n",
              "      <td>469033600</td>\n",
              "    </tr>\n",
              "    <tr>\n",
              "      <th>1980-12-15</th>\n",
              "      <td>0.122210</td>\n",
              "      <td>0.122210</td>\n",
              "      <td>0.121652</td>\n",
              "      <td>0.121652</td>\n",
              "      <td>0.094663</td>\n",
              "      <td>175884800</td>\n",
              "    </tr>\n",
              "    <tr>\n",
              "      <th>1980-12-16</th>\n",
              "      <td>0.113281</td>\n",
              "      <td>0.113281</td>\n",
              "      <td>0.112723</td>\n",
              "      <td>0.112723</td>\n",
              "      <td>0.087715</td>\n",
              "      <td>105728000</td>\n",
              "    </tr>\n",
              "    <tr>\n",
              "      <th>1980-12-17</th>\n",
              "      <td>0.115513</td>\n",
              "      <td>0.116071</td>\n",
              "      <td>0.115513</td>\n",
              "      <td>0.115513</td>\n",
              "      <td>0.089886</td>\n",
              "      <td>86441600</td>\n",
              "    </tr>\n",
              "    <tr>\n",
              "      <th>1980-12-18</th>\n",
              "      <td>0.118862</td>\n",
              "      <td>0.119420</td>\n",
              "      <td>0.118862</td>\n",
              "      <td>0.118862</td>\n",
              "      <td>0.092492</td>\n",
              "      <td>73449600</td>\n",
              "    </tr>\n",
              "  </tbody>\n",
              "</table>\n",
              "</div>\n",
              "      <button class=\"colab-df-convert\" onclick=\"convertToInteractive('df-d1fc5636-c33b-4ed4-a402-8bceb69a1057')\"\n",
              "              title=\"Convert this dataframe to an interactive table.\"\n",
              "              style=\"display:none;\">\n",
              "        \n",
              "  <svg xmlns=\"http://www.w3.org/2000/svg\" height=\"24px\"viewBox=\"0 0 24 24\"\n",
              "       width=\"24px\">\n",
              "    <path d=\"M0 0h24v24H0V0z\" fill=\"none\"/>\n",
              "    <path d=\"M18.56 5.44l.94 2.06.94-2.06 2.06-.94-2.06-.94-.94-2.06-.94 2.06-2.06.94zm-11 1L8.5 8.5l.94-2.06 2.06-.94-2.06-.94L8.5 2.5l-.94 2.06-2.06.94zm10 10l.94 2.06.94-2.06 2.06-.94-2.06-.94-.94-2.06-.94 2.06-2.06.94z\"/><path d=\"M17.41 7.96l-1.37-1.37c-.4-.4-.92-.59-1.43-.59-.52 0-1.04.2-1.43.59L10.3 9.45l-7.72 7.72c-.78.78-.78 2.05 0 2.83L4 21.41c.39.39.9.59 1.41.59.51 0 1.02-.2 1.41-.59l7.78-7.78 2.81-2.81c.8-.78.8-2.07 0-2.86zM5.41 20L4 18.59l7.72-7.72 1.47 1.35L5.41 20z\"/>\n",
              "  </svg>\n",
              "      </button>\n",
              "      \n",
              "  <style>\n",
              "    .colab-df-container {\n",
              "      display:flex;\n",
              "      flex-wrap:wrap;\n",
              "      gap: 12px;\n",
              "    }\n",
              "\n",
              "    .colab-df-convert {\n",
              "      background-color: #E8F0FE;\n",
              "      border: none;\n",
              "      border-radius: 50%;\n",
              "      cursor: pointer;\n",
              "      display: none;\n",
              "      fill: #1967D2;\n",
              "      height: 32px;\n",
              "      padding: 0 0 0 0;\n",
              "      width: 32px;\n",
              "    }\n",
              "\n",
              "    .colab-df-convert:hover {\n",
              "      background-color: #E2EBFA;\n",
              "      box-shadow: 0px 1px 2px rgba(60, 64, 67, 0.3), 0px 1px 3px 1px rgba(60, 64, 67, 0.15);\n",
              "      fill: #174EA6;\n",
              "    }\n",
              "\n",
              "    [theme=dark] .colab-df-convert {\n",
              "      background-color: #3B4455;\n",
              "      fill: #D2E3FC;\n",
              "    }\n",
              "\n",
              "    [theme=dark] .colab-df-convert:hover {\n",
              "      background-color: #434B5C;\n",
              "      box-shadow: 0px 1px 3px 1px rgba(0, 0, 0, 0.15);\n",
              "      filter: drop-shadow(0px 1px 2px rgba(0, 0, 0, 0.3));\n",
              "      fill: #FFFFFF;\n",
              "    }\n",
              "  </style>\n",
              "\n",
              "      <script>\n",
              "        const buttonEl =\n",
              "          document.querySelector('#df-d1fc5636-c33b-4ed4-a402-8bceb69a1057 button.colab-df-convert');\n",
              "        buttonEl.style.display =\n",
              "          google.colab.kernel.accessAllowed ? 'block' : 'none';\n",
              "\n",
              "        async function convertToInteractive(key) {\n",
              "          const element = document.querySelector('#df-d1fc5636-c33b-4ed4-a402-8bceb69a1057');\n",
              "          const dataTable =\n",
              "            await google.colab.kernel.invokeFunction('convertToInteractive',\n",
              "                                                     [key], {});\n",
              "          if (!dataTable) return;\n",
              "\n",
              "          const docLinkHtml = 'Like what you see? Visit the ' +\n",
              "            '<a target=\"_blank\" href=https://colab.research.google.com/notebooks/data_table.ipynb>data table notebook</a>'\n",
              "            + ' to learn more about interactive tables.';\n",
              "          element.innerHTML = '';\n",
              "          dataTable['output_type'] = 'display_data';\n",
              "          await google.colab.output.renderOutput(dataTable, element);\n",
              "          const docLink = document.createElement('div');\n",
              "          docLink.innerHTML = docLinkHtml;\n",
              "          element.appendChild(docLink);\n",
              "        }\n",
              "      </script>\n",
              "    </div>\n",
              "  </div>\n",
              "  "
            ]
          },
          "metadata": {},
          "execution_count": 7
        }
      ]
    },
    {
      "cell_type": "markdown",
      "metadata": {
        "id": "3FmQB8fOBudo"
      },
      "source": [
        "### 문제 07. 특정 시점(2017년) 이후 데이터 불러오기"
      ]
    },
    {
      "cell_type": "code",
      "metadata": {
        "id": "96jnHiNtBudo"
      },
      "source": [
        "# Apple(AAPL), 2017년\n",
        "apple = fdr.DataReader('AAPL', '2017')"
      ],
      "execution_count": null,
      "outputs": []
    },
    {
      "cell_type": "code",
      "metadata": {
        "id": "T2smiyL7Budo",
        "colab": {
          "base_uri": "https://localhost:8080/",
          "height": 237
        },
        "outputId": "9a456341-11bc-407c-a21b-6e0c8d00b0b1"
      },
      "source": [
        "apple.tail()"
      ],
      "execution_count": null,
      "outputs": [
        {
          "output_type": "execute_result",
          "data": {
            "text/plain": [
              "                  Open        High         Low       Close   Adj Close  \\\n",
              "Date                                                                     \n",
              "2022-11-30  141.399994  148.720001  140.550003  148.029999  148.029999   \n",
              "2022-12-01  148.210007  149.130005  146.610001  148.309998  148.309998   \n",
              "2022-12-02  145.960007  148.000000  145.649994  147.809998  147.809998   \n",
              "2022-12-05  147.770004  150.919998  145.770004  146.630005  146.630005   \n",
              "2022-12-06  147.070007  147.300003  141.919998  142.910004  142.910004   \n",
              "\n",
              "               Volume  \n",
              "Date                   \n",
              "2022-11-30  111224400  \n",
              "2022-12-01   71250400  \n",
              "2022-12-02   65421400  \n",
              "2022-12-05   68826400  \n",
              "2022-12-06   64671400  "
            ],
            "text/html": [
              "\n",
              "  <div id=\"df-a4032d43-3bb3-434d-af6c-39770d9e0591\">\n",
              "    <div class=\"colab-df-container\">\n",
              "      <div>\n",
              "<style scoped>\n",
              "    .dataframe tbody tr th:only-of-type {\n",
              "        vertical-align: middle;\n",
              "    }\n",
              "\n",
              "    .dataframe tbody tr th {\n",
              "        vertical-align: top;\n",
              "    }\n",
              "\n",
              "    .dataframe thead th {\n",
              "        text-align: right;\n",
              "    }\n",
              "</style>\n",
              "<table border=\"1\" class=\"dataframe\">\n",
              "  <thead>\n",
              "    <tr style=\"text-align: right;\">\n",
              "      <th></th>\n",
              "      <th>Open</th>\n",
              "      <th>High</th>\n",
              "      <th>Low</th>\n",
              "      <th>Close</th>\n",
              "      <th>Adj Close</th>\n",
              "      <th>Volume</th>\n",
              "    </tr>\n",
              "    <tr>\n",
              "      <th>Date</th>\n",
              "      <th></th>\n",
              "      <th></th>\n",
              "      <th></th>\n",
              "      <th></th>\n",
              "      <th></th>\n",
              "      <th></th>\n",
              "    </tr>\n",
              "  </thead>\n",
              "  <tbody>\n",
              "    <tr>\n",
              "      <th>2022-11-30</th>\n",
              "      <td>141.399994</td>\n",
              "      <td>148.720001</td>\n",
              "      <td>140.550003</td>\n",
              "      <td>148.029999</td>\n",
              "      <td>148.029999</td>\n",
              "      <td>111224400</td>\n",
              "    </tr>\n",
              "    <tr>\n",
              "      <th>2022-12-01</th>\n",
              "      <td>148.210007</td>\n",
              "      <td>149.130005</td>\n",
              "      <td>146.610001</td>\n",
              "      <td>148.309998</td>\n",
              "      <td>148.309998</td>\n",
              "      <td>71250400</td>\n",
              "    </tr>\n",
              "    <tr>\n",
              "      <th>2022-12-02</th>\n",
              "      <td>145.960007</td>\n",
              "      <td>148.000000</td>\n",
              "      <td>145.649994</td>\n",
              "      <td>147.809998</td>\n",
              "      <td>147.809998</td>\n",
              "      <td>65421400</td>\n",
              "    </tr>\n",
              "    <tr>\n",
              "      <th>2022-12-05</th>\n",
              "      <td>147.770004</td>\n",
              "      <td>150.919998</td>\n",
              "      <td>145.770004</td>\n",
              "      <td>146.630005</td>\n",
              "      <td>146.630005</td>\n",
              "      <td>68826400</td>\n",
              "    </tr>\n",
              "    <tr>\n",
              "      <th>2022-12-06</th>\n",
              "      <td>147.070007</td>\n",
              "      <td>147.300003</td>\n",
              "      <td>141.919998</td>\n",
              "      <td>142.910004</td>\n",
              "      <td>142.910004</td>\n",
              "      <td>64671400</td>\n",
              "    </tr>\n",
              "  </tbody>\n",
              "</table>\n",
              "</div>\n",
              "      <button class=\"colab-df-convert\" onclick=\"convertToInteractive('df-a4032d43-3bb3-434d-af6c-39770d9e0591')\"\n",
              "              title=\"Convert this dataframe to an interactive table.\"\n",
              "              style=\"display:none;\">\n",
              "        \n",
              "  <svg xmlns=\"http://www.w3.org/2000/svg\" height=\"24px\"viewBox=\"0 0 24 24\"\n",
              "       width=\"24px\">\n",
              "    <path d=\"M0 0h24v24H0V0z\" fill=\"none\"/>\n",
              "    <path d=\"M18.56 5.44l.94 2.06.94-2.06 2.06-.94-2.06-.94-.94-2.06-.94 2.06-2.06.94zm-11 1L8.5 8.5l.94-2.06 2.06-.94-2.06-.94L8.5 2.5l-.94 2.06-2.06.94zm10 10l.94 2.06.94-2.06 2.06-.94-2.06-.94-.94-2.06-.94 2.06-2.06.94z\"/><path d=\"M17.41 7.96l-1.37-1.37c-.4-.4-.92-.59-1.43-.59-.52 0-1.04.2-1.43.59L10.3 9.45l-7.72 7.72c-.78.78-.78 2.05 0 2.83L4 21.41c.39.39.9.59 1.41.59.51 0 1.02-.2 1.41-.59l7.78-7.78 2.81-2.81c.8-.78.8-2.07 0-2.86zM5.41 20L4 18.59l7.72-7.72 1.47 1.35L5.41 20z\"/>\n",
              "  </svg>\n",
              "      </button>\n",
              "      \n",
              "  <style>\n",
              "    .colab-df-container {\n",
              "      display:flex;\n",
              "      flex-wrap:wrap;\n",
              "      gap: 12px;\n",
              "    }\n",
              "\n",
              "    .colab-df-convert {\n",
              "      background-color: #E8F0FE;\n",
              "      border: none;\n",
              "      border-radius: 50%;\n",
              "      cursor: pointer;\n",
              "      display: none;\n",
              "      fill: #1967D2;\n",
              "      height: 32px;\n",
              "      padding: 0 0 0 0;\n",
              "      width: 32px;\n",
              "    }\n",
              "\n",
              "    .colab-df-convert:hover {\n",
              "      background-color: #E2EBFA;\n",
              "      box-shadow: 0px 1px 2px rgba(60, 64, 67, 0.3), 0px 1px 3px 1px rgba(60, 64, 67, 0.15);\n",
              "      fill: #174EA6;\n",
              "    }\n",
              "\n",
              "    [theme=dark] .colab-df-convert {\n",
              "      background-color: #3B4455;\n",
              "      fill: #D2E3FC;\n",
              "    }\n",
              "\n",
              "    [theme=dark] .colab-df-convert:hover {\n",
              "      background-color: #434B5C;\n",
              "      box-shadow: 0px 1px 3px 1px rgba(0, 0, 0, 0.15);\n",
              "      filter: drop-shadow(0px 1px 2px rgba(0, 0, 0, 0.3));\n",
              "      fill: #FFFFFF;\n",
              "    }\n",
              "  </style>\n",
              "\n",
              "      <script>\n",
              "        const buttonEl =\n",
              "          document.querySelector('#df-a4032d43-3bb3-434d-af6c-39770d9e0591 button.colab-df-convert');\n",
              "        buttonEl.style.display =\n",
              "          google.colab.kernel.accessAllowed ? 'block' : 'none';\n",
              "\n",
              "        async function convertToInteractive(key) {\n",
              "          const element = document.querySelector('#df-a4032d43-3bb3-434d-af6c-39770d9e0591');\n",
              "          const dataTable =\n",
              "            await google.colab.kernel.invokeFunction('convertToInteractive',\n",
              "                                                     [key], {});\n",
              "          if (!dataTable) return;\n",
              "\n",
              "          const docLinkHtml = 'Like what you see? Visit the ' +\n",
              "            '<a target=\"_blank\" href=https://colab.research.google.com/notebooks/data_table.ipynb>data table notebook</a>'\n",
              "            + ' to learn more about interactive tables.';\n",
              "          element.innerHTML = '';\n",
              "          dataTable['output_type'] = 'display_data';\n",
              "          await google.colab.output.renderOutput(dataTable, element);\n",
              "          const docLink = document.createElement('div');\n",
              "          docLink.innerHTML = docLinkHtml;\n",
              "          element.appendChild(docLink);\n",
              "        }\n",
              "      </script>\n",
              "    </div>\n",
              "  </div>\n",
              "  "
            ]
          },
          "metadata": {},
          "execution_count": 9
        }
      ]
    },
    {
      "cell_type": "markdown",
      "metadata": {
        "id": "-ter25eMBudp"
      },
      "source": [
        "### 문제 08. 날짜를 지정하여 특정 범위(40년간) 데이터 불러오기"
      ]
    },
    {
      "cell_type": "code",
      "metadata": {
        "id": "vyR92-HABudp"
      },
      "source": [
        "# Ford(F), 1980-01-01 ~ 2019-12-30 (40년 데이터)\n",
        "ford = fdr.DataReader('F', '1980-01-01', '2019-12-30')"
      ],
      "execution_count": null,
      "outputs": []
    },
    {
      "cell_type": "code",
      "metadata": {
        "id": "j1N0Y2XXBudp",
        "colab": {
          "base_uri": "https://localhost:8080/",
          "height": 237
        },
        "outputId": "2e48d5bf-c3a1-4ad8-c95d-3bd24bcfce98"
      },
      "source": [
        "ford.head()"
      ],
      "execution_count": null,
      "outputs": [
        {
          "output_type": "execute_result",
          "data": {
            "text/plain": [
              "                Open      High       Low     Close  Adj Close   Volume\n",
              "Date                                                                  \n",
              "1980-01-02  1.297609  1.328022  1.287471  1.287471   0.265383  2044376\n",
              "1980-01-03  1.287471  1.287471  1.267196  1.287471   0.265383  2816257\n",
              "1980-01-04  1.287471  1.287471  1.272265  1.277334   0.263294  3038203\n",
              "1980-01-07  1.277334  1.287471  1.267196  1.267196   0.261204  2251526\n",
              "1980-01-08  1.267196  1.292540  1.257059  1.292540   0.266428  4069022"
            ],
            "text/html": [
              "\n",
              "  <div id=\"df-690064c9-da75-4eca-9ed8-14b598f4bd8a\">\n",
              "    <div class=\"colab-df-container\">\n",
              "      <div>\n",
              "<style scoped>\n",
              "    .dataframe tbody tr th:only-of-type {\n",
              "        vertical-align: middle;\n",
              "    }\n",
              "\n",
              "    .dataframe tbody tr th {\n",
              "        vertical-align: top;\n",
              "    }\n",
              "\n",
              "    .dataframe thead th {\n",
              "        text-align: right;\n",
              "    }\n",
              "</style>\n",
              "<table border=\"1\" class=\"dataframe\">\n",
              "  <thead>\n",
              "    <tr style=\"text-align: right;\">\n",
              "      <th></th>\n",
              "      <th>Open</th>\n",
              "      <th>High</th>\n",
              "      <th>Low</th>\n",
              "      <th>Close</th>\n",
              "      <th>Adj Close</th>\n",
              "      <th>Volume</th>\n",
              "    </tr>\n",
              "    <tr>\n",
              "      <th>Date</th>\n",
              "      <th></th>\n",
              "      <th></th>\n",
              "      <th></th>\n",
              "      <th></th>\n",
              "      <th></th>\n",
              "      <th></th>\n",
              "    </tr>\n",
              "  </thead>\n",
              "  <tbody>\n",
              "    <tr>\n",
              "      <th>1980-01-02</th>\n",
              "      <td>1.297609</td>\n",
              "      <td>1.328022</td>\n",
              "      <td>1.287471</td>\n",
              "      <td>1.287471</td>\n",
              "      <td>0.265383</td>\n",
              "      <td>2044376</td>\n",
              "    </tr>\n",
              "    <tr>\n",
              "      <th>1980-01-03</th>\n",
              "      <td>1.287471</td>\n",
              "      <td>1.287471</td>\n",
              "      <td>1.267196</td>\n",
              "      <td>1.287471</td>\n",
              "      <td>0.265383</td>\n",
              "      <td>2816257</td>\n",
              "    </tr>\n",
              "    <tr>\n",
              "      <th>1980-01-04</th>\n",
              "      <td>1.287471</td>\n",
              "      <td>1.287471</td>\n",
              "      <td>1.272265</td>\n",
              "      <td>1.277334</td>\n",
              "      <td>0.263294</td>\n",
              "      <td>3038203</td>\n",
              "    </tr>\n",
              "    <tr>\n",
              "      <th>1980-01-07</th>\n",
              "      <td>1.277334</td>\n",
              "      <td>1.287471</td>\n",
              "      <td>1.267196</td>\n",
              "      <td>1.267196</td>\n",
              "      <td>0.261204</td>\n",
              "      <td>2251526</td>\n",
              "    </tr>\n",
              "    <tr>\n",
              "      <th>1980-01-08</th>\n",
              "      <td>1.267196</td>\n",
              "      <td>1.292540</td>\n",
              "      <td>1.257059</td>\n",
              "      <td>1.292540</td>\n",
              "      <td>0.266428</td>\n",
              "      <td>4069022</td>\n",
              "    </tr>\n",
              "  </tbody>\n",
              "</table>\n",
              "</div>\n",
              "      <button class=\"colab-df-convert\" onclick=\"convertToInteractive('df-690064c9-da75-4eca-9ed8-14b598f4bd8a')\"\n",
              "              title=\"Convert this dataframe to an interactive table.\"\n",
              "              style=\"display:none;\">\n",
              "        \n",
              "  <svg xmlns=\"http://www.w3.org/2000/svg\" height=\"24px\"viewBox=\"0 0 24 24\"\n",
              "       width=\"24px\">\n",
              "    <path d=\"M0 0h24v24H0V0z\" fill=\"none\"/>\n",
              "    <path d=\"M18.56 5.44l.94 2.06.94-2.06 2.06-.94-2.06-.94-.94-2.06-.94 2.06-2.06.94zm-11 1L8.5 8.5l.94-2.06 2.06-.94-2.06-.94L8.5 2.5l-.94 2.06-2.06.94zm10 10l.94 2.06.94-2.06 2.06-.94-2.06-.94-.94-2.06-.94 2.06-2.06.94z\"/><path d=\"M17.41 7.96l-1.37-1.37c-.4-.4-.92-.59-1.43-.59-.52 0-1.04.2-1.43.59L10.3 9.45l-7.72 7.72c-.78.78-.78 2.05 0 2.83L4 21.41c.39.39.9.59 1.41.59.51 0 1.02-.2 1.41-.59l7.78-7.78 2.81-2.81c.8-.78.8-2.07 0-2.86zM5.41 20L4 18.59l7.72-7.72 1.47 1.35L5.41 20z\"/>\n",
              "  </svg>\n",
              "      </button>\n",
              "      \n",
              "  <style>\n",
              "    .colab-df-container {\n",
              "      display:flex;\n",
              "      flex-wrap:wrap;\n",
              "      gap: 12px;\n",
              "    }\n",
              "\n",
              "    .colab-df-convert {\n",
              "      background-color: #E8F0FE;\n",
              "      border: none;\n",
              "      border-radius: 50%;\n",
              "      cursor: pointer;\n",
              "      display: none;\n",
              "      fill: #1967D2;\n",
              "      height: 32px;\n",
              "      padding: 0 0 0 0;\n",
              "      width: 32px;\n",
              "    }\n",
              "\n",
              "    .colab-df-convert:hover {\n",
              "      background-color: #E2EBFA;\n",
              "      box-shadow: 0px 1px 2px rgba(60, 64, 67, 0.3), 0px 1px 3px 1px rgba(60, 64, 67, 0.15);\n",
              "      fill: #174EA6;\n",
              "    }\n",
              "\n",
              "    [theme=dark] .colab-df-convert {\n",
              "      background-color: #3B4455;\n",
              "      fill: #D2E3FC;\n",
              "    }\n",
              "\n",
              "    [theme=dark] .colab-df-convert:hover {\n",
              "      background-color: #434B5C;\n",
              "      box-shadow: 0px 1px 3px 1px rgba(0, 0, 0, 0.15);\n",
              "      filter: drop-shadow(0px 1px 2px rgba(0, 0, 0, 0.3));\n",
              "      fill: #FFFFFF;\n",
              "    }\n",
              "  </style>\n",
              "\n",
              "      <script>\n",
              "        const buttonEl =\n",
              "          document.querySelector('#df-690064c9-da75-4eca-9ed8-14b598f4bd8a button.colab-df-convert');\n",
              "        buttonEl.style.display =\n",
              "          google.colab.kernel.accessAllowed ? 'block' : 'none';\n",
              "\n",
              "        async function convertToInteractive(key) {\n",
              "          const element = document.querySelector('#df-690064c9-da75-4eca-9ed8-14b598f4bd8a');\n",
              "          const dataTable =\n",
              "            await google.colab.kernel.invokeFunction('convertToInteractive',\n",
              "                                                     [key], {});\n",
              "          if (!dataTable) return;\n",
              "\n",
              "          const docLinkHtml = 'Like what you see? Visit the ' +\n",
              "            '<a target=\"_blank\" href=https://colab.research.google.com/notebooks/data_table.ipynb>data table notebook</a>'\n",
              "            + ' to learn more about interactive tables.';\n",
              "          element.innerHTML = '';\n",
              "          dataTable['output_type'] = 'display_data';\n",
              "          await google.colab.output.renderOutput(dataTable, element);\n",
              "          const docLink = document.createElement('div');\n",
              "          docLink.innerHTML = docLinkHtml;\n",
              "          element.appendChild(docLink);\n",
              "        }\n",
              "      </script>\n",
              "    </div>\n",
              "  </div>\n",
              "  "
            ]
          },
          "metadata": {},
          "execution_count": 11
        }
      ]
    },
    {
      "cell_type": "code",
      "metadata": {
        "id": "GuSkOs0zBudq",
        "colab": {
          "base_uri": "https://localhost:8080/",
          "height": 237
        },
        "outputId": "60f0d92f-0aff-4851-d0ad-871fff2b3367"
      },
      "source": [
        "ford.tail()"
      ],
      "execution_count": null,
      "outputs": [
        {
          "output_type": "execute_result",
          "data": {
            "text/plain": [
              "            Open  High   Low  Close  Adj Close    Volume\n",
              "Date                                                    \n",
              "2019-12-20  9.50  9.54  9.44   9.48   8.981936  50191200\n",
              "2019-12-23  9.50  9.57  9.40   9.44   8.944039  54784400\n",
              "2019-12-24  9.44  9.49  9.43   9.47   8.972464  11881600\n",
              "2019-12-26  9.47  9.49  9.43   9.45   8.953514  28961300\n",
              "2019-12-27  9.45  9.46  9.35   9.36   8.868243  28272800"
            ],
            "text/html": [
              "\n",
              "  <div id=\"df-e1cf8f1e-0a26-4b5b-97c0-5d5667765e1b\">\n",
              "    <div class=\"colab-df-container\">\n",
              "      <div>\n",
              "<style scoped>\n",
              "    .dataframe tbody tr th:only-of-type {\n",
              "        vertical-align: middle;\n",
              "    }\n",
              "\n",
              "    .dataframe tbody tr th {\n",
              "        vertical-align: top;\n",
              "    }\n",
              "\n",
              "    .dataframe thead th {\n",
              "        text-align: right;\n",
              "    }\n",
              "</style>\n",
              "<table border=\"1\" class=\"dataframe\">\n",
              "  <thead>\n",
              "    <tr style=\"text-align: right;\">\n",
              "      <th></th>\n",
              "      <th>Open</th>\n",
              "      <th>High</th>\n",
              "      <th>Low</th>\n",
              "      <th>Close</th>\n",
              "      <th>Adj Close</th>\n",
              "      <th>Volume</th>\n",
              "    </tr>\n",
              "    <tr>\n",
              "      <th>Date</th>\n",
              "      <th></th>\n",
              "      <th></th>\n",
              "      <th></th>\n",
              "      <th></th>\n",
              "      <th></th>\n",
              "      <th></th>\n",
              "    </tr>\n",
              "  </thead>\n",
              "  <tbody>\n",
              "    <tr>\n",
              "      <th>2019-12-20</th>\n",
              "      <td>9.50</td>\n",
              "      <td>9.54</td>\n",
              "      <td>9.44</td>\n",
              "      <td>9.48</td>\n",
              "      <td>8.981936</td>\n",
              "      <td>50191200</td>\n",
              "    </tr>\n",
              "    <tr>\n",
              "      <th>2019-12-23</th>\n",
              "      <td>9.50</td>\n",
              "      <td>9.57</td>\n",
              "      <td>9.40</td>\n",
              "      <td>9.44</td>\n",
              "      <td>8.944039</td>\n",
              "      <td>54784400</td>\n",
              "    </tr>\n",
              "    <tr>\n",
              "      <th>2019-12-24</th>\n",
              "      <td>9.44</td>\n",
              "      <td>9.49</td>\n",
              "      <td>9.43</td>\n",
              "      <td>9.47</td>\n",
              "      <td>8.972464</td>\n",
              "      <td>11881600</td>\n",
              "    </tr>\n",
              "    <tr>\n",
              "      <th>2019-12-26</th>\n",
              "      <td>9.47</td>\n",
              "      <td>9.49</td>\n",
              "      <td>9.43</td>\n",
              "      <td>9.45</td>\n",
              "      <td>8.953514</td>\n",
              "      <td>28961300</td>\n",
              "    </tr>\n",
              "    <tr>\n",
              "      <th>2019-12-27</th>\n",
              "      <td>9.45</td>\n",
              "      <td>9.46</td>\n",
              "      <td>9.35</td>\n",
              "      <td>9.36</td>\n",
              "      <td>8.868243</td>\n",
              "      <td>28272800</td>\n",
              "    </tr>\n",
              "  </tbody>\n",
              "</table>\n",
              "</div>\n",
              "      <button class=\"colab-df-convert\" onclick=\"convertToInteractive('df-e1cf8f1e-0a26-4b5b-97c0-5d5667765e1b')\"\n",
              "              title=\"Convert this dataframe to an interactive table.\"\n",
              "              style=\"display:none;\">\n",
              "        \n",
              "  <svg xmlns=\"http://www.w3.org/2000/svg\" height=\"24px\"viewBox=\"0 0 24 24\"\n",
              "       width=\"24px\">\n",
              "    <path d=\"M0 0h24v24H0V0z\" fill=\"none\"/>\n",
              "    <path d=\"M18.56 5.44l.94 2.06.94-2.06 2.06-.94-2.06-.94-.94-2.06-.94 2.06-2.06.94zm-11 1L8.5 8.5l.94-2.06 2.06-.94-2.06-.94L8.5 2.5l-.94 2.06-2.06.94zm10 10l.94 2.06.94-2.06 2.06-.94-2.06-.94-.94-2.06-.94 2.06-2.06.94z\"/><path d=\"M17.41 7.96l-1.37-1.37c-.4-.4-.92-.59-1.43-.59-.52 0-1.04.2-1.43.59L10.3 9.45l-7.72 7.72c-.78.78-.78 2.05 0 2.83L4 21.41c.39.39.9.59 1.41.59.51 0 1.02-.2 1.41-.59l7.78-7.78 2.81-2.81c.8-.78.8-2.07 0-2.86zM5.41 20L4 18.59l7.72-7.72 1.47 1.35L5.41 20z\"/>\n",
              "  </svg>\n",
              "      </button>\n",
              "      \n",
              "  <style>\n",
              "    .colab-df-container {\n",
              "      display:flex;\n",
              "      flex-wrap:wrap;\n",
              "      gap: 12px;\n",
              "    }\n",
              "\n",
              "    .colab-df-convert {\n",
              "      background-color: #E8F0FE;\n",
              "      border: none;\n",
              "      border-radius: 50%;\n",
              "      cursor: pointer;\n",
              "      display: none;\n",
              "      fill: #1967D2;\n",
              "      height: 32px;\n",
              "      padding: 0 0 0 0;\n",
              "      width: 32px;\n",
              "    }\n",
              "\n",
              "    .colab-df-convert:hover {\n",
              "      background-color: #E2EBFA;\n",
              "      box-shadow: 0px 1px 2px rgba(60, 64, 67, 0.3), 0px 1px 3px 1px rgba(60, 64, 67, 0.15);\n",
              "      fill: #174EA6;\n",
              "    }\n",
              "\n",
              "    [theme=dark] .colab-df-convert {\n",
              "      background-color: #3B4455;\n",
              "      fill: #D2E3FC;\n",
              "    }\n",
              "\n",
              "    [theme=dark] .colab-df-convert:hover {\n",
              "      background-color: #434B5C;\n",
              "      box-shadow: 0px 1px 3px 1px rgba(0, 0, 0, 0.15);\n",
              "      filter: drop-shadow(0px 1px 2px rgba(0, 0, 0, 0.3));\n",
              "      fill: #FFFFFF;\n",
              "    }\n",
              "  </style>\n",
              "\n",
              "      <script>\n",
              "        const buttonEl =\n",
              "          document.querySelector('#df-e1cf8f1e-0a26-4b5b-97c0-5d5667765e1b button.colab-df-convert');\n",
              "        buttonEl.style.display =\n",
              "          google.colab.kernel.accessAllowed ? 'block' : 'none';\n",
              "\n",
              "        async function convertToInteractive(key) {\n",
              "          const element = document.querySelector('#df-e1cf8f1e-0a26-4b5b-97c0-5d5667765e1b');\n",
              "          const dataTable =\n",
              "            await google.colab.kernel.invokeFunction('convertToInteractive',\n",
              "                                                     [key], {});\n",
              "          if (!dataTable) return;\n",
              "\n",
              "          const docLinkHtml = 'Like what you see? Visit the ' +\n",
              "            '<a target=\"_blank\" href=https://colab.research.google.com/notebooks/data_table.ipynb>data table notebook</a>'\n",
              "            + ' to learn more about interactive tables.';\n",
              "          element.innerHTML = '';\n",
              "          dataTable['output_type'] = 'display_data';\n",
              "          await google.colab.output.renderOutput(dataTable, element);\n",
              "          const docLink = document.createElement('div');\n",
              "          docLink.innerHTML = docLinkHtml;\n",
              "          element.appendChild(docLink);\n",
              "        }\n",
              "      </script>\n",
              "    </div>\n",
              "  </div>\n",
              "  "
            ]
          },
          "metadata": {},
          "execution_count": 12
        }
      ]
    },
    {
      "cell_type": "markdown",
      "metadata": {
        "id": "BxmJoqteBudq"
      },
      "source": [
        "### 문제 09. '금'과 '달러' 데이터도 가져올 수 있습니다. 두 데이터를 불러와 head를 출력해보세요."
      ]
    },
    {
      "cell_type": "markdown",
      "metadata": {
        "id": "WEJpAQ7EBudq"
      },
      "source": [
        "*[GitHub 페이지 링크](https://github.com/FinanceData/FinanceDataReader) 참고"
      ]
    },
    {
      "cell_type": "code",
      "metadata": {
        "id": "Rv85AHqkGJp0",
        "colab": {
          "base_uri": "https://localhost:8080/",
          "height": 237
        },
        "outputId": "7b8ca38b-6a21-4da0-ede2-7a3d090a641e"
      },
      "source": [
        "gold = fdr.DataReader('ZG') # 금 선물 (ICE)\n",
        "gold.tail()"
      ],
      "execution_count": null,
      "outputs": [
        {
          "output_type": "execute_result",
          "data": {
            "text/plain": [
              "                 Open       High        Low      Close  Adj Close  Volume\n",
              "Date                                                                     \n",
              "2022-11-30  34.970001  37.450001  34.770000  37.400002  37.400002  793100\n",
              "2022-12-01  37.119999  38.020000  37.040001  37.919998  37.919998  947700\n",
              "2022-12-02  37.540001  38.419998  37.290001  38.189999  38.189999  509600\n",
              "2022-12-05  37.880001  38.759998  36.950001  37.060001  37.060001  393700\n",
              "2022-12-06  37.150002  37.150002  35.980000  36.360001  36.360001  553700"
            ],
            "text/html": [
              "\n",
              "  <div id=\"df-bb1af120-6231-4fda-a47b-4453d03dc1b4\">\n",
              "    <div class=\"colab-df-container\">\n",
              "      <div>\n",
              "<style scoped>\n",
              "    .dataframe tbody tr th:only-of-type {\n",
              "        vertical-align: middle;\n",
              "    }\n",
              "\n",
              "    .dataframe tbody tr th {\n",
              "        vertical-align: top;\n",
              "    }\n",
              "\n",
              "    .dataframe thead th {\n",
              "        text-align: right;\n",
              "    }\n",
              "</style>\n",
              "<table border=\"1\" class=\"dataframe\">\n",
              "  <thead>\n",
              "    <tr style=\"text-align: right;\">\n",
              "      <th></th>\n",
              "      <th>Open</th>\n",
              "      <th>High</th>\n",
              "      <th>Low</th>\n",
              "      <th>Close</th>\n",
              "      <th>Adj Close</th>\n",
              "      <th>Volume</th>\n",
              "    </tr>\n",
              "    <tr>\n",
              "      <th>Date</th>\n",
              "      <th></th>\n",
              "      <th></th>\n",
              "      <th></th>\n",
              "      <th></th>\n",
              "      <th></th>\n",
              "      <th></th>\n",
              "    </tr>\n",
              "  </thead>\n",
              "  <tbody>\n",
              "    <tr>\n",
              "      <th>2022-11-30</th>\n",
              "      <td>34.970001</td>\n",
              "      <td>37.450001</td>\n",
              "      <td>34.770000</td>\n",
              "      <td>37.400002</td>\n",
              "      <td>37.400002</td>\n",
              "      <td>793100</td>\n",
              "    </tr>\n",
              "    <tr>\n",
              "      <th>2022-12-01</th>\n",
              "      <td>37.119999</td>\n",
              "      <td>38.020000</td>\n",
              "      <td>37.040001</td>\n",
              "      <td>37.919998</td>\n",
              "      <td>37.919998</td>\n",
              "      <td>947700</td>\n",
              "    </tr>\n",
              "    <tr>\n",
              "      <th>2022-12-02</th>\n",
              "      <td>37.540001</td>\n",
              "      <td>38.419998</td>\n",
              "      <td>37.290001</td>\n",
              "      <td>38.189999</td>\n",
              "      <td>38.189999</td>\n",
              "      <td>509600</td>\n",
              "    </tr>\n",
              "    <tr>\n",
              "      <th>2022-12-05</th>\n",
              "      <td>37.880001</td>\n",
              "      <td>38.759998</td>\n",
              "      <td>36.950001</td>\n",
              "      <td>37.060001</td>\n",
              "      <td>37.060001</td>\n",
              "      <td>393700</td>\n",
              "    </tr>\n",
              "    <tr>\n",
              "      <th>2022-12-06</th>\n",
              "      <td>37.150002</td>\n",
              "      <td>37.150002</td>\n",
              "      <td>35.980000</td>\n",
              "      <td>36.360001</td>\n",
              "      <td>36.360001</td>\n",
              "      <td>553700</td>\n",
              "    </tr>\n",
              "  </tbody>\n",
              "</table>\n",
              "</div>\n",
              "      <button class=\"colab-df-convert\" onclick=\"convertToInteractive('df-bb1af120-6231-4fda-a47b-4453d03dc1b4')\"\n",
              "              title=\"Convert this dataframe to an interactive table.\"\n",
              "              style=\"display:none;\">\n",
              "        \n",
              "  <svg xmlns=\"http://www.w3.org/2000/svg\" height=\"24px\"viewBox=\"0 0 24 24\"\n",
              "       width=\"24px\">\n",
              "    <path d=\"M0 0h24v24H0V0z\" fill=\"none\"/>\n",
              "    <path d=\"M18.56 5.44l.94 2.06.94-2.06 2.06-.94-2.06-.94-.94-2.06-.94 2.06-2.06.94zm-11 1L8.5 8.5l.94-2.06 2.06-.94-2.06-.94L8.5 2.5l-.94 2.06-2.06.94zm10 10l.94 2.06.94-2.06 2.06-.94-2.06-.94-.94-2.06-.94 2.06-2.06.94z\"/><path d=\"M17.41 7.96l-1.37-1.37c-.4-.4-.92-.59-1.43-.59-.52 0-1.04.2-1.43.59L10.3 9.45l-7.72 7.72c-.78.78-.78 2.05 0 2.83L4 21.41c.39.39.9.59 1.41.59.51 0 1.02-.2 1.41-.59l7.78-7.78 2.81-2.81c.8-.78.8-2.07 0-2.86zM5.41 20L4 18.59l7.72-7.72 1.47 1.35L5.41 20z\"/>\n",
              "  </svg>\n",
              "      </button>\n",
              "      \n",
              "  <style>\n",
              "    .colab-df-container {\n",
              "      display:flex;\n",
              "      flex-wrap:wrap;\n",
              "      gap: 12px;\n",
              "    }\n",
              "\n",
              "    .colab-df-convert {\n",
              "      background-color: #E8F0FE;\n",
              "      border: none;\n",
              "      border-radius: 50%;\n",
              "      cursor: pointer;\n",
              "      display: none;\n",
              "      fill: #1967D2;\n",
              "      height: 32px;\n",
              "      padding: 0 0 0 0;\n",
              "      width: 32px;\n",
              "    }\n",
              "\n",
              "    .colab-df-convert:hover {\n",
              "      background-color: #E2EBFA;\n",
              "      box-shadow: 0px 1px 2px rgba(60, 64, 67, 0.3), 0px 1px 3px 1px rgba(60, 64, 67, 0.15);\n",
              "      fill: #174EA6;\n",
              "    }\n",
              "\n",
              "    [theme=dark] .colab-df-convert {\n",
              "      background-color: #3B4455;\n",
              "      fill: #D2E3FC;\n",
              "    }\n",
              "\n",
              "    [theme=dark] .colab-df-convert:hover {\n",
              "      background-color: #434B5C;\n",
              "      box-shadow: 0px 1px 3px 1px rgba(0, 0, 0, 0.15);\n",
              "      filter: drop-shadow(0px 1px 2px rgba(0, 0, 0, 0.3));\n",
              "      fill: #FFFFFF;\n",
              "    }\n",
              "  </style>\n",
              "\n",
              "      <script>\n",
              "        const buttonEl =\n",
              "          document.querySelector('#df-bb1af120-6231-4fda-a47b-4453d03dc1b4 button.colab-df-convert');\n",
              "        buttonEl.style.display =\n",
              "          google.colab.kernel.accessAllowed ? 'block' : 'none';\n",
              "\n",
              "        async function convertToInteractive(key) {\n",
              "          const element = document.querySelector('#df-bb1af120-6231-4fda-a47b-4453d03dc1b4');\n",
              "          const dataTable =\n",
              "            await google.colab.kernel.invokeFunction('convertToInteractive',\n",
              "                                                     [key], {});\n",
              "          if (!dataTable) return;\n",
              "\n",
              "          const docLinkHtml = 'Like what you see? Visit the ' +\n",
              "            '<a target=\"_blank\" href=https://colab.research.google.com/notebooks/data_table.ipynb>data table notebook</a>'\n",
              "            + ' to learn more about interactive tables.';\n",
              "          element.innerHTML = '';\n",
              "          dataTable['output_type'] = 'display_data';\n",
              "          await google.colab.output.renderOutput(dataTable, element);\n",
              "          const docLink = document.createElement('div');\n",
              "          docLink.innerHTML = docLinkHtml;\n",
              "          element.appendChild(docLink);\n",
              "        }\n",
              "      </script>\n",
              "    </div>\n",
              "  </div>\n",
              "  "
            ]
          },
          "metadata": {},
          "execution_count": 13
        }
      ]
    },
    {
      "cell_type": "code",
      "metadata": {
        "id": "whRbcKezGJ5V",
        "colab": {
          "base_uri": "https://localhost:8080/",
          "height": 237
        },
        "outputId": "8274c7d7-336f-4c1b-c600-698c4aebffdc"
      },
      "source": [
        "usdkrw = fdr.DataReader('USD/KRW', '1995-01-01')\n",
        "usdkrw.tail()"
      ],
      "execution_count": null,
      "outputs": [
        {
          "output_type": "execute_result",
          "data": {
            "text/plain": [
              "                   Open         High          Low        Close    Adj Close  \\\n",
              "Date                                                                          \n",
              "2022-12-01  1279.800049  1308.020020  1281.199951  1279.800049  1279.800049   \n",
              "2022-12-02  1303.250000  1307.939941  1294.910034  1303.250000  1303.250000   \n",
              "2022-12-05  1299.170044  1304.099976  1288.709961  1299.170044  1299.170044   \n",
              "2022-12-06  1304.369995  1322.439941  1301.069946  1304.369995  1304.369995   \n",
              "2022-12-07  1319.739990  1325.880005  1314.150024  1314.209961  1314.209961   \n",
              "\n",
              "            Volume  \n",
              "Date                \n",
              "2022-12-01     0.0  \n",
              "2022-12-02     0.0  \n",
              "2022-12-05     0.0  \n",
              "2022-12-06     0.0  \n",
              "2022-12-07     0.0  "
            ],
            "text/html": [
              "\n",
              "  <div id=\"df-16679222-6e5d-4c1c-b1a9-2432a9b12525\">\n",
              "    <div class=\"colab-df-container\">\n",
              "      <div>\n",
              "<style scoped>\n",
              "    .dataframe tbody tr th:only-of-type {\n",
              "        vertical-align: middle;\n",
              "    }\n",
              "\n",
              "    .dataframe tbody tr th {\n",
              "        vertical-align: top;\n",
              "    }\n",
              "\n",
              "    .dataframe thead th {\n",
              "        text-align: right;\n",
              "    }\n",
              "</style>\n",
              "<table border=\"1\" class=\"dataframe\">\n",
              "  <thead>\n",
              "    <tr style=\"text-align: right;\">\n",
              "      <th></th>\n",
              "      <th>Open</th>\n",
              "      <th>High</th>\n",
              "      <th>Low</th>\n",
              "      <th>Close</th>\n",
              "      <th>Adj Close</th>\n",
              "      <th>Volume</th>\n",
              "    </tr>\n",
              "    <tr>\n",
              "      <th>Date</th>\n",
              "      <th></th>\n",
              "      <th></th>\n",
              "      <th></th>\n",
              "      <th></th>\n",
              "      <th></th>\n",
              "      <th></th>\n",
              "    </tr>\n",
              "  </thead>\n",
              "  <tbody>\n",
              "    <tr>\n",
              "      <th>2022-12-01</th>\n",
              "      <td>1279.800049</td>\n",
              "      <td>1308.020020</td>\n",
              "      <td>1281.199951</td>\n",
              "      <td>1279.800049</td>\n",
              "      <td>1279.800049</td>\n",
              "      <td>0.0</td>\n",
              "    </tr>\n",
              "    <tr>\n",
              "      <th>2022-12-02</th>\n",
              "      <td>1303.250000</td>\n",
              "      <td>1307.939941</td>\n",
              "      <td>1294.910034</td>\n",
              "      <td>1303.250000</td>\n",
              "      <td>1303.250000</td>\n",
              "      <td>0.0</td>\n",
              "    </tr>\n",
              "    <tr>\n",
              "      <th>2022-12-05</th>\n",
              "      <td>1299.170044</td>\n",
              "      <td>1304.099976</td>\n",
              "      <td>1288.709961</td>\n",
              "      <td>1299.170044</td>\n",
              "      <td>1299.170044</td>\n",
              "      <td>0.0</td>\n",
              "    </tr>\n",
              "    <tr>\n",
              "      <th>2022-12-06</th>\n",
              "      <td>1304.369995</td>\n",
              "      <td>1322.439941</td>\n",
              "      <td>1301.069946</td>\n",
              "      <td>1304.369995</td>\n",
              "      <td>1304.369995</td>\n",
              "      <td>0.0</td>\n",
              "    </tr>\n",
              "    <tr>\n",
              "      <th>2022-12-07</th>\n",
              "      <td>1319.739990</td>\n",
              "      <td>1325.880005</td>\n",
              "      <td>1314.150024</td>\n",
              "      <td>1314.209961</td>\n",
              "      <td>1314.209961</td>\n",
              "      <td>0.0</td>\n",
              "    </tr>\n",
              "  </tbody>\n",
              "</table>\n",
              "</div>\n",
              "      <button class=\"colab-df-convert\" onclick=\"convertToInteractive('df-16679222-6e5d-4c1c-b1a9-2432a9b12525')\"\n",
              "              title=\"Convert this dataframe to an interactive table.\"\n",
              "              style=\"display:none;\">\n",
              "        \n",
              "  <svg xmlns=\"http://www.w3.org/2000/svg\" height=\"24px\"viewBox=\"0 0 24 24\"\n",
              "       width=\"24px\">\n",
              "    <path d=\"M0 0h24v24H0V0z\" fill=\"none\"/>\n",
              "    <path d=\"M18.56 5.44l.94 2.06.94-2.06 2.06-.94-2.06-.94-.94-2.06-.94 2.06-2.06.94zm-11 1L8.5 8.5l.94-2.06 2.06-.94-2.06-.94L8.5 2.5l-.94 2.06-2.06.94zm10 10l.94 2.06.94-2.06 2.06-.94-2.06-.94-.94-2.06-.94 2.06-2.06.94z\"/><path d=\"M17.41 7.96l-1.37-1.37c-.4-.4-.92-.59-1.43-.59-.52 0-1.04.2-1.43.59L10.3 9.45l-7.72 7.72c-.78.78-.78 2.05 0 2.83L4 21.41c.39.39.9.59 1.41.59.51 0 1.02-.2 1.41-.59l7.78-7.78 2.81-2.81c.8-.78.8-2.07 0-2.86zM5.41 20L4 18.59l7.72-7.72 1.47 1.35L5.41 20z\"/>\n",
              "  </svg>\n",
              "      </button>\n",
              "      \n",
              "  <style>\n",
              "    .colab-df-container {\n",
              "      display:flex;\n",
              "      flex-wrap:wrap;\n",
              "      gap: 12px;\n",
              "    }\n",
              "\n",
              "    .colab-df-convert {\n",
              "      background-color: #E8F0FE;\n",
              "      border: none;\n",
              "      border-radius: 50%;\n",
              "      cursor: pointer;\n",
              "      display: none;\n",
              "      fill: #1967D2;\n",
              "      height: 32px;\n",
              "      padding: 0 0 0 0;\n",
              "      width: 32px;\n",
              "    }\n",
              "\n",
              "    .colab-df-convert:hover {\n",
              "      background-color: #E2EBFA;\n",
              "      box-shadow: 0px 1px 2px rgba(60, 64, 67, 0.3), 0px 1px 3px 1px rgba(60, 64, 67, 0.15);\n",
              "      fill: #174EA6;\n",
              "    }\n",
              "\n",
              "    [theme=dark] .colab-df-convert {\n",
              "      background-color: #3B4455;\n",
              "      fill: #D2E3FC;\n",
              "    }\n",
              "\n",
              "    [theme=dark] .colab-df-convert:hover {\n",
              "      background-color: #434B5C;\n",
              "      box-shadow: 0px 1px 3px 1px rgba(0, 0, 0, 0.15);\n",
              "      filter: drop-shadow(0px 1px 2px rgba(0, 0, 0, 0.3));\n",
              "      fill: #FFFFFF;\n",
              "    }\n",
              "  </style>\n",
              "\n",
              "      <script>\n",
              "        const buttonEl =\n",
              "          document.querySelector('#df-16679222-6e5d-4c1c-b1a9-2432a9b12525 button.colab-df-convert');\n",
              "        buttonEl.style.display =\n",
              "          google.colab.kernel.accessAllowed ? 'block' : 'none';\n",
              "\n",
              "        async function convertToInteractive(key) {\n",
              "          const element = document.querySelector('#df-16679222-6e5d-4c1c-b1a9-2432a9b12525');\n",
              "          const dataTable =\n",
              "            await google.colab.kernel.invokeFunction('convertToInteractive',\n",
              "                                                     [key], {});\n",
              "          if (!dataTable) return;\n",
              "\n",
              "          const docLinkHtml = 'Like what you see? Visit the ' +\n",
              "            '<a target=\"_blank\" href=https://colab.research.google.com/notebooks/data_table.ipynb>data table notebook</a>'\n",
              "            + ' to learn more about interactive tables.';\n",
              "          element.innerHTML = '';\n",
              "          dataTable['output_type'] = 'display_data';\n",
              "          await google.colab.output.renderOutput(dataTable, element);\n",
              "          const docLink = document.createElement('div');\n",
              "          docLink.innerHTML = docLinkHtml;\n",
              "          element.appendChild(docLink);\n",
              "        }\n",
              "      </script>\n",
              "    </div>\n",
              "  </div>\n",
              "  "
            ]
          },
          "metadata": {},
          "execution_count": 15
        }
      ]
    },
    {
      "cell_type": "markdown",
      "metadata": {
        "id": "RJtxeKQm0l2w"
      },
      "source": [
        "### 문제 10. 주식 코드를 활용해 데이터 불러오기"
      ]
    },
    {
      "cell_type": "code",
      "metadata": {
        "id": "_8Gy3cagBudr"
      },
      "source": [
        "# 삼성전자 주식코드: 005930\n",
        "STOCK_CODE = '005930'"
      ],
      "execution_count": null,
      "outputs": []
    },
    {
      "cell_type": "code",
      "metadata": {
        "id": "xx8f86AgBudr"
      },
      "source": [
        "# fdr 라이브러리를 활용해 삼성전자 데이터를 불러오세요 \n",
        "stock = fdr.DataReader(STOCK_CODE)"
      ],
      "execution_count": null,
      "outputs": []
    },
    {
      "cell_type": "code",
      "metadata": {
        "id": "-jBfNkQVBuds",
        "colab": {
          "base_uri": "https://localhost:8080/",
          "height": 237
        },
        "outputId": "491873c3-356d-4b1c-981f-2982d4658c51"
      },
      "source": [
        "stock.head()"
      ],
      "execution_count": null,
      "outputs": [
        {
          "output_type": "execute_result",
          "data": {
            "text/plain": [
              "            Open  High  Low  Close   Volume    Change\n",
              "Date                                                 \n",
              "1998-09-08   929   948  885    887   618950       NaN\n",
              "1998-09-09   898   909  854    873   647890 -0.015784\n",
              "1998-09-10   862   871  846    872  1144380 -0.001145\n",
              "1998-09-11   837   850  814    814   588820 -0.066514\n",
              "1998-09-12   823   829  806    816   326350  0.002457"
            ],
            "text/html": [
              "\n",
              "  <div id=\"df-b46d4a34-d6bb-4a26-9dcf-32b7b10dd28d\">\n",
              "    <div class=\"colab-df-container\">\n",
              "      <div>\n",
              "<style scoped>\n",
              "    .dataframe tbody tr th:only-of-type {\n",
              "        vertical-align: middle;\n",
              "    }\n",
              "\n",
              "    .dataframe tbody tr th {\n",
              "        vertical-align: top;\n",
              "    }\n",
              "\n",
              "    .dataframe thead th {\n",
              "        text-align: right;\n",
              "    }\n",
              "</style>\n",
              "<table border=\"1\" class=\"dataframe\">\n",
              "  <thead>\n",
              "    <tr style=\"text-align: right;\">\n",
              "      <th></th>\n",
              "      <th>Open</th>\n",
              "      <th>High</th>\n",
              "      <th>Low</th>\n",
              "      <th>Close</th>\n",
              "      <th>Volume</th>\n",
              "      <th>Change</th>\n",
              "    </tr>\n",
              "    <tr>\n",
              "      <th>Date</th>\n",
              "      <th></th>\n",
              "      <th></th>\n",
              "      <th></th>\n",
              "      <th></th>\n",
              "      <th></th>\n",
              "      <th></th>\n",
              "    </tr>\n",
              "  </thead>\n",
              "  <tbody>\n",
              "    <tr>\n",
              "      <th>1998-09-08</th>\n",
              "      <td>929</td>\n",
              "      <td>948</td>\n",
              "      <td>885</td>\n",
              "      <td>887</td>\n",
              "      <td>618950</td>\n",
              "      <td>NaN</td>\n",
              "    </tr>\n",
              "    <tr>\n",
              "      <th>1998-09-09</th>\n",
              "      <td>898</td>\n",
              "      <td>909</td>\n",
              "      <td>854</td>\n",
              "      <td>873</td>\n",
              "      <td>647890</td>\n",
              "      <td>-0.015784</td>\n",
              "    </tr>\n",
              "    <tr>\n",
              "      <th>1998-09-10</th>\n",
              "      <td>862</td>\n",
              "      <td>871</td>\n",
              "      <td>846</td>\n",
              "      <td>872</td>\n",
              "      <td>1144380</td>\n",
              "      <td>-0.001145</td>\n",
              "    </tr>\n",
              "    <tr>\n",
              "      <th>1998-09-11</th>\n",
              "      <td>837</td>\n",
              "      <td>850</td>\n",
              "      <td>814</td>\n",
              "      <td>814</td>\n",
              "      <td>588820</td>\n",
              "      <td>-0.066514</td>\n",
              "    </tr>\n",
              "    <tr>\n",
              "      <th>1998-09-12</th>\n",
              "      <td>823</td>\n",
              "      <td>829</td>\n",
              "      <td>806</td>\n",
              "      <td>816</td>\n",
              "      <td>326350</td>\n",
              "      <td>0.002457</td>\n",
              "    </tr>\n",
              "  </tbody>\n",
              "</table>\n",
              "</div>\n",
              "      <button class=\"colab-df-convert\" onclick=\"convertToInteractive('df-b46d4a34-d6bb-4a26-9dcf-32b7b10dd28d')\"\n",
              "              title=\"Convert this dataframe to an interactive table.\"\n",
              "              style=\"display:none;\">\n",
              "        \n",
              "  <svg xmlns=\"http://www.w3.org/2000/svg\" height=\"24px\"viewBox=\"0 0 24 24\"\n",
              "       width=\"24px\">\n",
              "    <path d=\"M0 0h24v24H0V0z\" fill=\"none\"/>\n",
              "    <path d=\"M18.56 5.44l.94 2.06.94-2.06 2.06-.94-2.06-.94-.94-2.06-.94 2.06-2.06.94zm-11 1L8.5 8.5l.94-2.06 2.06-.94-2.06-.94L8.5 2.5l-.94 2.06-2.06.94zm10 10l.94 2.06.94-2.06 2.06-.94-2.06-.94-.94-2.06-.94 2.06-2.06.94z\"/><path d=\"M17.41 7.96l-1.37-1.37c-.4-.4-.92-.59-1.43-.59-.52 0-1.04.2-1.43.59L10.3 9.45l-7.72 7.72c-.78.78-.78 2.05 0 2.83L4 21.41c.39.39.9.59 1.41.59.51 0 1.02-.2 1.41-.59l7.78-7.78 2.81-2.81c.8-.78.8-2.07 0-2.86zM5.41 20L4 18.59l7.72-7.72 1.47 1.35L5.41 20z\"/>\n",
              "  </svg>\n",
              "      </button>\n",
              "      \n",
              "  <style>\n",
              "    .colab-df-container {\n",
              "      display:flex;\n",
              "      flex-wrap:wrap;\n",
              "      gap: 12px;\n",
              "    }\n",
              "\n",
              "    .colab-df-convert {\n",
              "      background-color: #E8F0FE;\n",
              "      border: none;\n",
              "      border-radius: 50%;\n",
              "      cursor: pointer;\n",
              "      display: none;\n",
              "      fill: #1967D2;\n",
              "      height: 32px;\n",
              "      padding: 0 0 0 0;\n",
              "      width: 32px;\n",
              "    }\n",
              "\n",
              "    .colab-df-convert:hover {\n",
              "      background-color: #E2EBFA;\n",
              "      box-shadow: 0px 1px 2px rgba(60, 64, 67, 0.3), 0px 1px 3px 1px rgba(60, 64, 67, 0.15);\n",
              "      fill: #174EA6;\n",
              "    }\n",
              "\n",
              "    [theme=dark] .colab-df-convert {\n",
              "      background-color: #3B4455;\n",
              "      fill: #D2E3FC;\n",
              "    }\n",
              "\n",
              "    [theme=dark] .colab-df-convert:hover {\n",
              "      background-color: #434B5C;\n",
              "      box-shadow: 0px 1px 3px 1px rgba(0, 0, 0, 0.15);\n",
              "      filter: drop-shadow(0px 1px 2px rgba(0, 0, 0, 0.3));\n",
              "      fill: #FFFFFF;\n",
              "    }\n",
              "  </style>\n",
              "\n",
              "      <script>\n",
              "        const buttonEl =\n",
              "          document.querySelector('#df-b46d4a34-d6bb-4a26-9dcf-32b7b10dd28d button.colab-df-convert');\n",
              "        buttonEl.style.display =\n",
              "          google.colab.kernel.accessAllowed ? 'block' : 'none';\n",
              "\n",
              "        async function convertToInteractive(key) {\n",
              "          const element = document.querySelector('#df-b46d4a34-d6bb-4a26-9dcf-32b7b10dd28d');\n",
              "          const dataTable =\n",
              "            await google.colab.kernel.invokeFunction('convertToInteractive',\n",
              "                                                     [key], {});\n",
              "          if (!dataTable) return;\n",
              "\n",
              "          const docLinkHtml = 'Like what you see? Visit the ' +\n",
              "            '<a target=\"_blank\" href=https://colab.research.google.com/notebooks/data_table.ipynb>data table notebook</a>'\n",
              "            + ' to learn more about interactive tables.';\n",
              "          element.innerHTML = '';\n",
              "          dataTable['output_type'] = 'display_data';\n",
              "          await google.colab.output.renderOutput(dataTable, element);\n",
              "          const docLink = document.createElement('div');\n",
              "          docLink.innerHTML = docLinkHtml;\n",
              "          element.appendChild(docLink);\n",
              "        }\n",
              "      </script>\n",
              "    </div>\n",
              "  </div>\n",
              "  "
            ]
          },
          "metadata": {},
          "execution_count": 18
        }
      ]
    },
    {
      "cell_type": "code",
      "metadata": {
        "id": "3VgxOeT3Buds",
        "colab": {
          "base_uri": "https://localhost:8080/",
          "height": 237
        },
        "outputId": "06f72df3-37bd-4423-becd-80c4484ff203"
      },
      "source": [
        "stock.tail()"
      ],
      "execution_count": null,
      "outputs": [
        {
          "output_type": "execute_result",
          "data": {
            "text/plain": [
              "             Open   High    Low  Close    Volume    Change\n",
              "Date                                                      \n",
              "2022-12-01  63100  63200  62300  62600  16631445  0.006431\n",
              "2022-12-02  62500  62500  60400  60400  15331184 -0.035144\n",
              "2022-12-05  60900  61100  60000  60300  13767787 -0.001656\n",
              "2022-12-06  59800  60100  59200  59200  13888300 -0.018242\n",
              "2022-12-07  58800  59600  58500  59100   8674320 -0.001689"
            ],
            "text/html": [
              "\n",
              "  <div id=\"df-7efc0dfa-4c2e-47b7-9602-8c3263234527\">\n",
              "    <div class=\"colab-df-container\">\n",
              "      <div>\n",
              "<style scoped>\n",
              "    .dataframe tbody tr th:only-of-type {\n",
              "        vertical-align: middle;\n",
              "    }\n",
              "\n",
              "    .dataframe tbody tr th {\n",
              "        vertical-align: top;\n",
              "    }\n",
              "\n",
              "    .dataframe thead th {\n",
              "        text-align: right;\n",
              "    }\n",
              "</style>\n",
              "<table border=\"1\" class=\"dataframe\">\n",
              "  <thead>\n",
              "    <tr style=\"text-align: right;\">\n",
              "      <th></th>\n",
              "      <th>Open</th>\n",
              "      <th>High</th>\n",
              "      <th>Low</th>\n",
              "      <th>Close</th>\n",
              "      <th>Volume</th>\n",
              "      <th>Change</th>\n",
              "    </tr>\n",
              "    <tr>\n",
              "      <th>Date</th>\n",
              "      <th></th>\n",
              "      <th></th>\n",
              "      <th></th>\n",
              "      <th></th>\n",
              "      <th></th>\n",
              "      <th></th>\n",
              "    </tr>\n",
              "  </thead>\n",
              "  <tbody>\n",
              "    <tr>\n",
              "      <th>2022-12-01</th>\n",
              "      <td>63100</td>\n",
              "      <td>63200</td>\n",
              "      <td>62300</td>\n",
              "      <td>62600</td>\n",
              "      <td>16631445</td>\n",
              "      <td>0.006431</td>\n",
              "    </tr>\n",
              "    <tr>\n",
              "      <th>2022-12-02</th>\n",
              "      <td>62500</td>\n",
              "      <td>62500</td>\n",
              "      <td>60400</td>\n",
              "      <td>60400</td>\n",
              "      <td>15331184</td>\n",
              "      <td>-0.035144</td>\n",
              "    </tr>\n",
              "    <tr>\n",
              "      <th>2022-12-05</th>\n",
              "      <td>60900</td>\n",
              "      <td>61100</td>\n",
              "      <td>60000</td>\n",
              "      <td>60300</td>\n",
              "      <td>13767787</td>\n",
              "      <td>-0.001656</td>\n",
              "    </tr>\n",
              "    <tr>\n",
              "      <th>2022-12-06</th>\n",
              "      <td>59800</td>\n",
              "      <td>60100</td>\n",
              "      <td>59200</td>\n",
              "      <td>59200</td>\n",
              "      <td>13888300</td>\n",
              "      <td>-0.018242</td>\n",
              "    </tr>\n",
              "    <tr>\n",
              "      <th>2022-12-07</th>\n",
              "      <td>58800</td>\n",
              "      <td>59600</td>\n",
              "      <td>58500</td>\n",
              "      <td>59100</td>\n",
              "      <td>8674320</td>\n",
              "      <td>-0.001689</td>\n",
              "    </tr>\n",
              "  </tbody>\n",
              "</table>\n",
              "</div>\n",
              "      <button class=\"colab-df-convert\" onclick=\"convertToInteractive('df-7efc0dfa-4c2e-47b7-9602-8c3263234527')\"\n",
              "              title=\"Convert this dataframe to an interactive table.\"\n",
              "              style=\"display:none;\">\n",
              "        \n",
              "  <svg xmlns=\"http://www.w3.org/2000/svg\" height=\"24px\"viewBox=\"0 0 24 24\"\n",
              "       width=\"24px\">\n",
              "    <path d=\"M0 0h24v24H0V0z\" fill=\"none\"/>\n",
              "    <path d=\"M18.56 5.44l.94 2.06.94-2.06 2.06-.94-2.06-.94-.94-2.06-.94 2.06-2.06.94zm-11 1L8.5 8.5l.94-2.06 2.06-.94-2.06-.94L8.5 2.5l-.94 2.06-2.06.94zm10 10l.94 2.06.94-2.06 2.06-.94-2.06-.94-.94-2.06-.94 2.06-2.06.94z\"/><path d=\"M17.41 7.96l-1.37-1.37c-.4-.4-.92-.59-1.43-.59-.52 0-1.04.2-1.43.59L10.3 9.45l-7.72 7.72c-.78.78-.78 2.05 0 2.83L4 21.41c.39.39.9.59 1.41.59.51 0 1.02-.2 1.41-.59l7.78-7.78 2.81-2.81c.8-.78.8-2.07 0-2.86zM5.41 20L4 18.59l7.72-7.72 1.47 1.35L5.41 20z\"/>\n",
              "  </svg>\n",
              "      </button>\n",
              "      \n",
              "  <style>\n",
              "    .colab-df-container {\n",
              "      display:flex;\n",
              "      flex-wrap:wrap;\n",
              "      gap: 12px;\n",
              "    }\n",
              "\n",
              "    .colab-df-convert {\n",
              "      background-color: #E8F0FE;\n",
              "      border: none;\n",
              "      border-radius: 50%;\n",
              "      cursor: pointer;\n",
              "      display: none;\n",
              "      fill: #1967D2;\n",
              "      height: 32px;\n",
              "      padding: 0 0 0 0;\n",
              "      width: 32px;\n",
              "    }\n",
              "\n",
              "    .colab-df-convert:hover {\n",
              "      background-color: #E2EBFA;\n",
              "      box-shadow: 0px 1px 2px rgba(60, 64, 67, 0.3), 0px 1px 3px 1px rgba(60, 64, 67, 0.15);\n",
              "      fill: #174EA6;\n",
              "    }\n",
              "\n",
              "    [theme=dark] .colab-df-convert {\n",
              "      background-color: #3B4455;\n",
              "      fill: #D2E3FC;\n",
              "    }\n",
              "\n",
              "    [theme=dark] .colab-df-convert:hover {\n",
              "      background-color: #434B5C;\n",
              "      box-shadow: 0px 1px 3px 1px rgba(0, 0, 0, 0.15);\n",
              "      filter: drop-shadow(0px 1px 2px rgba(0, 0, 0, 0.3));\n",
              "      fill: #FFFFFF;\n",
              "    }\n",
              "  </style>\n",
              "\n",
              "      <script>\n",
              "        const buttonEl =\n",
              "          document.querySelector('#df-7efc0dfa-4c2e-47b7-9602-8c3263234527 button.colab-df-convert');\n",
              "        buttonEl.style.display =\n",
              "          google.colab.kernel.accessAllowed ? 'block' : 'none';\n",
              "\n",
              "        async function convertToInteractive(key) {\n",
              "          const element = document.querySelector('#df-7efc0dfa-4c2e-47b7-9602-8c3263234527');\n",
              "          const dataTable =\n",
              "            await google.colab.kernel.invokeFunction('convertToInteractive',\n",
              "                                                     [key], {});\n",
              "          if (!dataTable) return;\n",
              "\n",
              "          const docLinkHtml = 'Like what you see? Visit the ' +\n",
              "            '<a target=\"_blank\" href=https://colab.research.google.com/notebooks/data_table.ipynb>data table notebook</a>'\n",
              "            + ' to learn more about interactive tables.';\n",
              "          element.innerHTML = '';\n",
              "          dataTable['output_type'] = 'display_data';\n",
              "          await google.colab.output.renderOutput(dataTable, element);\n",
              "          const docLink = document.createElement('div');\n",
              "          docLink.innerHTML = docLinkHtml;\n",
              "          element.appendChild(docLink);\n",
              "        }\n",
              "      </script>\n",
              "    </div>\n",
              "  </div>\n",
              "  "
            ]
          },
          "metadata": {},
          "execution_count": 19
        }
      ]
    },
    {
      "cell_type": "code",
      "metadata": {
        "id": "y9NRSMYTBuds",
        "colab": {
          "base_uri": "https://localhost:8080/"
        },
        "outputId": "803a809e-642a-4840-8985-bb10845a5a14"
      },
      "source": [
        "# 인덱스를 확인해보세요.\n",
        "stock.index"
      ],
      "execution_count": null,
      "outputs": [
        {
          "output_type": "execute_result",
          "data": {
            "text/plain": [
              "DatetimeIndex(['1998-09-08', '1998-09-09', '1998-09-10', '1998-09-11',\n",
              "               '1998-09-12', '1998-09-14', '1998-09-15', '1998-09-16',\n",
              "               '1998-09-17', '1998-09-18',\n",
              "               ...\n",
              "               '2022-11-24', '2022-11-25', '2022-11-28', '2022-11-29',\n",
              "               '2022-11-30', '2022-12-01', '2022-12-02', '2022-12-05',\n",
              "               '2022-12-06', '2022-12-07'],\n",
              "              dtype='datetime64[ns]', name='Date', length=6000, freq=None)"
            ]
          },
          "metadata": {},
          "execution_count": 20
        }
      ]
    },
    {
      "cell_type": "markdown",
      "metadata": {
        "id": "Ngpi6jHxMsz7"
      },
      "source": [
        "## Step 2. 시계열 데이터 시각화"
      ]
    },
    {
      "cell_type": "markdown",
      "metadata": {
        "id": "B1loczVzBudt"
      },
      "source": [
        "\n",
        "### 문제 11. 인덱스가 `DatetimeIndex`로 정의되어 있다면, 연도, 월, 일을 쪼갤 수 있습니다. 데이터를 분리해주세요."
      ]
    },
    {
      "cell_type": "code",
      "metadata": {
        "id": "fif43Fh-0l4L"
      },
      "source": [
        "stock['Year'] = stock.index.year\n",
        "stock['Month'] = stock.index.month\n",
        "stock['Day'] = stock.index.day"
      ],
      "execution_count": null,
      "outputs": []
    },
    {
      "cell_type": "code",
      "metadata": {
        "colab": {
          "base_uri": "https://localhost:8080/",
          "height": 237
        },
        "id": "0yAKE9Ag0l4S",
        "outputId": "a8eddf12-73d3-4c3b-fa1a-d269cde614e4"
      },
      "source": [
        "stock.head()"
      ],
      "execution_count": null,
      "outputs": [
        {
          "output_type": "execute_result",
          "data": {
            "text/plain": [
              "            Open  High  Low  Close   Volume    Change  Year  Month  Day\n",
              "Date                                                                   \n",
              "1998-09-08   929   948  885    887   618950       NaN  1998      9    8\n",
              "1998-09-09   898   909  854    873   647890 -0.015784  1998      9    9\n",
              "1998-09-10   862   871  846    872  1144380 -0.001145  1998      9   10\n",
              "1998-09-11   837   850  814    814   588820 -0.066514  1998      9   11\n",
              "1998-09-12   823   829  806    816   326350  0.002457  1998      9   12"
            ],
            "text/html": [
              "\n",
              "  <div id=\"df-663812e5-552d-4316-b708-f17ee5c44e1c\">\n",
              "    <div class=\"colab-df-container\">\n",
              "      <div>\n",
              "<style scoped>\n",
              "    .dataframe tbody tr th:only-of-type {\n",
              "        vertical-align: middle;\n",
              "    }\n",
              "\n",
              "    .dataframe tbody tr th {\n",
              "        vertical-align: top;\n",
              "    }\n",
              "\n",
              "    .dataframe thead th {\n",
              "        text-align: right;\n",
              "    }\n",
              "</style>\n",
              "<table border=\"1\" class=\"dataframe\">\n",
              "  <thead>\n",
              "    <tr style=\"text-align: right;\">\n",
              "      <th></th>\n",
              "      <th>Open</th>\n",
              "      <th>High</th>\n",
              "      <th>Low</th>\n",
              "      <th>Close</th>\n",
              "      <th>Volume</th>\n",
              "      <th>Change</th>\n",
              "      <th>Year</th>\n",
              "      <th>Month</th>\n",
              "      <th>Day</th>\n",
              "    </tr>\n",
              "    <tr>\n",
              "      <th>Date</th>\n",
              "      <th></th>\n",
              "      <th></th>\n",
              "      <th></th>\n",
              "      <th></th>\n",
              "      <th></th>\n",
              "      <th></th>\n",
              "      <th></th>\n",
              "      <th></th>\n",
              "      <th></th>\n",
              "    </tr>\n",
              "  </thead>\n",
              "  <tbody>\n",
              "    <tr>\n",
              "      <th>1998-09-08</th>\n",
              "      <td>929</td>\n",
              "      <td>948</td>\n",
              "      <td>885</td>\n",
              "      <td>887</td>\n",
              "      <td>618950</td>\n",
              "      <td>NaN</td>\n",
              "      <td>1998</td>\n",
              "      <td>9</td>\n",
              "      <td>8</td>\n",
              "    </tr>\n",
              "    <tr>\n",
              "      <th>1998-09-09</th>\n",
              "      <td>898</td>\n",
              "      <td>909</td>\n",
              "      <td>854</td>\n",
              "      <td>873</td>\n",
              "      <td>647890</td>\n",
              "      <td>-0.015784</td>\n",
              "      <td>1998</td>\n",
              "      <td>9</td>\n",
              "      <td>9</td>\n",
              "    </tr>\n",
              "    <tr>\n",
              "      <th>1998-09-10</th>\n",
              "      <td>862</td>\n",
              "      <td>871</td>\n",
              "      <td>846</td>\n",
              "      <td>872</td>\n",
              "      <td>1144380</td>\n",
              "      <td>-0.001145</td>\n",
              "      <td>1998</td>\n",
              "      <td>9</td>\n",
              "      <td>10</td>\n",
              "    </tr>\n",
              "    <tr>\n",
              "      <th>1998-09-11</th>\n",
              "      <td>837</td>\n",
              "      <td>850</td>\n",
              "      <td>814</td>\n",
              "      <td>814</td>\n",
              "      <td>588820</td>\n",
              "      <td>-0.066514</td>\n",
              "      <td>1998</td>\n",
              "      <td>9</td>\n",
              "      <td>11</td>\n",
              "    </tr>\n",
              "    <tr>\n",
              "      <th>1998-09-12</th>\n",
              "      <td>823</td>\n",
              "      <td>829</td>\n",
              "      <td>806</td>\n",
              "      <td>816</td>\n",
              "      <td>326350</td>\n",
              "      <td>0.002457</td>\n",
              "      <td>1998</td>\n",
              "      <td>9</td>\n",
              "      <td>12</td>\n",
              "    </tr>\n",
              "  </tbody>\n",
              "</table>\n",
              "</div>\n",
              "      <button class=\"colab-df-convert\" onclick=\"convertToInteractive('df-663812e5-552d-4316-b708-f17ee5c44e1c')\"\n",
              "              title=\"Convert this dataframe to an interactive table.\"\n",
              "              style=\"display:none;\">\n",
              "        \n",
              "  <svg xmlns=\"http://www.w3.org/2000/svg\" height=\"24px\"viewBox=\"0 0 24 24\"\n",
              "       width=\"24px\">\n",
              "    <path d=\"M0 0h24v24H0V0z\" fill=\"none\"/>\n",
              "    <path d=\"M18.56 5.44l.94 2.06.94-2.06 2.06-.94-2.06-.94-.94-2.06-.94 2.06-2.06.94zm-11 1L8.5 8.5l.94-2.06 2.06-.94-2.06-.94L8.5 2.5l-.94 2.06-2.06.94zm10 10l.94 2.06.94-2.06 2.06-.94-2.06-.94-.94-2.06-.94 2.06-2.06.94z\"/><path d=\"M17.41 7.96l-1.37-1.37c-.4-.4-.92-.59-1.43-.59-.52 0-1.04.2-1.43.59L10.3 9.45l-7.72 7.72c-.78.78-.78 2.05 0 2.83L4 21.41c.39.39.9.59 1.41.59.51 0 1.02-.2 1.41-.59l7.78-7.78 2.81-2.81c.8-.78.8-2.07 0-2.86zM5.41 20L4 18.59l7.72-7.72 1.47 1.35L5.41 20z\"/>\n",
              "  </svg>\n",
              "      </button>\n",
              "      \n",
              "  <style>\n",
              "    .colab-df-container {\n",
              "      display:flex;\n",
              "      flex-wrap:wrap;\n",
              "      gap: 12px;\n",
              "    }\n",
              "\n",
              "    .colab-df-convert {\n",
              "      background-color: #E8F0FE;\n",
              "      border: none;\n",
              "      border-radius: 50%;\n",
              "      cursor: pointer;\n",
              "      display: none;\n",
              "      fill: #1967D2;\n",
              "      height: 32px;\n",
              "      padding: 0 0 0 0;\n",
              "      width: 32px;\n",
              "    }\n",
              "\n",
              "    .colab-df-convert:hover {\n",
              "      background-color: #E2EBFA;\n",
              "      box-shadow: 0px 1px 2px rgba(60, 64, 67, 0.3), 0px 1px 3px 1px rgba(60, 64, 67, 0.15);\n",
              "      fill: #174EA6;\n",
              "    }\n",
              "\n",
              "    [theme=dark] .colab-df-convert {\n",
              "      background-color: #3B4455;\n",
              "      fill: #D2E3FC;\n",
              "    }\n",
              "\n",
              "    [theme=dark] .colab-df-convert:hover {\n",
              "      background-color: #434B5C;\n",
              "      box-shadow: 0px 1px 3px 1px rgba(0, 0, 0, 0.15);\n",
              "      filter: drop-shadow(0px 1px 2px rgba(0, 0, 0, 0.3));\n",
              "      fill: #FFFFFF;\n",
              "    }\n",
              "  </style>\n",
              "\n",
              "      <script>\n",
              "        const buttonEl =\n",
              "          document.querySelector('#df-663812e5-552d-4316-b708-f17ee5c44e1c button.colab-df-convert');\n",
              "        buttonEl.style.display =\n",
              "          google.colab.kernel.accessAllowed ? 'block' : 'none';\n",
              "\n",
              "        async function convertToInteractive(key) {\n",
              "          const element = document.querySelector('#df-663812e5-552d-4316-b708-f17ee5c44e1c');\n",
              "          const dataTable =\n",
              "            await google.colab.kernel.invokeFunction('convertToInteractive',\n",
              "                                                     [key], {});\n",
              "          if (!dataTable) return;\n",
              "\n",
              "          const docLinkHtml = 'Like what you see? Visit the ' +\n",
              "            '<a target=\"_blank\" href=https://colab.research.google.com/notebooks/data_table.ipynb>data table notebook</a>'\n",
              "            + ' to learn more about interactive tables.';\n",
              "          element.innerHTML = '';\n",
              "          dataTable['output_type'] = 'display_data';\n",
              "          await google.colab.output.renderOutput(dataTable, element);\n",
              "          const docLink = document.createElement('div');\n",
              "          docLink.innerHTML = docLinkHtml;\n",
              "          element.appendChild(docLink);\n",
              "        }\n",
              "      </script>\n",
              "    </div>\n",
              "  </div>\n",
              "  "
            ]
          },
          "metadata": {},
          "execution_count": 22
        }
      ]
    },
    {
      "cell_type": "markdown",
      "metadata": {
        "id": "ZpeXdWzWG2KO"
      },
      "source": [
        "### 문제 12. 연도별, 월별 피봇테이블을 각각 구현해보세요."
      ]
    },
    {
      "cell_type": "code",
      "metadata": {
        "id": "L73tGJhhG9Av",
        "colab": {
          "base_uri": "https://localhost:8080/",
          "height": 455
        },
        "outputId": "8d61c2f6-a651-4a62-8287-eac3820a4b8b"
      },
      "source": [
        "stock.groupby(['Year', 'Month']).mean()"
      ],
      "execution_count": null,
      "outputs": [
        {
          "output_type": "execute_result",
          "data": {
            "text/plain": [
              "                    Open          High           Low         Close  \\\n",
              "Year Month                                                           \n",
              "1998 9        764.200000    778.250000    742.150000    755.950000   \n",
              "     10       900.083333    929.250000    876.375000    907.000000   \n",
              "     11      1237.280000   1265.960000   1211.280000   1238.920000   \n",
              "     12      1409.100000   1462.550000   1366.300000   1418.050000   \n",
              "1999 1       1753.800000   1783.400000   1700.650000   1740.000000   \n",
              "...                  ...           ...           ...           ...   \n",
              "2022 8      60186.363636  60686.363636  59781.818182  60272.727273   \n",
              "     9      55720.000000  56220.000000  55235.000000  55595.000000   \n",
              "     10     56563.157895  57384.210526  56026.315789  56710.526316   \n",
              "     11     61009.090909  61463.636364  60463.636364  61090.909091   \n",
              "     12     61020.000000  61300.000000  60080.000000  60320.000000   \n",
              "\n",
              "                  Volume    Change        Day  \n",
              "Year Month                                     \n",
              "1998 9      7.850285e+05 -0.009374  18.850000  \n",
              "     10     1.256900e+06  0.020467  17.666667  \n",
              "     11     8.211832e+05  0.004558  15.600000  \n",
              "     12     9.081414e+05  0.011062  12.900000  \n",
              "1999 1      6.404312e+05  0.007332  16.500000  \n",
              "...                  ...       ...        ...  \n",
              "2022 8      1.144006e+07 -0.001209  15.681818  \n",
              "     9      1.443077e+07 -0.005727  16.600000  \n",
              "     10     1.718619e+07  0.006090  17.263158  \n",
              "     11     1.321282e+07  0.002220  15.318182  \n",
              "     12     1.365861e+07 -0.010060   4.200000  \n",
              "\n",
              "[292 rows x 7 columns]"
            ],
            "text/html": [
              "\n",
              "  <div id=\"df-aa76ab19-82b5-428c-bda6-663d0cf5dfb0\">\n",
              "    <div class=\"colab-df-container\">\n",
              "      <div>\n",
              "<style scoped>\n",
              "    .dataframe tbody tr th:only-of-type {\n",
              "        vertical-align: middle;\n",
              "    }\n",
              "\n",
              "    .dataframe tbody tr th {\n",
              "        vertical-align: top;\n",
              "    }\n",
              "\n",
              "    .dataframe thead th {\n",
              "        text-align: right;\n",
              "    }\n",
              "</style>\n",
              "<table border=\"1\" class=\"dataframe\">\n",
              "  <thead>\n",
              "    <tr style=\"text-align: right;\">\n",
              "      <th></th>\n",
              "      <th></th>\n",
              "      <th>Open</th>\n",
              "      <th>High</th>\n",
              "      <th>Low</th>\n",
              "      <th>Close</th>\n",
              "      <th>Volume</th>\n",
              "      <th>Change</th>\n",
              "      <th>Day</th>\n",
              "    </tr>\n",
              "    <tr>\n",
              "      <th>Year</th>\n",
              "      <th>Month</th>\n",
              "      <th></th>\n",
              "      <th></th>\n",
              "      <th></th>\n",
              "      <th></th>\n",
              "      <th></th>\n",
              "      <th></th>\n",
              "      <th></th>\n",
              "    </tr>\n",
              "  </thead>\n",
              "  <tbody>\n",
              "    <tr>\n",
              "      <th rowspan=\"4\" valign=\"top\">1998</th>\n",
              "      <th>9</th>\n",
              "      <td>764.200000</td>\n",
              "      <td>778.250000</td>\n",
              "      <td>742.150000</td>\n",
              "      <td>755.950000</td>\n",
              "      <td>7.850285e+05</td>\n",
              "      <td>-0.009374</td>\n",
              "      <td>18.850000</td>\n",
              "    </tr>\n",
              "    <tr>\n",
              "      <th>10</th>\n",
              "      <td>900.083333</td>\n",
              "      <td>929.250000</td>\n",
              "      <td>876.375000</td>\n",
              "      <td>907.000000</td>\n",
              "      <td>1.256900e+06</td>\n",
              "      <td>0.020467</td>\n",
              "      <td>17.666667</td>\n",
              "    </tr>\n",
              "    <tr>\n",
              "      <th>11</th>\n",
              "      <td>1237.280000</td>\n",
              "      <td>1265.960000</td>\n",
              "      <td>1211.280000</td>\n",
              "      <td>1238.920000</td>\n",
              "      <td>8.211832e+05</td>\n",
              "      <td>0.004558</td>\n",
              "      <td>15.600000</td>\n",
              "    </tr>\n",
              "    <tr>\n",
              "      <th>12</th>\n",
              "      <td>1409.100000</td>\n",
              "      <td>1462.550000</td>\n",
              "      <td>1366.300000</td>\n",
              "      <td>1418.050000</td>\n",
              "      <td>9.081414e+05</td>\n",
              "      <td>0.011062</td>\n",
              "      <td>12.900000</td>\n",
              "    </tr>\n",
              "    <tr>\n",
              "      <th>1999</th>\n",
              "      <th>1</th>\n",
              "      <td>1753.800000</td>\n",
              "      <td>1783.400000</td>\n",
              "      <td>1700.650000</td>\n",
              "      <td>1740.000000</td>\n",
              "      <td>6.404312e+05</td>\n",
              "      <td>0.007332</td>\n",
              "      <td>16.500000</td>\n",
              "    </tr>\n",
              "    <tr>\n",
              "      <th>...</th>\n",
              "      <th>...</th>\n",
              "      <td>...</td>\n",
              "      <td>...</td>\n",
              "      <td>...</td>\n",
              "      <td>...</td>\n",
              "      <td>...</td>\n",
              "      <td>...</td>\n",
              "      <td>...</td>\n",
              "    </tr>\n",
              "    <tr>\n",
              "      <th rowspan=\"5\" valign=\"top\">2022</th>\n",
              "      <th>8</th>\n",
              "      <td>60186.363636</td>\n",
              "      <td>60686.363636</td>\n",
              "      <td>59781.818182</td>\n",
              "      <td>60272.727273</td>\n",
              "      <td>1.144006e+07</td>\n",
              "      <td>-0.001209</td>\n",
              "      <td>15.681818</td>\n",
              "    </tr>\n",
              "    <tr>\n",
              "      <th>9</th>\n",
              "      <td>55720.000000</td>\n",
              "      <td>56220.000000</td>\n",
              "      <td>55235.000000</td>\n",
              "      <td>55595.000000</td>\n",
              "      <td>1.443077e+07</td>\n",
              "      <td>-0.005727</td>\n",
              "      <td>16.600000</td>\n",
              "    </tr>\n",
              "    <tr>\n",
              "      <th>10</th>\n",
              "      <td>56563.157895</td>\n",
              "      <td>57384.210526</td>\n",
              "      <td>56026.315789</td>\n",
              "      <td>56710.526316</td>\n",
              "      <td>1.718619e+07</td>\n",
              "      <td>0.006090</td>\n",
              "      <td>17.263158</td>\n",
              "    </tr>\n",
              "    <tr>\n",
              "      <th>11</th>\n",
              "      <td>61009.090909</td>\n",
              "      <td>61463.636364</td>\n",
              "      <td>60463.636364</td>\n",
              "      <td>61090.909091</td>\n",
              "      <td>1.321282e+07</td>\n",
              "      <td>0.002220</td>\n",
              "      <td>15.318182</td>\n",
              "    </tr>\n",
              "    <tr>\n",
              "      <th>12</th>\n",
              "      <td>61020.000000</td>\n",
              "      <td>61300.000000</td>\n",
              "      <td>60080.000000</td>\n",
              "      <td>60320.000000</td>\n",
              "      <td>1.365861e+07</td>\n",
              "      <td>-0.010060</td>\n",
              "      <td>4.200000</td>\n",
              "    </tr>\n",
              "  </tbody>\n",
              "</table>\n",
              "<p>292 rows × 7 columns</p>\n",
              "</div>\n",
              "      <button class=\"colab-df-convert\" onclick=\"convertToInteractive('df-aa76ab19-82b5-428c-bda6-663d0cf5dfb0')\"\n",
              "              title=\"Convert this dataframe to an interactive table.\"\n",
              "              style=\"display:none;\">\n",
              "        \n",
              "  <svg xmlns=\"http://www.w3.org/2000/svg\" height=\"24px\"viewBox=\"0 0 24 24\"\n",
              "       width=\"24px\">\n",
              "    <path d=\"M0 0h24v24H0V0z\" fill=\"none\"/>\n",
              "    <path d=\"M18.56 5.44l.94 2.06.94-2.06 2.06-.94-2.06-.94-.94-2.06-.94 2.06-2.06.94zm-11 1L8.5 8.5l.94-2.06 2.06-.94-2.06-.94L8.5 2.5l-.94 2.06-2.06.94zm10 10l.94 2.06.94-2.06 2.06-.94-2.06-.94-.94-2.06-.94 2.06-2.06.94z\"/><path d=\"M17.41 7.96l-1.37-1.37c-.4-.4-.92-.59-1.43-.59-.52 0-1.04.2-1.43.59L10.3 9.45l-7.72 7.72c-.78.78-.78 2.05 0 2.83L4 21.41c.39.39.9.59 1.41.59.51 0 1.02-.2 1.41-.59l7.78-7.78 2.81-2.81c.8-.78.8-2.07 0-2.86zM5.41 20L4 18.59l7.72-7.72 1.47 1.35L5.41 20z\"/>\n",
              "  </svg>\n",
              "      </button>\n",
              "      \n",
              "  <style>\n",
              "    .colab-df-container {\n",
              "      display:flex;\n",
              "      flex-wrap:wrap;\n",
              "      gap: 12px;\n",
              "    }\n",
              "\n",
              "    .colab-df-convert {\n",
              "      background-color: #E8F0FE;\n",
              "      border: none;\n",
              "      border-radius: 50%;\n",
              "      cursor: pointer;\n",
              "      display: none;\n",
              "      fill: #1967D2;\n",
              "      height: 32px;\n",
              "      padding: 0 0 0 0;\n",
              "      width: 32px;\n",
              "    }\n",
              "\n",
              "    .colab-df-convert:hover {\n",
              "      background-color: #E2EBFA;\n",
              "      box-shadow: 0px 1px 2px rgba(60, 64, 67, 0.3), 0px 1px 3px 1px rgba(60, 64, 67, 0.15);\n",
              "      fill: #174EA6;\n",
              "    }\n",
              "\n",
              "    [theme=dark] .colab-df-convert {\n",
              "      background-color: #3B4455;\n",
              "      fill: #D2E3FC;\n",
              "    }\n",
              "\n",
              "    [theme=dark] .colab-df-convert:hover {\n",
              "      background-color: #434B5C;\n",
              "      box-shadow: 0px 1px 3px 1px rgba(0, 0, 0, 0.15);\n",
              "      filter: drop-shadow(0px 1px 2px rgba(0, 0, 0, 0.3));\n",
              "      fill: #FFFFFF;\n",
              "    }\n",
              "  </style>\n",
              "\n",
              "      <script>\n",
              "        const buttonEl =\n",
              "          document.querySelector('#df-aa76ab19-82b5-428c-bda6-663d0cf5dfb0 button.colab-df-convert');\n",
              "        buttonEl.style.display =\n",
              "          google.colab.kernel.accessAllowed ? 'block' : 'none';\n",
              "\n",
              "        async function convertToInteractive(key) {\n",
              "          const element = document.querySelector('#df-aa76ab19-82b5-428c-bda6-663d0cf5dfb0');\n",
              "          const dataTable =\n",
              "            await google.colab.kernel.invokeFunction('convertToInteractive',\n",
              "                                                     [key], {});\n",
              "          if (!dataTable) return;\n",
              "\n",
              "          const docLinkHtml = 'Like what you see? Visit the ' +\n",
              "            '<a target=\"_blank\" href=https://colab.research.google.com/notebooks/data_table.ipynb>data table notebook</a>'\n",
              "            + ' to learn more about interactive tables.';\n",
              "          element.innerHTML = '';\n",
              "          dataTable['output_type'] = 'display_data';\n",
              "          await google.colab.output.renderOutput(dataTable, element);\n",
              "          const docLink = document.createElement('div');\n",
              "          docLink.innerHTML = docLinkHtml;\n",
              "          element.appendChild(docLink);\n",
              "        }\n",
              "      </script>\n",
              "    </div>\n",
              "  </div>\n",
              "  "
            ]
          },
          "metadata": {},
          "execution_count": 23
        }
      ]
    },
    {
      "cell_type": "markdown",
      "metadata": {
        "id": "5FBTlube0l4d"
      },
      "source": [
        "### 문제 13. matplotlib을 활용해 시간에 따른 주식 가격 시계열 그래프를 그려보세요."
      ]
    },
    {
      "cell_type": "code",
      "metadata": {
        "colab": {
          "base_uri": "https://localhost:8080/",
          "height": 569
        },
        "id": "MWcaWEa80l4o",
        "outputId": "a769ac26-fd2a-4c34-a1ab-aee8afdbf35f"
      },
      "source": [
        "plt.figure(figsize=(16, 9))\n",
        "sns.lineplot(y=stock['Close'], x=stock.index)\n",
        "plt.xlabel('time')\n",
        "plt.ylabel('price')"
      ],
      "execution_count": null,
      "outputs": [
        {
          "output_type": "execute_result",
          "data": {
            "text/plain": [
              "Text(0, 0.5, 'price')"
            ]
          },
          "metadata": {},
          "execution_count": 24
        },
        {
          "output_type": "stream",
          "name": "stderr",
          "text": [
            "WARNING:matplotlib.font_manager:findfont: Font family ['NanumGothic'] not found. Falling back to DejaVu Sans.\n"
          ]
        },
        {
          "output_type": "display_data",
          "data": {
            "text/plain": [
              "<Figure size 1152x648 with 1 Axes>"
            ],
            "image/png": "[encoded data removed]"
          },
          "metadata": {
            "needs_background": "light"
          }
        }
      ]
    },
    {
      "cell_type": "markdown",
      "metadata": {
        "id": "fTr5lZHpHLCc"
      },
      "source": [
        "### 문제 14. subplots를 활용해 그래프 4개(2,2)를 동시에 그려보세요."
      ]
    },
    {
      "cell_type": "code",
      "metadata": {
        "id": "YHjPfMPjBudw",
        "colab": {
          "base_uri": "https://localhost:8080/",
          "height": 675
        },
        "outputId": "ebcef383-a5ff-40c1-c7be-58e34d6077f0"
      },
      "source": [
        "# 1990~2000, 2000~2010, 2010~2015, 2015~2020\n",
        "time_steps = [['1990', '2000'], \n",
        "              ['2000', '2010'], \n",
        "              ['2010', '2015'], \n",
        "              ['2015', '2020']]\n",
        "\n",
        "fig, axes = plt.subplots(2, 2)\n",
        "fig.set_size_inches(16, 9)\n",
        "for i in range(4):\n",
        "    ax = axes[i//2, i%2]\n",
        "    df = stock.loc[(stock.index > time_steps[i][0]) & (stock.index < time_steps[i][1])]\n",
        "    sns.lineplot(y=df['Close'], x=df.index, ax=ax)\n",
        "    ax.set_title(f'{time_steps[i][0]}~{time_steps[i][1]}')\n",
        "    ax.set_xlabel('time')\n",
        "    ax.set_ylabel('price')\n",
        "plt.tight_layout()\n",
        "plt.show()"
      ],
      "execution_count": null,
      "outputs": [
        {
          "output_type": "stream",
          "name": "stderr",
          "text": [
            "WARNING:matplotlib.font_manager:findfont: Font family ['NanumGothic'] not found. Falling back to DejaVu Sans.\n"
          ]
        },
        {
          "output_type": "display_data",
          "data": {
            "text/plain": [
              "<Figure size 1152x648 with 4 Axes>"
            ],
            "image/png": "[encoded data removed]"
          },
          "metadata": {
            "needs_background": "light"
          }
        }
      ]
    },
    {
      "cell_type": "markdown",
      "metadata": {
        "id": "IyLCGJyTNAtc"
      },
      "source": [
        "## Step 3. 시계열 데이터의 전처리"
      ]
    },
    {
      "cell_type": "markdown",
      "metadata": {
        "id": "CDgThJtbBudw"
      },
      "source": [
        "### 문제 15. MinMaxScaler를 활요해 데이터 전처리를 수행합니다."
      ]
    },
    {
      "cell_type": "markdown",
      "metadata": {
        "id": "srjf2-yXBudx"
      },
      "source": [
        "주가 데이터에 대하여 딥러닝 모델이 더 잘 학습할 수 있도록 **정규화(Normalization)**를 해주도록 하겠습니다.\n",
        "\n",
        "**표준화 (Standardization)**와 **정규화(Normalization)**에 대한 내용은 아래 링크에서 더 자세히 다루니, 참고해 보시기 바랍니다.\n",
        "\n",
        "- [데이터 전처리에 관하여](https://teddylee777.github.io/scikit-learn/scikit-learn-preprocessing)"
      ]
    },
    {
      "cell_type": "code",
      "metadata": {
        "id": "4-4PgRMZ0l5Q",
        "colab": {
          "base_uri": "https://localhost:8080/"
        },
        "outputId": "3f03cd85-43d0-4cb7-e3af-c3465c1e21c4"
      },
      "source": [
        "from sklearn.preprocessing import MinMaxScaler\n",
        "\n",
        "scaler = MinMaxScaler() #0~1\n",
        "# 스케일을 적용할 column을 정의합니다.\n",
        "scale_cols = ['Open', 'High', 'Low', 'Close', 'Volume']\n",
        "# 스케일 후 columns\n",
        "scaled = scaler.fit_transform(stock[scale_cols])\n",
        "scaled\n",
        "# 칼럼 당 표준화\n",
        "# transform"
      ],
      "execution_count": null,
      "outputs": [
        {
          "output_type": "execute_result",
          "data": {
            "text/plain": [
              "array([[0.01028793, 0.00979339, 0.00988827, 0.00275558, 0.00685391],\n",
              "       [0.00994463, 0.0093905 , 0.0095419 , 0.00260065, 0.00717437],\n",
              "       [0.00954596, 0.00899793, 0.00945251, 0.00258958, 0.01267222],\n",
              "       ...,\n",
              "       [0.6744186 , 0.63119835, 0.67039106, 0.66025542, 0.15245676],\n",
              "       [0.66223699, 0.62086777, 0.66145251, 0.64808216, 0.15379125],\n",
              "       [0.65116279, 0.61570248, 0.65363128, 0.6469755 , 0.09605456]])"
            ]
          },
          "metadata": {},
          "execution_count": 26
        }
      ]
    },
    {
      "cell_type": "markdown",
      "metadata": {
        "id": "sQQhs9BoBudx"
      },
      "source": [
        "스케일이 완료된 column으로 새로운 데이터프레임을 생성합니다.\n",
        "\n",
        "**시간 순으로 정렬**되어 있으며, datetime index는 제외했습니다.\n",
        "\n",
        "*6,000개의 row, 5개 column*으로 이루어진 데이터셋이 DataFrame으로 정리되었습니다."
      ]
    },
    {
      "cell_type": "code",
      "metadata": {
        "id": "dIJjE21B0l5m"
      },
      "source": [
        "# 아래 코드는 그대로 실행해주세요.\n",
        "df = pd.DataFrame(scaled, columns=scale_cols)"
      ],
      "execution_count": null,
      "outputs": []
    },
    {
      "cell_type": "markdown",
      "metadata": {
        "id": "o91qHBM9Budy"
      },
      "source": [
        "### 문제 16. 모델 학습을 위해 train 데이터와 test 데이터로 분할해주세요."
      ]
    },
    {
      "cell_type": "code",
      "metadata": {
        "id": "EfLaczmvBudy"
      },
      "source": [
        "from sklearn.model_selection import train_test_split"
      ],
      "execution_count": null,
      "outputs": []
    },
    {
      "cell_type": "code",
      "metadata": {
        "id": "lWJLgnIZBudy"
      },
      "source": [
        "# Close 컬럼이 예측할 데이터입니다.\n",
        "# test_size는 0.2, random_state는 0으로 지정해주세요.\n",
        "# shuffle을 수행하지 않습니다.\n",
        "x_train, x_test, y_train, y_test = train_test_split(df.drop('Close', 1), df['Close'], test_size=0.2, random_state=0, shuffle=False)"
      ],
      "execution_count": null,
      "outputs": []
    },
    {
      "cell_type": "markdown",
      "metadata": {
        "id": "WIZKmyXKJXGI"
      },
      "source": [
        "### 문제 17. train 데이터와 test 데이터의 shape을 각각 살펴봅니다."
      ]
    },
    {
      "cell_type": "code",
      "metadata": {
        "id": "DB9gnTXzBudz",
        "colab": {
          "base_uri": "https://localhost:8080/"
        },
        "outputId": "f9ebc41f-9023-449f-cfc7-147733316152"
      },
      "source": [
        "x_train.shape, y_train.shape"
      ],
      "execution_count": null,
      "outputs": [
        {
          "output_type": "execute_result",
          "data": {
            "text/plain": [
              "((4800, 4), (4800,))"
            ]
          },
          "metadata": {},
          "execution_count": 30
        }
      ]
    },
    {
      "cell_type": "code",
      "metadata": {
        "id": "lNLz-MYcBudz",
        "colab": {
          "base_uri": "https://localhost:8080/"
        },
        "outputId": "cd7ced1f-07cb-49d2-8aec-4c701f80fa0f"
      },
      "source": [
        "x_test.shape, y_test.shape"
      ],
      "execution_count": null,
      "outputs": [
        {
          "output_type": "execute_result",
          "data": {
            "text/plain": [
              "((1200, 4), (1200,))"
            ]
          },
          "metadata": {},
          "execution_count": 31
        }
      ]
    },
    {
      "cell_type": "code",
      "metadata": {
        "id": "8DK9YaozBudz",
        "colab": {
          "base_uri": "https://localhost:8080/",
          "height": 424
        },
        "outputId": "da90609a-6a73-44ae-e8e1-d218c02eb3f9"
      },
      "source": [
        "x_train"
      ],
      "execution_count": null,
      "outputs": [
        {
          "output_type": "execute_result",
          "data": {
            "text/plain": [
              "          Open      High       Low    Volume\n",
              "0     0.010288  0.009793  0.009888  0.006854\n",
              "1     0.009945  0.009390  0.009542  0.007174\n",
              "2     0.009546  0.008998  0.009453  0.012672\n",
              "3     0.009269  0.008781  0.009095  0.006520\n",
              "4     0.009114  0.008564  0.009006  0.003614\n",
              "...        ...       ...       ...       ...\n",
              "4795  0.553931  0.516736  0.548156  0.002448\n",
              "4796  0.553931  0.523140  0.556648  0.003289\n",
              "4797  0.557918  0.520455  0.547933  0.002042\n",
              "4798  0.538649  0.502893  0.535866  0.002773\n",
              "4799  0.538870  0.507851  0.539665  0.002997\n",
              "\n",
              "[4800 rows x 4 columns]"
            ],
            "text/html": [
              "\n",
              "  <div id=\"df-4755c4e9-d0da-47e0-8091-73a66c4d596d\">\n",
              "    <div class=\"colab-df-container\">\n",
              "      <div>\n",
              "<style scoped>\n",
              "    .dataframe tbody tr th:only-of-type {\n",
              "        vertical-align: middle;\n",
              "    }\n",
              "\n",
              "    .dataframe tbody tr th {\n",
              "        vertical-align: top;\n",
              "    }\n",
              "\n",
              "    .dataframe thead th {\n",
              "        text-align: right;\n",
              "    }\n",
              "</style>\n",
              "<table border=\"1\" class=\"dataframe\">\n",
              "  <thead>\n",
              "    <tr style=\"text-align: right;\">\n",
              "      <th></th>\n",
              "      <th>Open</th>\n",
              "      <th>High</th>\n",
              "      <th>Low</th>\n",
              "      <th>Volume</th>\n",
              "    </tr>\n",
              "  </thead>\n",
              "  <tbody>\n",
              "    <tr>\n",
              "      <th>0</th>\n",
              "      <td>0.010288</td>\n",
              "      <td>0.009793</td>\n",
              "      <td>0.009888</td>\n",
              "      <td>0.006854</td>\n",
              "    </tr>\n",
              "    <tr>\n",
              "      <th>1</th>\n",
              "      <td>0.009945</td>\n",
              "      <td>0.009390</td>\n",
              "      <td>0.009542</td>\n",
              "      <td>0.007174</td>\n",
              "    </tr>\n",
              "    <tr>\n",
              "      <th>2</th>\n",
              "      <td>0.009546</td>\n",
              "      <td>0.008998</td>\n",
              "      <td>0.009453</td>\n",
              "      <td>0.012672</td>\n",
              "    </tr>\n",
              "    <tr>\n",
              "      <th>3</th>\n",
              "      <td>0.009269</td>\n",
              "      <td>0.008781</td>\n",
              "      <td>0.009095</td>\n",
              "      <td>0.006520</td>\n",
              "    </tr>\n",
              "    <tr>\n",
              "      <th>4</th>\n",
              "      <td>0.009114</td>\n",
              "      <td>0.008564</td>\n",
              "      <td>0.009006</td>\n",
              "      <td>0.003614</td>\n",
              "    </tr>\n",
              "    <tr>\n",
              "      <th>...</th>\n",
              "      <td>...</td>\n",
              "      <td>...</td>\n",
              "      <td>...</td>\n",
              "      <td>...</td>\n",
              "    </tr>\n",
              "    <tr>\n",
              "      <th>4795</th>\n",
              "      <td>0.553931</td>\n",
              "      <td>0.516736</td>\n",
              "      <td>0.548156</td>\n",
              "      <td>0.002448</td>\n",
              "    </tr>\n",
              "    <tr>\n",
              "      <th>4796</th>\n",
              "      <td>0.553931</td>\n",
              "      <td>0.523140</td>\n",
              "      <td>0.556648</td>\n",
              "      <td>0.003289</td>\n",
              "    </tr>\n",
              "    <tr>\n",
              "      <th>4797</th>\n",
              "      <td>0.557918</td>\n",
              "      <td>0.520455</td>\n",
              "      <td>0.547933</td>\n",
              "      <td>0.002042</td>\n",
              "    </tr>\n",
              "    <tr>\n",
              "      <th>4798</th>\n",
              "      <td>0.538649</td>\n",
              "      <td>0.502893</td>\n",
              "      <td>0.535866</td>\n",
              "      <td>0.002773</td>\n",
              "    </tr>\n",
              "    <tr>\n",
              "      <th>4799</th>\n",
              "      <td>0.538870</td>\n",
              "      <td>0.507851</td>\n",
              "      <td>0.539665</td>\n",
              "      <td>0.002997</td>\n",
              "    </tr>\n",
              "  </tbody>\n",
              "</table>\n",
              "<p>4800 rows × 4 columns</p>\n",
              "</div>\n",
              "      <button class=\"colab-df-convert\" onclick=\"convertToInteractive('df-4755c4e9-d0da-47e0-8091-73a66c4d596d')\"\n",
              "              title=\"Convert this dataframe to an interactive table.\"\n",
              "              style=\"display:none;\">\n",
              "        \n",
              "  <svg xmlns=\"http://www.w3.org/2000/svg\" height=\"24px\"viewBox=\"0 0 24 24\"\n",
              "       width=\"24px\">\n",
              "    <path d=\"M0 0h24v24H0V0z\" fill=\"none\"/>\n",
              "    <path d=\"M18.56 5.44l.94 2.06.94-2.06 2.06-.94-2.06-.94-.94-2.06-.94 2.06-2.06.94zm-11 1L8.5 8.5l.94-2.06 2.06-.94-2.06-.94L8.5 2.5l-.94 2.06-2.06.94zm10 10l.94 2.06.94-2.06 2.06-.94-2.06-.94-.94-2.06-.94 2.06-2.06.94z\"/><path d=\"M17.41 7.96l-1.37-1.37c-.4-.4-.92-.59-1.43-.59-.52 0-1.04.2-1.43.59L10.3 9.45l-7.72 7.72c-.78.78-.78 2.05 0 2.83L4 21.41c.39.39.9.59 1.41.59.51 0 1.02-.2 1.41-.59l7.78-7.78 2.81-2.81c.8-.78.8-2.07 0-2.86zM5.41 20L4 18.59l7.72-7.72 1.47 1.35L5.41 20z\"/>\n",
              "  </svg>\n",
              "      </button>\n",
              "      \n",
              "  <style>\n",
              "    .colab-df-container {\n",
              "      display:flex;\n",
              "      flex-wrap:wrap;\n",
              "      gap: 12px;\n",
              "    }\n",
              "\n",
              "    .colab-df-convert {\n",
              "      background-color: #E8F0FE;\n",
              "      border: none;\n",
              "      border-radius: 50%;\n",
              "      cursor: pointer;\n",
              "      display: none;\n",
              "      fill: #1967D2;\n",
              "      height: 32px;\n",
              "      padding: 0 0 0 0;\n",
              "      width: 32px;\n",
              "    }\n",
              "\n",
              "    .colab-df-convert:hover {\n",
              "      background-color: #E2EBFA;\n",
              "      box-shadow: 0px 1px 2px rgba(60, 64, 67, 0.3), 0px 1px 3px 1px rgba(60, 64, 67, 0.15);\n",
              "      fill: #174EA6;\n",
              "    }\n",
              "\n",
              "    [theme=dark] .colab-df-convert {\n",
              "      background-color: #3B4455;\n",
              "      fill: #D2E3FC;\n",
              "    }\n",
              "\n",
              "    [theme=dark] .colab-df-convert:hover {\n",
              "      background-color: #434B5C;\n",
              "      box-shadow: 0px 1px 3px 1px rgba(0, 0, 0, 0.15);\n",
              "      filter: drop-shadow(0px 1px 2px rgba(0, 0, 0, 0.3));\n",
              "      fill: #FFFFFF;\n",
              "    }\n",
              "  </style>\n",
              "\n",
              "      <script>\n",
              "        const buttonEl =\n",
              "          document.querySelector('#df-4755c4e9-d0da-47e0-8091-73a66c4d596d button.colab-df-convert');\n",
              "        buttonEl.style.display =\n",
              "          google.colab.kernel.accessAllowed ? 'block' : 'none';\n",
              "\n",
              "        async function convertToInteractive(key) {\n",
              "          const element = document.querySelector('#df-4755c4e9-d0da-47e0-8091-73a66c4d596d');\n",
              "          const dataTable =\n",
              "            await google.colab.kernel.invokeFunction('convertToInteractive',\n",
              "                                                     [key], {});\n",
              "          if (!dataTable) return;\n",
              "\n",
              "          const docLinkHtml = 'Like what you see? Visit the ' +\n",
              "            '<a target=\"_blank\" href=https://colab.research.google.com/notebooks/data_table.ipynb>data table notebook</a>'\n",
              "            + ' to learn more about interactive tables.';\n",
              "          element.innerHTML = '';\n",
              "          dataTable['output_type'] = 'display_data';\n",
              "          await google.colab.output.renderOutput(dataTable, element);\n",
              "          const docLink = document.createElement('div');\n",
              "          docLink.innerHTML = docLinkHtml;\n",
              "          element.appendChild(docLink);\n",
              "        }\n",
              "      </script>\n",
              "    </div>\n",
              "  </div>\n",
              "  "
            ]
          },
          "metadata": {},
          "execution_count": 32
        }
      ]
    },
    {
      "cell_type": "code",
      "source": [
        "print(y_train.dtype)"
      ],
      "metadata": {
        "colab": {
          "base_uri": "https://localhost:8080/"
        },
        "id": "bD4x5pr9E-y7",
        "outputId": "357ea4d3-db01-4789-ea22-df50e3657b07"
      },
      "execution_count": null,
      "outputs": [
        {
          "output_type": "stream",
          "name": "stdout",
          "text": [
            "float64\n"
          ]
        }
      ]
    },
    {
      "cell_type": "markdown",
      "metadata": {
        "id": "qr3eGxuxBud0"
      },
      "source": [
        "### 문제 18. TensroFlow Dataset을 활용해 시퀀스 데이터셋을 함수로 구현해주세요"
      ]
    },
    {
      "cell_type": "code",
      "metadata": {
        "id": "wOTgC-y2Bud0"
      },
      "source": [
        "import tensorflow as tf"
      ],
      "execution_count": null,
      "outputs": []
    },
    {
      "cell_type": "code",
      "metadata": {
        "id": "yOlPdfrsBud0"
      },
      "source": [
        "def windowed_dataset(series, window_size, batch_size, shuffle):\n",
        "    series = tf.expand_dims(series, axis=-1)\n",
        "    ds = tf.data.Dataset.from_tensor_slices(series)\n",
        "    ds = ds.window(window_size + 1, shift=1, drop_remainder=True)\n",
        "    ds = ds.flat_map(lambda w: w.batch(window_size + 1))\n",
        "    if shuffle:\n",
        "        ds = ds.shuffle(1000)\n",
        "    ds = ds.map(lambda w: (w[:-1], w[-1]))\n",
        "    return ds.batch(batch_size).prefetch(1)"
      ],
      "execution_count": null,
      "outputs": []
    },
    {
      "cell_type": "markdown",
      "metadata": {
        "id": "4UT0af9ANPTF"
      },
      "source": [
        "## Step 4. 모델 구현하기"
      ]
    },
    {
      "cell_type": "markdown",
      "metadata": {
        "id": "ht3fvb2kBud0"
      },
      "source": [
        "### 문제 19. Hyperparameter를 정의하고 데이터에 적용해주세요."
      ]
    },
    {
      "cell_type": "markdown",
      "source": [
        "window_size : 몇개를 가지고 그 다음것을 예측하겠느냐?\n",
        "\n",
        "\n",
        "window_size = 1: 하나가지고, 그 다음 것을 예측\n",
        "\n",
        "window_size=20 :그 이전의 20개의 데이터를 이용하여 예측을 하겠다는 말.\n",
        "\n",
        "20번째: 1~20 <- ??? 제대로못들음\n",
        "\n",
        "21번째: 2~21 <- ??? 제대로못들음\n",
        "\n",
        "batch_size=32: 4800/20 = 240. 240개를 독립적으로, 병렬적으로 돌리겠다는뜻. 메모리에 대한 효율적인 사용ㄴㄴ"
      ],
      "metadata": {
        "id": "Pi55TP3GFmSD"
      }
    },
    {
      "cell_type": "code",
      "metadata": {
        "id": "C894WM_pBud1"
      },
      "source": [
        "# 아래 코드는 그대로 실행해주세요.\n",
        "WINDOW_SIZE=20\n",
        "BATCH_SIZE=32"
      ],
      "execution_count": null,
      "outputs": []
    },
    {
      "cell_type": "code",
      "metadata": {
        "id": "81VrjjujBud1"
      },
      "source": [
        "# trian_data는 학습용 데이터셋, test_data는 검증용 데이터셋 입니다.\n",
        "# WINDOW_SIZE와 BATCH_SIZE를 각 데이터셋에 적용해주세요.\n",
        "train_data = windowed_dataset(y_train, WINDOW_SIZE, BATCH_SIZE, True)\n",
        "test_data = windowed_dataset(y_test, WINDOW_SIZE, BATCH_SIZE, False)"
      ],
      "execution_count": null,
      "outputs": []
    },
    {
      "cell_type": "code",
      "metadata": {
        "id": "aYPa6fkNBud1",
        "colab": {
          "base_uri": "https://localhost:8080/"
        },
        "outputId": "6f228cfe-f853-4f76-a18d-158ee79ace13"
      },
      "source": [
        "# 아래의 코드로 데이터셋의 구성을 확인해 볼 수 있습니다. 그대로 실행해보고, 데이터의 shape을 살펴보세요.\n",
        "# X: (batch_size, window_size, feature)\n",
        "# Y: (batch_size, feature)\n",
        "for data in train_data.take(1):\n",
        "    print(f'데이터셋(X) 구성(batch_size, window_size, feature갯수): {data[0].shape}')\n",
        "    print(f'데이터셋(Y) 구성(batch_size, window_size, feature갯수): {data[1].shape}')"
      ],
      "execution_count": null,
      "outputs": [
        {
          "output_type": "stream",
          "name": "stdout",
          "text": [
            "데이터셋(X) 구성(batch_size, window_size, feature갯수): (32, 20, 1)\n",
            "데이터셋(Y) 구성(batch_size, window_size, feature갯수): (32, 1)\n"
          ]
        }
      ]
    },
    {
      "cell_type": "markdown",
      "metadata": {
        "id": "rSmSQt-wBud1"
      },
      "source": [
        "### 문제 20. Sequential 모델을 구현합니다. "
      ]
    },
    {
      "cell_type": "code",
      "metadata": {
        "id": "mAkmGu1j0l8M",
        "colab": {
          "base_uri": "https://localhost:8080/"
        },
        "outputId": "4487999c-e716-4701-88d1-ab271e742a7e"
      },
      "source": [
        "from tensorflow.keras.models import Sequential\n",
        "from tensorflow.keras.layers import Dense, LSTM, Conv1D, Lambda # time dimension은 1이니까 Conv1D(7,8장에서는 이미지였으니까 Conv2D)\n",
        "from tensorflow.keras.losses import Huber\n",
        "from tensorflow.keras.optimizers import Adam\n",
        "from tensorflow.keras.callbacks import EarlyStopping, ModelCheckpoint\n",
        "\n",
        "\n",
        "model = Sequential([\n",
        "    # 1차원 feature map 생성합니다. filters는 32로, kernel_size는 5로 지정해주세요.\n",
        "    Conv1D(filters=32, kernel_size=5,\n",
        "           padding=\"causal\",\n",
        "           activation=\"relu\",\n",
        "           input_shape=[WINDOW_SIZE, 1]),\n",
        "    # LSTM과 Dense 레이러를 사용해주세요. 활성함수는 각각 tanh와 relu로 지정합니다.\n",
        "    LSTM(16, activation='relu'),\n",
        "    Dense(16, activation=\"relu\"),\n",
        "    Dense(1),\n",
        "])"
      ],
      "execution_count": null,
      "outputs": [
        {
          "output_type": "stream",
          "name": "stderr",
          "text": [
            "WARNING:tensorflow:Layer lstm_1 will not use cuDNN kernels since it doesn't meet the criteria. It will use a generic GPU kernel as fallback when running on GPU.\n"
          ]
        }
      ]
    },
    {
      "cell_type": "markdown",
      "metadata": {
        "id": "52H4IgnELRRt"
      },
      "source": [
        "### 문제 21. 모델을 Compile합니다. loss는 Huber 함수를 사용하고 optimizer는 Adam을 사용해주세요."
      ]
    },
    {
      "cell_type": "code",
      "metadata": {
        "id": "xShll_EX0l8T"
      },
      "source": [
        "# Sequence 학습에 비교적 좋은 퍼포먼스를 내는 Huber()를 사용합니다.\n",
        "loss = Huber() # loss는 Huber사용\n",
        "optimizer = Adam(0.0005)\n",
        "model.compile(loss=Huber(), optimizer=optimizer, metrics=['mse'])"
      ],
      "execution_count": null,
      "outputs": []
    },
    {
      "cell_type": "code",
      "metadata": {
        "id": "whZcvxsKBud2"
      },
      "source": [
        "# earlystopping은 10번 epoch통안 val_loss 개선이 없다면 학습을 멈춥니다.\n",
        "earlystopping = EarlyStopping(monitor='val_loss', patience=10)\n",
        "# val_loss 기준 체크포인터도 생성합니다.\n",
        "filename = os.path.join('tmp', 'ckeckpointer.ckpt')\n",
        "checkpoint = ModelCheckpoint(filename, \n",
        "                             save_weights_only=True, \n",
        "                             save_best_only=True, \n",
        "                             monitor='val_loss', \n",
        "                             verbose=1)"
      ],
      "execution_count": null,
      "outputs": []
    },
    {
      "cell_type": "code",
      "metadata": {
        "colab": {
          "base_uri": "https://localhost:8080/"
        },
        "id": "y9OuVTeBBud2",
        "outputId": "be2e82c7-fab2-45b1-a676-20328ec62942"
      },
      "source": [
        "# callbacks로 앞에서 구현한 earlystopping과 checkpoint를 지정해주세요.\n",
        "history = model.fit(train_data, \n",
        "                    validation_data=(test_data), \n",
        "                    epochs=5, \n",
        "                    callbacks=[checkpoint, earlystopping])"
      ],
      "execution_count": null,
      "outputs": [
        {
          "output_type": "stream",
          "name": "stdout",
          "text": [
            "Epoch 1/5\n",
            "    150/Unknown - 17s 41ms/step - loss: 3.2443e-04 - mse: 6.4885e-04\n",
            "Epoch 1: val_loss improved from inf to 0.00461, saving model to tmp/ckeckpointer.ckpt\n",
            "150/150 [==============================] - 17s 45ms/step - loss: 3.2443e-04 - mse: 6.4885e-04 - val_loss: 0.0046 - val_mse: 0.0092\n",
            "Epoch 2/5\n",
            "150/150 [==============================] - ETA: 0s - loss: 3.8642e-05 - mse: 7.7283e-05\n",
            "Epoch 2: val_loss improved from 0.00461 to 0.00133, saving model to tmp/ckeckpointer.ckpt\n",
            "150/150 [==============================] - 12s 77ms/step - loss: 3.8642e-05 - mse: 7.7283e-05 - val_loss: 0.0013 - val_mse: 0.0027\n",
            "Epoch 3/5\n",
            "150/150 [==============================] - ETA: 0s - loss: 2.8571e-05 - mse: 5.7142e-05\n",
            "Epoch 3: val_loss improved from 0.00133 to 0.00086, saving model to tmp/ckeckpointer.ckpt\n",
            "150/150 [==============================] - 10s 62ms/step - loss: 2.8571e-05 - mse: 5.7142e-05 - val_loss: 8.5697e-04 - val_mse: 0.0017\n",
            "Epoch 4/5\n",
            "150/150 [==============================] - ETA: 0s - loss: 2.8241e-05 - mse: 5.6482e-05\n",
            "Epoch 4: val_loss improved from 0.00086 to 0.00078, saving model to tmp/ckeckpointer.ckpt\n",
            "150/150 [==============================] - 11s 70ms/step - loss: 2.8241e-05 - mse: 5.6482e-05 - val_loss: 7.8425e-04 - val_mse: 0.0016\n",
            "Epoch 5/5\n",
            "149/150 [============================>.] - ETA: 0s - loss: 2.7578e-05 - mse: 5.5155e-05\n",
            "Epoch 5: val_loss did not improve from 0.00078\n",
            "150/150 [==============================] - 7s 44ms/step - loss: 2.7564e-05 - mse: 5.5128e-05 - val_loss: 0.0011 - val_mse: 0.0021\n"
          ]
        }
      ]
    },
    {
      "cell_type": "markdown",
      "metadata": {
        "id": "L0LQMnc-NZXo"
      },
      "source": [
        "## Step 5. 모델을 활용한 예측 및 결과 시각화"
      ]
    },
    {
      "cell_type": "markdown",
      "metadata": {
        "id": "qDTIxmbVBud3"
      },
      "source": [
        "### 문제 24. 저장한 ModelCheckpoint 를 불러옵니다."
      ]
    },
    {
      "cell_type": "code",
      "metadata": {
        "id": "RoPIDRSo32f-",
        "colab": {
          "base_uri": "https://localhost:8080/"
        },
        "outputId": "386b7336-aa3c-41ee-9708-d46b206fe5a9"
      },
      "source": [
        "model.load_weights(filename)"
      ],
      "execution_count": null,
      "outputs": [
        {
          "output_type": "execute_result",
          "data": {
            "text/plain": [
              "<tensorflow.python.training.tracking.util.CheckpointLoadStatus at 0x7f091432c460>"
            ]
          },
          "metadata": {},
          "execution_count": 47
        }
      ]
    },
    {
      "cell_type": "markdown",
      "metadata": {
        "id": "x0-oum0bBud3"
      },
      "source": [
        "### 문제 25. `test_data`를 활용하여 예측을 수행합니다."
      ]
    },
    {
      "cell_type": "code",
      "metadata": {
        "id": "WxAxSLNL0l8Z",
        "colab": {
          "base_uri": "https://localhost:8080/"
        },
        "outputId": "d27a067d-d292-4ce6-87f6-3aaab6fa03db"
      },
      "source": [
        "pred = model.predict(test_data)"
      ],
      "execution_count": null,
      "outputs": [
        {
          "output_type": "stream",
          "name": "stdout",
          "text": [
            "37/37 [==============================] - 0s 7ms/step\n"
          ]
        }
      ]
    },
    {
      "cell_type": "code",
      "metadata": {
        "colab": {
          "base_uri": "https://localhost:8080/"
        },
        "id": "yMPXjSQ10l8d",
        "outputId": "0c454fbd-f82c-4046-88aa-5cbeca985534"
      },
      "source": [
        "pred.shape"
      ],
      "execution_count": null,
      "outputs": [
        {
          "output_type": "execute_result",
          "data": {
            "text/plain": [
              "(1180, 1)"
            ]
          },
          "metadata": {},
          "execution_count": 49
        }
      ]
    },
    {
      "cell_type": "markdown",
      "metadata": {
        "id": "jaWpXnQf6zMt"
      },
      "source": [
        "### 문제 26. matplotlib을 활용해 예측 데이터를 시각화해주세요."
      ]
    },
    {
      "cell_type": "markdown",
      "metadata": {
        "id": "Vq2_mc7fBud4"
      },
      "source": [
        "아래 시각화 코드중 y_test 데이터에 **[20:]**으로 슬라이싱을 한 이유는\n",
        "\n",
        "예측 데이터에서 20일치의 데이터로 21일치를 예측해야하기 때문에 test_data로 예측 시 *앞의 20일은 예측하지 않습니다.*\n",
        "\n",
        "따라서, 20번 째 index와 비교하면 더욱 정확합니다."
      ]
    },
    {
      "cell_type": "code",
      "metadata": {
        "colab": {
          "base_uri": "https://localhost:8080/",
          "height": 537
        },
        "id": "2F4QQ1O_0l8m",
        "outputId": "cd50b099-0d52-45af-98e0-977422514501"
      },
      "source": [
        "# 20일치의 데이터로 21일치를 예측하므로 test_data 사용시 이전 20일은 예측하지 않습니다.\n",
        "# 따라서 y_test 데이터에 [20:]로 슬라이싱해주세요.\n",
        "plt.figure(figsize=(12, 9))\n",
        "plt.plot(np.asarray(y_test)[20:], label='actual')\n",
        "plt.plot(pred, label='prediction')\n",
        "plt.legend()\n",
        "plt.show()"
      ],
      "execution_count": null,
      "outputs": [
        {
          "output_type": "display_data",
          "data": {
            "text/plain": [
              "<Figure size 864x648 with 1 Axes>"
            ],
            "image/png": "[encoded data removed]"
          },
          "metadata": {
            "needs_background": "light"
          }
        }
      ]
    },
    {
      "cell_type": "code",
      "source": [
        "pred.shape"
      ],
      "metadata": {
        "colab": {
          "base_uri": "https://localhost:8080/"
        },
        "id": "KhbKNPQMGNmJ",
        "outputId": "dfeb35e3-fe6d-4645-a485-a974b90c55e8"
      },
      "execution_count": null,
      "outputs": [
        {
          "output_type": "execute_result",
          "data": {
            "text/plain": [
              "(1180, 1)"
            ]
          },
          "metadata": {},
          "execution_count": 70
        }
      ]
    },
    {
      "cell_type": "code",
      "source": [
        "y_test.shape"
      ],
      "metadata": {
        "colab": {
          "base_uri": "https://localhost:8080/"
        },
        "id": "xeWZs8CHGZKR",
        "outputId": "3c69e443-5637-4d09-f076-5a14186d18db"
      },
      "execution_count": null,
      "outputs": [
        {
          "output_type": "execute_result",
          "data": {
            "text/plain": [
              "(1200,)"
            ]
          },
          "metadata": {},
          "execution_count": 71
        }
      ]
    },
    {
      "cell_type": "code",
      "source": [
        "# 1200개 중에 1180개.\n",
        "# 처음에 20개는 버렸었음"
      ],
      "metadata": {
        "id": "xB6jxxo7HWSs"
      },
      "execution_count": null,
      "outputs": []
    }
  ]
}